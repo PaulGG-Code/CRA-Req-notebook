{
  "nbformat": 4,
  "nbformat_minor": 0,
  "metadata": {
    "colab": {
      "provenance": [],
      "authorship_tag": "ABX9TyPJPyuFWJ9YCyb/SDLCaBYy",
      "include_colab_link": true
    },
    "kernelspec": {
      "name": "python3",
      "display_name": "Python 3"
    },
    "language_info": {
      "name": "python"
    },
    "widgets": {
      "application/vnd.jupyter.widget-state+json": {
        "680f8d764d764e8e98e4f677f6b26395": {
          "model_module": "yfiles-jupyter-graphs",
          "model_name": "GraphModel",
          "model_module_version": "^1.10.1",
          "state": {
            "_context_pane_mapping": [
              {
                "id": "Neighborhood",
                "title": "Neighborhood"
              },
              {
                "id": "Data",
                "title": "Data"
              },
              {
                "id": "Search",
                "title": "Search"
              },
              {
                "id": "About",
                "title": "About"
              }
            ],
            "_data_importer": "unknown",
            "_directed": true,
            "_dom_classes": [],
            "_edges": [
              {
                "id": "Important_Critical_Software-13_IMPORTANT_Critical_products-12",
                "start": "Important_Critical_Software-13",
                "end": "IMPORTANT_Critical_products-12",
                "properties": {
                  "label": "COMMON_REQUIREMENT"
                },
                "color": "#15AFAC",
                "thickness_factor": 1,
                "directed": true,
                "styles": {},
                "label": "COMMON_REQUIREMENT"
              },
              {
                "id": "IMPORTANT_Critical_products-12_non_IMPORTANT_products_Software-14",
                "start": "IMPORTANT_Critical_products-12",
                "end": "non_IMPORTANT_products_Software-14",
                "properties": {
                  "label": "COMMON_REQUIREMENT"
                },
                "color": "#15AFAC",
                "thickness_factor": 1,
                "directed": true,
                "styles": {},
                "label": "COMMON_REQUIREMENT"
              },
              {
                "id": "Important_Critical_Software-14_IMPORTANT_Critical_products-13",
                "start": "Important_Critical_Software-14",
                "end": "IMPORTANT_Critical_products-13",
                "properties": {
                  "label": "COMMON_REQUIREMENT"
                },
                "color": "#15AFAC",
                "thickness_factor": 1,
                "directed": true,
                "styles": {},
                "label": "COMMON_REQUIREMENT"
              },
              {
                "id": "IMPORTANT_Critical_products-13_non_IMPORTANT_products_Software-15",
                "start": "IMPORTANT_Critical_products-13",
                "end": "non_IMPORTANT_products_Software-15",
                "properties": {
                  "label": "COMMON_REQUIREMENT"
                },
                "color": "#15AFAC",
                "thickness_factor": 1,
                "directed": true,
                "styles": {},
                "label": "COMMON_REQUIREMENT"
              },
              {
                "id": "Important_Critical_Software-15_IMPORTANT_Critical_products-14",
                "start": "Important_Critical_Software-15",
                "end": "IMPORTANT_Critical_products-14",
                "properties": {
                  "label": "COMMON_REQUIREMENT"
                },
                "color": "#15AFAC",
                "thickness_factor": 1,
                "directed": true,
                "styles": {},
                "label": "COMMON_REQUIREMENT"
              },
              {
                "id": "IMPORTANT_Critical_products-14_non_IMPORTANT_products_Software-16",
                "start": "IMPORTANT_Critical_products-14",
                "end": "non_IMPORTANT_products_Software-16",
                "properties": {
                  "label": "COMMON_REQUIREMENT"
                },
                "color": "#15AFAC",
                "thickness_factor": 1,
                "directed": true,
                "styles": {},
                "label": "COMMON_REQUIREMENT"
              },
              {
                "id": "Important_Critical_Software-17_IMPORTANT_Critical_products-16",
                "start": "Important_Critical_Software-17",
                "end": "IMPORTANT_Critical_products-16",
                "properties": {
                  "label": "COMMON_REQUIREMENT"
                },
                "color": "#15AFAC",
                "thickness_factor": 1,
                "directed": true,
                "styles": {},
                "label": "COMMON_REQUIREMENT"
              },
              {
                "id": "IMPORTANT_Critical_products-16_non_IMPORTANT_products_Software-18",
                "start": "IMPORTANT_Critical_products-16",
                "end": "non_IMPORTANT_products_Software-18",
                "properties": {
                  "label": "COMMON_REQUIREMENT"
                },
                "color": "#15AFAC",
                "thickness_factor": 1,
                "directed": true,
                "styles": {},
                "label": "COMMON_REQUIREMENT"
              },
              {
                "id": "Important_Critical_Software-18_IMPORTANT_Critical_products-17",
                "start": "Important_Critical_Software-18",
                "end": "IMPORTANT_Critical_products-17",
                "properties": {
                  "label": "COMMON_REQUIREMENT"
                },
                "color": "#15AFAC",
                "thickness_factor": 1,
                "directed": true,
                "styles": {},
                "label": "COMMON_REQUIREMENT"
              },
              {
                "id": "IMPORTANT_Critical_products-17_non_IMPORTANT_products_Software-19",
                "start": "IMPORTANT_Critical_products-17",
                "end": "non_IMPORTANT_products_Software-19",
                "properties": {
                  "label": "COMMON_REQUIREMENT"
                },
                "color": "#15AFAC",
                "thickness_factor": 1,
                "directed": true,
                "styles": {},
                "label": "COMMON_REQUIREMENT"
              },
              {
                "id": "Important_Critical_Software-19_IMPORTANT_Critical_products-18",
                "start": "Important_Critical_Software-19",
                "end": "IMPORTANT_Critical_products-18",
                "properties": {
                  "label": "COMMON_REQUIREMENT"
                },
                "color": "#15AFAC",
                "thickness_factor": 1,
                "directed": true,
                "styles": {},
                "label": "COMMON_REQUIREMENT"
              },
              {
                "id": "IMPORTANT_Critical_products-18_non_IMPORTANT_products_Software-20",
                "start": "IMPORTANT_Critical_products-18",
                "end": "non_IMPORTANT_products_Software-20",
                "properties": {
                  "label": "COMMON_REQUIREMENT"
                },
                "color": "#15AFAC",
                "thickness_factor": 1,
                "directed": true,
                "styles": {},
                "label": "COMMON_REQUIREMENT"
              },
              {
                "id": "Important_Critical_Software-20_IMPORTANT_Critical_products-19",
                "start": "Important_Critical_Software-20",
                "end": "IMPORTANT_Critical_products-19",
                "properties": {
                  "label": "COMMON_REQUIREMENT"
                },
                "color": "#15AFAC",
                "thickness_factor": 1,
                "directed": true,
                "styles": {},
                "label": "COMMON_REQUIREMENT"
              },
              {
                "id": "IMPORTANT_Critical_products-19_non_IMPORTANT_products_Software-21",
                "start": "IMPORTANT_Critical_products-19",
                "end": "non_IMPORTANT_products_Software-21",
                "properties": {
                  "label": "COMMON_REQUIREMENT"
                },
                "color": "#15AFAC",
                "thickness_factor": 1,
                "directed": true,
                "styles": {},
                "label": "COMMON_REQUIREMENT"
              },
              {
                "id": "Important_Critical_Software-21_IMPORTANT_Critical_products-20",
                "start": "Important_Critical_Software-21",
                "end": "IMPORTANT_Critical_products-20",
                "properties": {
                  "label": "COMMON_REQUIREMENT"
                },
                "color": "#15AFAC",
                "thickness_factor": 1,
                "directed": true,
                "styles": {},
                "label": "COMMON_REQUIREMENT"
              },
              {
                "id": "IMPORTANT_Critical_products-20_non_IMPORTANT_products_Software-22",
                "start": "IMPORTANT_Critical_products-20",
                "end": "non_IMPORTANT_products_Software-22",
                "properties": {
                  "label": "COMMON_REQUIREMENT"
                },
                "color": "#15AFAC",
                "thickness_factor": 1,
                "directed": true,
                "styles": {},
                "label": "COMMON_REQUIREMENT"
              },
              {
                "id": "Important_Critical_Software-22_IMPORTANT_Critical_products-21",
                "start": "Important_Critical_Software-22",
                "end": "IMPORTANT_Critical_products-21",
                "properties": {
                  "label": "COMMON_REQUIREMENT"
                },
                "color": "#15AFAC",
                "thickness_factor": 1,
                "directed": true,
                "styles": {},
                "label": "COMMON_REQUIREMENT"
              },
              {
                "id": "IMPORTANT_Critical_products-21_non_IMPORTANT_products_Software-23",
                "start": "IMPORTANT_Critical_products-21",
                "end": "non_IMPORTANT_products_Software-23",
                "properties": {
                  "label": "COMMON_REQUIREMENT"
                },
                "color": "#15AFAC",
                "thickness_factor": 1,
                "directed": true,
                "styles": {},
                "label": "COMMON_REQUIREMENT"
              },
              {
                "id": "Important_Critical_Software-23_IMPORTANT_Critical_products-22",
                "start": "Important_Critical_Software-23",
                "end": "IMPORTANT_Critical_products-22",
                "properties": {
                  "label": "COMMON_REQUIREMENT"
                },
                "color": "#15AFAC",
                "thickness_factor": 1,
                "directed": true,
                "styles": {},
                "label": "COMMON_REQUIREMENT"
              },
              {
                "id": "IMPORTANT_Critical_products-22_non_IMPORTANT_products_Software-24",
                "start": "IMPORTANT_Critical_products-22",
                "end": "non_IMPORTANT_products_Software-24",
                "properties": {
                  "label": "COMMON_REQUIREMENT"
                },
                "color": "#15AFAC",
                "thickness_factor": 1,
                "directed": true,
                "styles": {},
                "label": "COMMON_REQUIREMENT"
              },
              {
                "id": "Important_Critical_Software-24_IMPORTANT_Critical_products-23",
                "start": "Important_Critical_Software-24",
                "end": "IMPORTANT_Critical_products-23",
                "properties": {
                  "label": "COMMON_REQUIREMENT"
                },
                "color": "#15AFAC",
                "thickness_factor": 1,
                "directed": true,
                "styles": {},
                "label": "COMMON_REQUIREMENT"
              },
              {
                "id": "IMPORTANT_Critical_products-23_non_IMPORTANT_products_Software-25",
                "start": "IMPORTANT_Critical_products-23",
                "end": "non_IMPORTANT_products_Software-25",
                "properties": {
                  "label": "COMMON_REQUIREMENT"
                },
                "color": "#15AFAC",
                "thickness_factor": 1,
                "directed": true,
                "styles": {},
                "label": "COMMON_REQUIREMENT"
              },
              {
                "id": "Important_Critical_Software-25_IMPORTANT_Critical_products-24",
                "start": "Important_Critical_Software-25",
                "end": "IMPORTANT_Critical_products-24",
                "properties": {
                  "label": "COMMON_REQUIREMENT"
                },
                "color": "#15AFAC",
                "thickness_factor": 1,
                "directed": true,
                "styles": {},
                "label": "COMMON_REQUIREMENT"
              },
              {
                "id": "IMPORTANT_Critical_products-24_non_IMPORTANT_products_Software-26",
                "start": "IMPORTANT_Critical_products-24",
                "end": "non_IMPORTANT_products_Software-26",
                "properties": {
                  "label": "COMMON_REQUIREMENT"
                },
                "color": "#15AFAC",
                "thickness_factor": 1,
                "directed": true,
                "styles": {},
                "label": "COMMON_REQUIREMENT"
              },
              {
                "id": "Important_Critical_Software-26_IMPORTANT_Critical_products-25",
                "start": "Important_Critical_Software-26",
                "end": "IMPORTANT_Critical_products-25",
                "properties": {
                  "label": "COMMON_REQUIREMENT"
                },
                "color": "#15AFAC",
                "thickness_factor": 1,
                "directed": true,
                "styles": {},
                "label": "COMMON_REQUIREMENT"
              },
              {
                "id": "IMPORTANT_Critical_products-25_non_IMPORTANT_products_Software-27",
                "start": "IMPORTANT_Critical_products-25",
                "end": "non_IMPORTANT_products_Software-27",
                "properties": {
                  "label": "COMMON_REQUIREMENT"
                },
                "color": "#15AFAC",
                "thickness_factor": 1,
                "directed": true,
                "styles": {},
                "label": "COMMON_REQUIREMENT"
              },
              {
                "id": "Important_Critical_Software-27_IMPORTANT_Critical_products-26",
                "start": "Important_Critical_Software-27",
                "end": "IMPORTANT_Critical_products-26",
                "properties": {
                  "label": "COMMON_REQUIREMENT"
                },
                "color": "#15AFAC",
                "thickness_factor": 1,
                "directed": true,
                "styles": {},
                "label": "COMMON_REQUIREMENT"
              },
              {
                "id": "IMPORTANT_Critical_products-26_non_IMPORTANT_products_Software-28",
                "start": "IMPORTANT_Critical_products-26",
                "end": "non_IMPORTANT_products_Software-28",
                "properties": {
                  "label": "COMMON_REQUIREMENT"
                },
                "color": "#15AFAC",
                "thickness_factor": 1,
                "directed": true,
                "styles": {},
                "label": "COMMON_REQUIREMENT"
              },
              {
                "id": "Important_Critical_Software-29_IMPORTANT_Critical_products-28",
                "start": "Important_Critical_Software-29",
                "end": "IMPORTANT_Critical_products-28",
                "properties": {
                  "label": "COMMON_REQUIREMENT"
                },
                "color": "#15AFAC",
                "thickness_factor": 1,
                "directed": true,
                "styles": {},
                "label": "COMMON_REQUIREMENT"
              },
              {
                "id": "IMPORTANT_Critical_products-28_non_IMPORTANT_products_Software-30",
                "start": "IMPORTANT_Critical_products-28",
                "end": "non_IMPORTANT_products_Software-30",
                "properties": {
                  "label": "COMMON_REQUIREMENT"
                },
                "color": "#15AFAC",
                "thickness_factor": 1,
                "directed": true,
                "styles": {},
                "label": "COMMON_REQUIREMENT"
              },
              {
                "id": "Important_Critical_Software-30_IMPORTANT_Critical_products-29",
                "start": "Important_Critical_Software-30",
                "end": "IMPORTANT_Critical_products-29",
                "properties": {
                  "label": "COMMON_REQUIREMENT"
                },
                "color": "#15AFAC",
                "thickness_factor": 1,
                "directed": true,
                "styles": {},
                "label": "COMMON_REQUIREMENT"
              },
              {
                "id": "IMPORTANT_Critical_products-29_non_IMPORTANT_products_Software-31",
                "start": "IMPORTANT_Critical_products-29",
                "end": "non_IMPORTANT_products_Software-31",
                "properties": {
                  "label": "COMMON_REQUIREMENT"
                },
                "color": "#15AFAC",
                "thickness_factor": 1,
                "directed": true,
                "styles": {},
                "label": "COMMON_REQUIREMENT"
              },
              {
                "id": "Important_Critical_Software-31_IMPORTANT_Critical_products-30",
                "start": "Important_Critical_Software-31",
                "end": "IMPORTANT_Critical_products-30",
                "properties": {
                  "label": "COMMON_REQUIREMENT"
                },
                "color": "#15AFAC",
                "thickness_factor": 1,
                "directed": true,
                "styles": {},
                "label": "COMMON_REQUIREMENT"
              },
              {
                "id": "IMPORTANT_Critical_products-30_non_IMPORTANT_products_Software-32",
                "start": "IMPORTANT_Critical_products-30",
                "end": "non_IMPORTANT_products_Software-32",
                "properties": {
                  "label": "COMMON_REQUIREMENT"
                },
                "color": "#15AFAC",
                "thickness_factor": 1,
                "directed": true,
                "styles": {},
                "label": "COMMON_REQUIREMENT"
              },
              {
                "id": "Important_Critical_Software-33_IMPORTANT_Critical_products-32",
                "start": "Important_Critical_Software-33",
                "end": "IMPORTANT_Critical_products-32",
                "properties": {
                  "label": "COMMON_REQUIREMENT"
                },
                "color": "#15AFAC",
                "thickness_factor": 1,
                "directed": true,
                "styles": {},
                "label": "COMMON_REQUIREMENT"
              },
              {
                "id": "IMPORTANT_Critical_products-32_non_IMPORTANT_products_Software-34",
                "start": "IMPORTANT_Critical_products-32",
                "end": "non_IMPORTANT_products_Software-34",
                "properties": {
                  "label": "COMMON_REQUIREMENT"
                },
                "color": "#15AFAC",
                "thickness_factor": 1,
                "directed": true,
                "styles": {},
                "label": "COMMON_REQUIREMENT"
              },
              {
                "id": "Important_Critical_Software-34_IMPORTANT_Critical_products-33",
                "start": "Important_Critical_Software-34",
                "end": "IMPORTANT_Critical_products-33",
                "properties": {
                  "label": "COMMON_REQUIREMENT"
                },
                "color": "#15AFAC",
                "thickness_factor": 1,
                "directed": true,
                "styles": {},
                "label": "COMMON_REQUIREMENT"
              },
              {
                "id": "IMPORTANT_Critical_products-33_non_IMPORTANT_products_Software-35",
                "start": "IMPORTANT_Critical_products-33",
                "end": "non_IMPORTANT_products_Software-35",
                "properties": {
                  "label": "COMMON_REQUIREMENT"
                },
                "color": "#15AFAC",
                "thickness_factor": 1,
                "directed": true,
                "styles": {},
                "label": "COMMON_REQUIREMENT"
              },
              {
                "id": "Important_Critical_Software-35_IMPORTANT_Critical_products-34",
                "start": "Important_Critical_Software-35",
                "end": "IMPORTANT_Critical_products-34",
                "properties": {
                  "label": "COMMON_REQUIREMENT"
                },
                "color": "#15AFAC",
                "thickness_factor": 1,
                "directed": true,
                "styles": {},
                "label": "COMMON_REQUIREMENT"
              },
              {
                "id": "IMPORTANT_Critical_products-34_non_IMPORTANT_products_Software-36",
                "start": "IMPORTANT_Critical_products-34",
                "end": "non_IMPORTANT_products_Software-36",
                "properties": {
                  "label": "COMMON_REQUIREMENT"
                },
                "color": "#15AFAC",
                "thickness_factor": 1,
                "directed": true,
                "styles": {},
                "label": "COMMON_REQUIREMENT"
              },
              {
                "id": "Important_Critical_Software-43_IMPORTANT_Critical_products-43",
                "start": "Important_Critical_Software-43",
                "end": "IMPORTANT_Critical_products-43",
                "properties": {
                  "label": "COMMON_REQUIREMENT"
                },
                "color": "#15AFAC",
                "thickness_factor": 1,
                "directed": true,
                "styles": {},
                "label": "COMMON_REQUIREMENT"
              },
              {
                "id": "IMPORTANT_Critical_products-43_non_IMPORTANT_products_Software-46",
                "start": "IMPORTANT_Critical_products-43",
                "end": "non_IMPORTANT_products_Software-46",
                "properties": {
                  "label": "COMMON_REQUIREMENT"
                },
                "color": "#15AFAC",
                "thickness_factor": 1,
                "directed": true,
                "styles": {},
                "label": "COMMON_REQUIREMENT"
              },
              {
                "id": "Important_Critical_Software-44_IMPORTANT_Critical_products-44",
                "start": "Important_Critical_Software-44",
                "end": "IMPORTANT_Critical_products-44",
                "properties": {
                  "label": "COMMON_REQUIREMENT"
                },
                "color": "#15AFAC",
                "thickness_factor": 1,
                "directed": true,
                "styles": {},
                "label": "COMMON_REQUIREMENT"
              },
              {
                "id": "IMPORTANT_Critical_products-44_non_IMPORTANT_products_Software-47",
                "start": "IMPORTANT_Critical_products-44",
                "end": "non_IMPORTANT_products_Software-47",
                "properties": {
                  "label": "COMMON_REQUIREMENT"
                },
                "color": "#15AFAC",
                "thickness_factor": 1,
                "directed": true,
                "styles": {},
                "label": "COMMON_REQUIREMENT"
              },
              {
                "id": "Important_Critical_Software-45_IMPORTANT_Critical_products-45",
                "start": "Important_Critical_Software-45",
                "end": "IMPORTANT_Critical_products-45",
                "properties": {
                  "label": "COMMON_REQUIREMENT"
                },
                "color": "#15AFAC",
                "thickness_factor": 1,
                "directed": true,
                "styles": {},
                "label": "COMMON_REQUIREMENT"
              },
              {
                "id": "IMPORTANT_Critical_products-45_non_IMPORTANT_products_Software-48",
                "start": "IMPORTANT_Critical_products-45",
                "end": "non_IMPORTANT_products_Software-48",
                "properties": {
                  "label": "COMMON_REQUIREMENT"
                },
                "color": "#15AFAC",
                "thickness_factor": 1,
                "directed": true,
                "styles": {},
                "label": "COMMON_REQUIREMENT"
              },
              {
                "id": "Important_Critical_Software-46_IMPORTANT_Critical_products-46",
                "start": "Important_Critical_Software-46",
                "end": "IMPORTANT_Critical_products-46",
                "properties": {
                  "label": "COMMON_REQUIREMENT"
                },
                "color": "#15AFAC",
                "thickness_factor": 1,
                "directed": true,
                "styles": {},
                "label": "COMMON_REQUIREMENT"
              },
              {
                "id": "IMPORTANT_Critical_products-46_non_IMPORTANT_products_Software-49",
                "start": "IMPORTANT_Critical_products-46",
                "end": "non_IMPORTANT_products_Software-49",
                "properties": {
                  "label": "COMMON_REQUIREMENT"
                },
                "color": "#15AFAC",
                "thickness_factor": 1,
                "directed": true,
                "styles": {},
                "label": "COMMON_REQUIREMENT"
              },
              {
                "id": "Important_Critical_Software-47_IMPORTANT_Critical_products-47",
                "start": "Important_Critical_Software-47",
                "end": "IMPORTANT_Critical_products-47",
                "properties": {
                  "label": "COMMON_REQUIREMENT"
                },
                "color": "#15AFAC",
                "thickness_factor": 1,
                "directed": true,
                "styles": {},
                "label": "COMMON_REQUIREMENT"
              },
              {
                "id": "IMPORTANT_Critical_products-47_non_IMPORTANT_products_Software-50",
                "start": "IMPORTANT_Critical_products-47",
                "end": "non_IMPORTANT_products_Software-50",
                "properties": {
                  "label": "COMMON_REQUIREMENT"
                },
                "color": "#15AFAC",
                "thickness_factor": 1,
                "directed": true,
                "styles": {},
                "label": "COMMON_REQUIREMENT"
              },
              {
                "id": "Important_Critical_Software-48_IMPORTANT_Critical_products-48",
                "start": "Important_Critical_Software-48",
                "end": "IMPORTANT_Critical_products-48",
                "properties": {
                  "label": "COMMON_REQUIREMENT"
                },
                "color": "#15AFAC",
                "thickness_factor": 1,
                "directed": true,
                "styles": {},
                "label": "COMMON_REQUIREMENT"
              },
              {
                "id": "IMPORTANT_Critical_products-48_non_IMPORTANT_products_Software-51",
                "start": "IMPORTANT_Critical_products-48",
                "end": "non_IMPORTANT_products_Software-51",
                "properties": {
                  "label": "COMMON_REQUIREMENT"
                },
                "color": "#15AFAC",
                "thickness_factor": 1,
                "directed": true,
                "styles": {},
                "label": "COMMON_REQUIREMENT"
              },
              {
                "id": "Important_Critical_Software-49_IMPORTANT_Critical_products-49",
                "start": "Important_Critical_Software-49",
                "end": "IMPORTANT_Critical_products-49",
                "properties": {
                  "label": "COMMON_REQUIREMENT"
                },
                "color": "#15AFAC",
                "thickness_factor": 1,
                "directed": true,
                "styles": {},
                "label": "COMMON_REQUIREMENT"
              },
              {
                "id": "IMPORTANT_Critical_products-49_non_IMPORTANT_products_Software-52",
                "start": "IMPORTANT_Critical_products-49",
                "end": "non_IMPORTANT_products_Software-52",
                "properties": {
                  "label": "COMMON_REQUIREMENT"
                },
                "color": "#15AFAC",
                "thickness_factor": 1,
                "directed": true,
                "styles": {},
                "label": "COMMON_REQUIREMENT"
              },
              {
                "id": "Important_Critical_Software-50_IMPORTANT_Critical_products-50",
                "start": "Important_Critical_Software-50",
                "end": "IMPORTANT_Critical_products-50",
                "properties": {
                  "label": "COMMON_REQUIREMENT"
                },
                "color": "#15AFAC",
                "thickness_factor": 1,
                "directed": true,
                "styles": {},
                "label": "COMMON_REQUIREMENT"
              },
              {
                "id": "IMPORTANT_Critical_products-50_non_IMPORTANT_products_Software-53",
                "start": "IMPORTANT_Critical_products-50",
                "end": "non_IMPORTANT_products_Software-53",
                "properties": {
                  "label": "COMMON_REQUIREMENT"
                },
                "color": "#15AFAC",
                "thickness_factor": 1,
                "directed": true,
                "styles": {},
                "label": "COMMON_REQUIREMENT"
              },
              {
                "id": "Important_Critical_Software-51_IMPORTANT_Critical_products-51",
                "start": "Important_Critical_Software-51",
                "end": "IMPORTANT_Critical_products-51",
                "properties": {
                  "label": "COMMON_REQUIREMENT"
                },
                "color": "#15AFAC",
                "thickness_factor": 1,
                "directed": true,
                "styles": {},
                "label": "COMMON_REQUIREMENT"
              },
              {
                "id": "IMPORTANT_Critical_products-51_non_IMPORTANT_products_Software-54",
                "start": "IMPORTANT_Critical_products-51",
                "end": "non_IMPORTANT_products_Software-54",
                "properties": {
                  "label": "COMMON_REQUIREMENT"
                },
                "color": "#15AFAC",
                "thickness_factor": 1,
                "directed": true,
                "styles": {},
                "label": "COMMON_REQUIREMENT"
              },
              {
                "id": "Important_Critical_Software-52_IMPORTANT_Critical_products-52",
                "start": "Important_Critical_Software-52",
                "end": "IMPORTANT_Critical_products-52",
                "properties": {
                  "label": "COMMON_REQUIREMENT"
                },
                "color": "#15AFAC",
                "thickness_factor": 1,
                "directed": true,
                "styles": {},
                "label": "COMMON_REQUIREMENT"
              },
              {
                "id": "IMPORTANT_Critical_products-52_non_IMPORTANT_products_Software-55",
                "start": "IMPORTANT_Critical_products-52",
                "end": "non_IMPORTANT_products_Software-55",
                "properties": {
                  "label": "COMMON_REQUIREMENT"
                },
                "color": "#15AFAC",
                "thickness_factor": 1,
                "directed": true,
                "styles": {},
                "label": "COMMON_REQUIREMENT"
              },
              {
                "id": "Important_Critical_Software-53_IMPORTANT_Critical_products-53",
                "start": "Important_Critical_Software-53",
                "end": "IMPORTANT_Critical_products-53",
                "properties": {
                  "label": "COMMON_REQUIREMENT"
                },
                "color": "#15AFAC",
                "thickness_factor": 1,
                "directed": true,
                "styles": {},
                "label": "COMMON_REQUIREMENT"
              },
              {
                "id": "IMPORTANT_Critical_products-53_non_IMPORTANT_products_Software-56",
                "start": "IMPORTANT_Critical_products-53",
                "end": "non_IMPORTANT_products_Software-56",
                "properties": {
                  "label": "COMMON_REQUIREMENT"
                },
                "color": "#15AFAC",
                "thickness_factor": 1,
                "directed": true,
                "styles": {},
                "label": "COMMON_REQUIREMENT"
              },
              {
                "id": "Important_Critical_Software-54_IMPORTANT_Critical_products-54",
                "start": "Important_Critical_Software-54",
                "end": "IMPORTANT_Critical_products-54",
                "properties": {
                  "label": "COMMON_REQUIREMENT"
                },
                "color": "#15AFAC",
                "thickness_factor": 1,
                "directed": true,
                "styles": {},
                "label": "COMMON_REQUIREMENT"
              },
              {
                "id": "IMPORTANT_Critical_products-54_non_IMPORTANT_products_Software-57",
                "start": "IMPORTANT_Critical_products-54",
                "end": "non_IMPORTANT_products_Software-57",
                "properties": {
                  "label": "COMMON_REQUIREMENT"
                },
                "color": "#15AFAC",
                "thickness_factor": 1,
                "directed": true,
                "styles": {},
                "label": "COMMON_REQUIREMENT"
              },
              {
                "id": "Important_Critical_Software-55_IMPORTANT_Critical_products-55",
                "start": "Important_Critical_Software-55",
                "end": "IMPORTANT_Critical_products-55",
                "properties": {
                  "label": "COMMON_REQUIREMENT"
                },
                "color": "#15AFAC",
                "thickness_factor": 1,
                "directed": true,
                "styles": {},
                "label": "COMMON_REQUIREMENT"
              },
              {
                "id": "IMPORTANT_Critical_products-55_non_IMPORTANT_products_Software-58",
                "start": "IMPORTANT_Critical_products-55",
                "end": "non_IMPORTANT_products_Software-58",
                "properties": {
                  "label": "COMMON_REQUIREMENT"
                },
                "color": "#15AFAC",
                "thickness_factor": 1,
                "directed": true,
                "styles": {},
                "label": "COMMON_REQUIREMENT"
              },
              {
                "id": "Important_Critical_Software-56_IMPORTANT_Critical_products-56",
                "start": "Important_Critical_Software-56",
                "end": "IMPORTANT_Critical_products-56",
                "properties": {
                  "label": "COMMON_REQUIREMENT"
                },
                "color": "#15AFAC",
                "thickness_factor": 1,
                "directed": true,
                "styles": {},
                "label": "COMMON_REQUIREMENT"
              },
              {
                "id": "IMPORTANT_Critical_products-56_non_IMPORTANT_products_Software-59",
                "start": "IMPORTANT_Critical_products-56",
                "end": "non_IMPORTANT_products_Software-59",
                "properties": {
                  "label": "COMMON_REQUIREMENT"
                },
                "color": "#15AFAC",
                "thickness_factor": 1,
                "directed": true,
                "styles": {},
                "label": "COMMON_REQUIREMENT"
              },
              {
                "id": "Important_Critical_Software-57_IMPORTANT_Critical_products-57",
                "start": "Important_Critical_Software-57",
                "end": "IMPORTANT_Critical_products-57",
                "properties": {
                  "label": "COMMON_REQUIREMENT"
                },
                "color": "#15AFAC",
                "thickness_factor": 1,
                "directed": true,
                "styles": {},
                "label": "COMMON_REQUIREMENT"
              },
              {
                "id": "IMPORTANT_Critical_products-57_non_IMPORTANT_products_Software-60",
                "start": "IMPORTANT_Critical_products-57",
                "end": "non_IMPORTANT_products_Software-60",
                "properties": {
                  "label": "COMMON_REQUIREMENT"
                },
                "color": "#15AFAC",
                "thickness_factor": 1,
                "directed": true,
                "styles": {},
                "label": "COMMON_REQUIREMENT"
              },
              {
                "id": "Important_Critical_Software-58_IMPORTANT_Critical_products-58",
                "start": "Important_Critical_Software-58",
                "end": "IMPORTANT_Critical_products-58",
                "properties": {
                  "label": "COMMON_REQUIREMENT"
                },
                "color": "#15AFAC",
                "thickness_factor": 1,
                "directed": true,
                "styles": {},
                "label": "COMMON_REQUIREMENT"
              },
              {
                "id": "IMPORTANT_Critical_products-58_non_IMPORTANT_products_Software-61",
                "start": "IMPORTANT_Critical_products-58",
                "end": "non_IMPORTANT_products_Software-61",
                "properties": {
                  "label": "COMMON_REQUIREMENT"
                },
                "color": "#15AFAC",
                "thickness_factor": 1,
                "directed": true,
                "styles": {},
                "label": "COMMON_REQUIREMENT"
              },
              {
                "id": "Important_Critical_Software-59_IMPORTANT_Critical_products-59",
                "start": "Important_Critical_Software-59",
                "end": "IMPORTANT_Critical_products-59",
                "properties": {
                  "label": "COMMON_REQUIREMENT"
                },
                "color": "#15AFAC",
                "thickness_factor": 1,
                "directed": true,
                "styles": {},
                "label": "COMMON_REQUIREMENT"
              },
              {
                "id": "IMPORTANT_Critical_products-59_non_IMPORTANT_products_Software-62",
                "start": "IMPORTANT_Critical_products-59",
                "end": "non_IMPORTANT_products_Software-62",
                "properties": {
                  "label": "COMMON_REQUIREMENT"
                },
                "color": "#15AFAC",
                "thickness_factor": 1,
                "directed": true,
                "styles": {},
                "label": "COMMON_REQUIREMENT"
              },
              {
                "id": "Important_Critical_Software-66_IMPORTANT_Critical_products-66",
                "start": "Important_Critical_Software-66",
                "end": "IMPORTANT_Critical_products-66",
                "properties": {
                  "label": "COMMON_REQUIREMENT"
                },
                "color": "#15AFAC",
                "thickness_factor": 1,
                "directed": true,
                "styles": {},
                "label": "COMMON_REQUIREMENT"
              },
              {
                "id": "IMPORTANT_Critical_products-66_non_IMPORTANT_products_Software-70",
                "start": "IMPORTANT_Critical_products-66",
                "end": "non_IMPORTANT_products_Software-70",
                "properties": {
                  "label": "COMMON_REQUIREMENT"
                },
                "color": "#15AFAC",
                "thickness_factor": 1,
                "directed": true,
                "styles": {},
                "label": "COMMON_REQUIREMENT"
              },
              {
                "id": "Important_Critical_Software-67_IMPORTANT_Critical_products-67",
                "start": "Important_Critical_Software-67",
                "end": "IMPORTANT_Critical_products-67",
                "properties": {
                  "label": "COMMON_REQUIREMENT"
                },
                "color": "#15AFAC",
                "thickness_factor": 1,
                "directed": true,
                "styles": {},
                "label": "COMMON_REQUIREMENT"
              },
              {
                "id": "IMPORTANT_Critical_products-67_non_IMPORTANT_products_Software-71",
                "start": "IMPORTANT_Critical_products-67",
                "end": "non_IMPORTANT_products_Software-71",
                "properties": {
                  "label": "COMMON_REQUIREMENT"
                },
                "color": "#15AFAC",
                "thickness_factor": 1,
                "directed": true,
                "styles": {},
                "label": "COMMON_REQUIREMENT"
              },
              {
                "id": "Important_Critical_Software-68_IMPORTANT_Critical_products-68",
                "start": "Important_Critical_Software-68",
                "end": "IMPORTANT_Critical_products-68",
                "properties": {
                  "label": "COMMON_REQUIREMENT"
                },
                "color": "#15AFAC",
                "thickness_factor": 1,
                "directed": true,
                "styles": {},
                "label": "COMMON_REQUIREMENT"
              },
              {
                "id": "IMPORTANT_Critical_products-68_non_IMPORTANT_products_Software-72",
                "start": "IMPORTANT_Critical_products-68",
                "end": "non_IMPORTANT_products_Software-72",
                "properties": {
                  "label": "COMMON_REQUIREMENT"
                },
                "color": "#15AFAC",
                "thickness_factor": 1,
                "directed": true,
                "styles": {},
                "label": "COMMON_REQUIREMENT"
              },
              {
                "id": "Important_Critical_Software-69_IMPORTANT_Critical_products-69",
                "start": "Important_Critical_Software-69",
                "end": "IMPORTANT_Critical_products-69",
                "properties": {
                  "label": "COMMON_REQUIREMENT"
                },
                "color": "#15AFAC",
                "thickness_factor": 1,
                "directed": true,
                "styles": {},
                "label": "COMMON_REQUIREMENT"
              },
              {
                "id": "IMPORTANT_Critical_products-69_non_IMPORTANT_products_Software-73",
                "start": "IMPORTANT_Critical_products-69",
                "end": "non_IMPORTANT_products_Software-73",
                "properties": {
                  "label": "COMMON_REQUIREMENT"
                },
                "color": "#15AFAC",
                "thickness_factor": 1,
                "directed": true,
                "styles": {},
                "label": "COMMON_REQUIREMENT"
              },
              {
                "id": "Important_Critical_Software-70_IMPORTANT_Critical_products-70",
                "start": "Important_Critical_Software-70",
                "end": "IMPORTANT_Critical_products-70",
                "properties": {
                  "label": "COMMON_REQUIREMENT"
                },
                "color": "#15AFAC",
                "thickness_factor": 1,
                "directed": true,
                "styles": {},
                "label": "COMMON_REQUIREMENT"
              },
              {
                "id": "IMPORTANT_Critical_products-70_non_IMPORTANT_products_Software-74",
                "start": "IMPORTANT_Critical_products-70",
                "end": "non_IMPORTANT_products_Software-74",
                "properties": {
                  "label": "COMMON_REQUIREMENT"
                },
                "color": "#15AFAC",
                "thickness_factor": 1,
                "directed": true,
                "styles": {},
                "label": "COMMON_REQUIREMENT"
              },
              {
                "id": "Important_Critical_Software-71_IMPORTANT_Critical_products-71",
                "start": "Important_Critical_Software-71",
                "end": "IMPORTANT_Critical_products-71",
                "properties": {
                  "label": "COMMON_REQUIREMENT"
                },
                "color": "#15AFAC",
                "thickness_factor": 1,
                "directed": true,
                "styles": {},
                "label": "COMMON_REQUIREMENT"
              },
              {
                "id": "IMPORTANT_Critical_products-71_non_IMPORTANT_products_Software-75",
                "start": "IMPORTANT_Critical_products-71",
                "end": "non_IMPORTANT_products_Software-75",
                "properties": {
                  "label": "COMMON_REQUIREMENT"
                },
                "color": "#15AFAC",
                "thickness_factor": 1,
                "directed": true,
                "styles": {},
                "label": "COMMON_REQUIREMENT"
              },
              {
                "id": "Important_Critical_Software-72_IMPORTANT_Critical_products-72",
                "start": "Important_Critical_Software-72",
                "end": "IMPORTANT_Critical_products-72",
                "properties": {
                  "label": "COMMON_REQUIREMENT"
                },
                "color": "#15AFAC",
                "thickness_factor": 1,
                "directed": true,
                "styles": {},
                "label": "COMMON_REQUIREMENT"
              },
              {
                "id": "IMPORTANT_Critical_products-72_non_IMPORTANT_products_Software-76",
                "start": "IMPORTANT_Critical_products-72",
                "end": "non_IMPORTANT_products_Software-76",
                "properties": {
                  "label": "COMMON_REQUIREMENT"
                },
                "color": "#15AFAC",
                "thickness_factor": 1,
                "directed": true,
                "styles": {},
                "label": "COMMON_REQUIREMENT"
              },
              {
                "id": "Important_Critical_Software-73_IMPORTANT_Critical_products-73",
                "start": "Important_Critical_Software-73",
                "end": "IMPORTANT_Critical_products-73",
                "properties": {
                  "label": "COMMON_REQUIREMENT"
                },
                "color": "#15AFAC",
                "thickness_factor": 1,
                "directed": true,
                "styles": {},
                "label": "COMMON_REQUIREMENT"
              },
              {
                "id": "IMPORTANT_Critical_products-73_non_IMPORTANT_products_Software-77",
                "start": "IMPORTANT_Critical_products-73",
                "end": "non_IMPORTANT_products_Software-77",
                "properties": {
                  "label": "COMMON_REQUIREMENT"
                },
                "color": "#15AFAC",
                "thickness_factor": 1,
                "directed": true,
                "styles": {},
                "label": "COMMON_REQUIREMENT"
              },
              {
                "id": "Important_Critical_Software-74_IMPORTANT_Critical_products-74",
                "start": "Important_Critical_Software-74",
                "end": "IMPORTANT_Critical_products-74",
                "properties": {
                  "label": "COMMON_REQUIREMENT"
                },
                "color": "#15AFAC",
                "thickness_factor": 1,
                "directed": true,
                "styles": {},
                "label": "COMMON_REQUIREMENT"
              },
              {
                "id": "IMPORTANT_Critical_products-74_non_IMPORTANT_products_Software-78",
                "start": "IMPORTANT_Critical_products-74",
                "end": "non_IMPORTANT_products_Software-78",
                "properties": {
                  "label": "COMMON_REQUIREMENT"
                },
                "color": "#15AFAC",
                "thickness_factor": 1,
                "directed": true,
                "styles": {},
                "label": "COMMON_REQUIREMENT"
              },
              {
                "id": "Important_Critical_Software-75_IMPORTANT_Critical_products-75",
                "start": "Important_Critical_Software-75",
                "end": "IMPORTANT_Critical_products-75",
                "properties": {
                  "label": "COMMON_REQUIREMENT"
                },
                "color": "#15AFAC",
                "thickness_factor": 1,
                "directed": true,
                "styles": {},
                "label": "COMMON_REQUIREMENT"
              },
              {
                "id": "IMPORTANT_Critical_products-75_non_IMPORTANT_products_Software-79",
                "start": "IMPORTANT_Critical_products-75",
                "end": "non_IMPORTANT_products_Software-79",
                "properties": {
                  "label": "COMMON_REQUIREMENT"
                },
                "color": "#15AFAC",
                "thickness_factor": 1,
                "directed": true,
                "styles": {},
                "label": "COMMON_REQUIREMENT"
              },
              {
                "id": "Important_Critical_Software-76_Important_Critical_Software-99",
                "start": "Important_Critical_Software-76",
                "end": "Important_Critical_Software-99",
                "properties": {
                  "label": "COMMON_REQUIREMENT"
                },
                "color": "#15AFAC",
                "thickness_factor": 1,
                "directed": true,
                "styles": {},
                "label": "COMMON_REQUIREMENT"
              },
              {
                "id": "Important_Critical_Software-99_IMPORTANT_Critical_products-93",
                "start": "Important_Critical_Software-99",
                "end": "IMPORTANT_Critical_products-93",
                "properties": {
                  "label": "COMMON_REQUIREMENT"
                },
                "color": "#15AFAC",
                "thickness_factor": 1,
                "directed": true,
                "styles": {},
                "label": "COMMON_REQUIREMENT"
              },
              {
                "id": "IMPORTANT_Critical_products-93_non_IMPORTANT_products_Software-97",
                "start": "IMPORTANT_Critical_products-93",
                "end": "non_IMPORTANT_products_Software-97",
                "properties": {
                  "label": "COMMON_REQUIREMENT"
                },
                "color": "#15AFAC",
                "thickness_factor": 1,
                "directed": true,
                "styles": {},
                "label": "COMMON_REQUIREMENT"
              },
              {
                "id": "Important_Critical_Software-77_Important_Critical_Software-100",
                "start": "Important_Critical_Software-77",
                "end": "Important_Critical_Software-100",
                "properties": {
                  "label": "COMMON_REQUIREMENT"
                },
                "color": "#15AFAC",
                "thickness_factor": 1,
                "directed": true,
                "styles": {},
                "label": "COMMON_REQUIREMENT"
              },
              {
                "id": "Important_Critical_Software-100_IMPORTANT_Critical_products-94",
                "start": "Important_Critical_Software-100",
                "end": "IMPORTANT_Critical_products-94",
                "properties": {
                  "label": "COMMON_REQUIREMENT"
                },
                "color": "#15AFAC",
                "thickness_factor": 1,
                "directed": true,
                "styles": {},
                "label": "COMMON_REQUIREMENT"
              },
              {
                "id": "IMPORTANT_Critical_products-94_non_IMPORTANT_products_Software-98",
                "start": "IMPORTANT_Critical_products-94",
                "end": "non_IMPORTANT_products_Software-98",
                "properties": {
                  "label": "COMMON_REQUIREMENT"
                },
                "color": "#15AFAC",
                "thickness_factor": 1,
                "directed": true,
                "styles": {},
                "label": "COMMON_REQUIREMENT"
              },
              {
                "id": "Important_Critical_Software-78_Important_Critical_Software-101",
                "start": "Important_Critical_Software-78",
                "end": "Important_Critical_Software-101",
                "properties": {
                  "label": "COMMON_REQUIREMENT"
                },
                "color": "#15AFAC",
                "thickness_factor": 1,
                "directed": true,
                "styles": {},
                "label": "COMMON_REQUIREMENT"
              },
              {
                "id": "Important_Critical_Software-101_IMPORTANT_Critical_products-95",
                "start": "Important_Critical_Software-101",
                "end": "IMPORTANT_Critical_products-95",
                "properties": {
                  "label": "COMMON_REQUIREMENT"
                },
                "color": "#15AFAC",
                "thickness_factor": 1,
                "directed": true,
                "styles": {},
                "label": "COMMON_REQUIREMENT"
              },
              {
                "id": "IMPORTANT_Critical_products-95_non_IMPORTANT_products_Software-99",
                "start": "IMPORTANT_Critical_products-95",
                "end": "non_IMPORTANT_products_Software-99",
                "properties": {
                  "label": "COMMON_REQUIREMENT"
                },
                "color": "#15AFAC",
                "thickness_factor": 1,
                "directed": true,
                "styles": {},
                "label": "COMMON_REQUIREMENT"
              },
              {
                "id": "Important_Critical_Software-79_Important_Critical_Software-102",
                "start": "Important_Critical_Software-79",
                "end": "Important_Critical_Software-102",
                "properties": {
                  "label": "COMMON_REQUIREMENT"
                },
                "color": "#15AFAC",
                "thickness_factor": 1,
                "directed": true,
                "styles": {},
                "label": "COMMON_REQUIREMENT"
              },
              {
                "id": "Important_Critical_Software-102_IMPORTANT_Critical_products-96",
                "start": "Important_Critical_Software-102",
                "end": "IMPORTANT_Critical_products-96",
                "properties": {
                  "label": "COMMON_REQUIREMENT"
                },
                "color": "#15AFAC",
                "thickness_factor": 1,
                "directed": true,
                "styles": {},
                "label": "COMMON_REQUIREMENT"
              },
              {
                "id": "IMPORTANT_Critical_products-96_non_IMPORTANT_products_Software-100",
                "start": "IMPORTANT_Critical_products-96",
                "end": "non_IMPORTANT_products_Software-100",
                "properties": {
                  "label": "COMMON_REQUIREMENT"
                },
                "color": "#15AFAC",
                "thickness_factor": 1,
                "directed": true,
                "styles": {},
                "label": "COMMON_REQUIREMENT"
              },
              {
                "id": "Important_Critical_Software-80_Important_Critical_Software-103",
                "start": "Important_Critical_Software-80",
                "end": "Important_Critical_Software-103",
                "properties": {
                  "label": "COMMON_REQUIREMENT"
                },
                "color": "#15AFAC",
                "thickness_factor": 1,
                "directed": true,
                "styles": {},
                "label": "COMMON_REQUIREMENT"
              },
              {
                "id": "Important_Critical_Software-103_IMPORTANT_Critical_products-97",
                "start": "Important_Critical_Software-103",
                "end": "IMPORTANT_Critical_products-97",
                "properties": {
                  "label": "COMMON_REQUIREMENT"
                },
                "color": "#15AFAC",
                "thickness_factor": 1,
                "directed": true,
                "styles": {},
                "label": "COMMON_REQUIREMENT"
              },
              {
                "id": "IMPORTANT_Critical_products-97_non_IMPORTANT_products_Software-101",
                "start": "IMPORTANT_Critical_products-97",
                "end": "non_IMPORTANT_products_Software-101",
                "properties": {
                  "label": "COMMON_REQUIREMENT"
                },
                "color": "#15AFAC",
                "thickness_factor": 1,
                "directed": true,
                "styles": {},
                "label": "COMMON_REQUIREMENT"
              },
              {
                "id": "Important_Critical_Software-81_Important_Critical_Software-104",
                "start": "Important_Critical_Software-81",
                "end": "Important_Critical_Software-104",
                "properties": {
                  "label": "COMMON_REQUIREMENT"
                },
                "color": "#15AFAC",
                "thickness_factor": 1,
                "directed": true,
                "styles": {},
                "label": "COMMON_REQUIREMENT"
              },
              {
                "id": "Important_Critical_Software-104_IMPORTANT_Critical_products-98",
                "start": "Important_Critical_Software-104",
                "end": "IMPORTANT_Critical_products-98",
                "properties": {
                  "label": "COMMON_REQUIREMENT"
                },
                "color": "#15AFAC",
                "thickness_factor": 1,
                "directed": true,
                "styles": {},
                "label": "COMMON_REQUIREMENT"
              },
              {
                "id": "IMPORTANT_Critical_products-98_non_IMPORTANT_products_Software-102",
                "start": "IMPORTANT_Critical_products-98",
                "end": "non_IMPORTANT_products_Software-102",
                "properties": {
                  "label": "COMMON_REQUIREMENT"
                },
                "color": "#15AFAC",
                "thickness_factor": 1,
                "directed": true,
                "styles": {},
                "label": "COMMON_REQUIREMENT"
              },
              {
                "id": "Important_Critical_Software-89_IMPORTANT_Critical_products-83",
                "start": "Important_Critical_Software-89",
                "end": "IMPORTANT_Critical_products-83",
                "properties": {
                  "label": "COMMON_REQUIREMENT"
                },
                "color": "#15AFAC",
                "thickness_factor": 1,
                "directed": true,
                "styles": {},
                "label": "COMMON_REQUIREMENT"
              },
              {
                "id": "IMPORTANT_Critical_products-83_non_IMPORTANT_products_Software-87",
                "start": "IMPORTANT_Critical_products-83",
                "end": "non_IMPORTANT_products_Software-87",
                "properties": {
                  "label": "COMMON_REQUIREMENT"
                },
                "color": "#15AFAC",
                "thickness_factor": 1,
                "directed": true,
                "styles": {},
                "label": "COMMON_REQUIREMENT"
              },
              {
                "id": "Important_Critical_Software-90_IMPORTANT_Critical_products-84",
                "start": "Important_Critical_Software-90",
                "end": "IMPORTANT_Critical_products-84",
                "properties": {
                  "label": "COMMON_REQUIREMENT"
                },
                "color": "#15AFAC",
                "thickness_factor": 1,
                "directed": true,
                "styles": {},
                "label": "COMMON_REQUIREMENT"
              },
              {
                "id": "IMPORTANT_Critical_products-84_non_IMPORTANT_products_Software-88",
                "start": "IMPORTANT_Critical_products-84",
                "end": "non_IMPORTANT_products_Software-88",
                "properties": {
                  "label": "COMMON_REQUIREMENT"
                },
                "color": "#15AFAC",
                "thickness_factor": 1,
                "directed": true,
                "styles": {},
                "label": "COMMON_REQUIREMENT"
              },
              {
                "id": "Important_Critical_Software-91_IMPORTANT_Critical_products-85",
                "start": "Important_Critical_Software-91",
                "end": "IMPORTANT_Critical_products-85",
                "properties": {
                  "label": "COMMON_REQUIREMENT"
                },
                "color": "#15AFAC",
                "thickness_factor": 1,
                "directed": true,
                "styles": {},
                "label": "COMMON_REQUIREMENT"
              },
              {
                "id": "IMPORTANT_Critical_products-85_non_IMPORTANT_products_Software-89",
                "start": "IMPORTANT_Critical_products-85",
                "end": "non_IMPORTANT_products_Software-89",
                "properties": {
                  "label": "COMMON_REQUIREMENT"
                },
                "color": "#15AFAC",
                "thickness_factor": 1,
                "directed": true,
                "styles": {},
                "label": "COMMON_REQUIREMENT"
              },
              {
                "id": "Important_Critical_Software-92_IMPORTANT_Critical_products-86",
                "start": "Important_Critical_Software-92",
                "end": "IMPORTANT_Critical_products-86",
                "properties": {
                  "label": "COMMON_REQUIREMENT"
                },
                "color": "#15AFAC",
                "thickness_factor": 1,
                "directed": true,
                "styles": {},
                "label": "COMMON_REQUIREMENT"
              },
              {
                "id": "IMPORTANT_Critical_products-86_non_IMPORTANT_products_Software-90",
                "start": "IMPORTANT_Critical_products-86",
                "end": "non_IMPORTANT_products_Software-90",
                "properties": {
                  "label": "COMMON_REQUIREMENT"
                },
                "color": "#15AFAC",
                "thickness_factor": 1,
                "directed": true,
                "styles": {},
                "label": "COMMON_REQUIREMENT"
              },
              {
                "id": "Important_Critical_Software-93_IMPORTANT_Critical_products-87",
                "start": "Important_Critical_Software-93",
                "end": "IMPORTANT_Critical_products-87",
                "properties": {
                  "label": "COMMON_REQUIREMENT"
                },
                "color": "#15AFAC",
                "thickness_factor": 1,
                "directed": true,
                "styles": {},
                "label": "COMMON_REQUIREMENT"
              },
              {
                "id": "IMPORTANT_Critical_products-87_non_IMPORTANT_products_Software-91",
                "start": "IMPORTANT_Critical_products-87",
                "end": "non_IMPORTANT_products_Software-91",
                "properties": {
                  "label": "COMMON_REQUIREMENT"
                },
                "color": "#15AFAC",
                "thickness_factor": 1,
                "directed": true,
                "styles": {},
                "label": "COMMON_REQUIREMENT"
              },
              {
                "id": "Important_Critical_Software-94_IMPORTANT_Critical_products-88",
                "start": "Important_Critical_Software-94",
                "end": "IMPORTANT_Critical_products-88",
                "properties": {
                  "label": "COMMON_REQUIREMENT"
                },
                "color": "#15AFAC",
                "thickness_factor": 1,
                "directed": true,
                "styles": {},
                "label": "COMMON_REQUIREMENT"
              },
              {
                "id": "IMPORTANT_Critical_products-88_non_IMPORTANT_products_Software-92",
                "start": "IMPORTANT_Critical_products-88",
                "end": "non_IMPORTANT_products_Software-92",
                "properties": {
                  "label": "COMMON_REQUIREMENT"
                },
                "color": "#15AFAC",
                "thickness_factor": 1,
                "directed": true,
                "styles": {},
                "label": "COMMON_REQUIREMENT"
              },
              {
                "id": "Important_Critical_Software-95_IMPORTANT_Critical_products-89",
                "start": "Important_Critical_Software-95",
                "end": "IMPORTANT_Critical_products-89",
                "properties": {
                  "label": "COMMON_REQUIREMENT"
                },
                "color": "#15AFAC",
                "thickness_factor": 1,
                "directed": true,
                "styles": {},
                "label": "COMMON_REQUIREMENT"
              },
              {
                "id": "IMPORTANT_Critical_products-89_non_IMPORTANT_products_Software-93",
                "start": "IMPORTANT_Critical_products-89",
                "end": "non_IMPORTANT_products_Software-93",
                "properties": {
                  "label": "COMMON_REQUIREMENT"
                },
                "color": "#15AFAC",
                "thickness_factor": 1,
                "directed": true,
                "styles": {},
                "label": "COMMON_REQUIREMENT"
              },
              {
                "id": "Important_Critical_Software-96_IMPORTANT_Critical_products-90",
                "start": "Important_Critical_Software-96",
                "end": "IMPORTANT_Critical_products-90",
                "properties": {
                  "label": "COMMON_REQUIREMENT"
                },
                "color": "#15AFAC",
                "thickness_factor": 1,
                "directed": true,
                "styles": {},
                "label": "COMMON_REQUIREMENT"
              },
              {
                "id": "IMPORTANT_Critical_products-90_non_IMPORTANT_products_Software-94",
                "start": "IMPORTANT_Critical_products-90",
                "end": "non_IMPORTANT_products_Software-94",
                "properties": {
                  "label": "COMMON_REQUIREMENT"
                },
                "color": "#15AFAC",
                "thickness_factor": 1,
                "directed": true,
                "styles": {},
                "label": "COMMON_REQUIREMENT"
              },
              {
                "id": "Important_Critical_Software-97_IMPORTANT_Critical_products-91",
                "start": "Important_Critical_Software-97",
                "end": "IMPORTANT_Critical_products-91",
                "properties": {
                  "label": "COMMON_REQUIREMENT"
                },
                "color": "#15AFAC",
                "thickness_factor": 1,
                "directed": true,
                "styles": {},
                "label": "COMMON_REQUIREMENT"
              },
              {
                "id": "IMPORTANT_Critical_products-91_non_IMPORTANT_products_Software-95",
                "start": "IMPORTANT_Critical_products-91",
                "end": "non_IMPORTANT_products_Software-95",
                "properties": {
                  "label": "COMMON_REQUIREMENT"
                },
                "color": "#15AFAC",
                "thickness_factor": 1,
                "directed": true,
                "styles": {},
                "label": "COMMON_REQUIREMENT"
              },
              {
                "id": "Important_Critical_Software-98_IMPORTANT_Critical_products-92",
                "start": "Important_Critical_Software-98",
                "end": "IMPORTANT_Critical_products-92",
                "properties": {
                  "label": "COMMON_REQUIREMENT"
                },
                "color": "#15AFAC",
                "thickness_factor": 1,
                "directed": true,
                "styles": {},
                "label": "COMMON_REQUIREMENT"
              },
              {
                "id": "IMPORTANT_Critical_products-92_non_IMPORTANT_products_Software-96",
                "start": "IMPORTANT_Critical_products-92",
                "end": "non_IMPORTANT_products_Software-96",
                "properties": {
                  "label": "COMMON_REQUIREMENT"
                },
                "color": "#15AFAC",
                "thickness_factor": 1,
                "directed": true,
                "styles": {},
                "label": "COMMON_REQUIREMENT"
              },
              {
                "id": "Important_Critical_Software-111_IMPORTANT_Critical_products-104",
                "start": "Important_Critical_Software-111",
                "end": "IMPORTANT_Critical_products-104",
                "properties": {
                  "label": "COMMON_REQUIREMENT"
                },
                "color": "#15AFAC",
                "thickness_factor": 1,
                "directed": true,
                "styles": {},
                "label": "COMMON_REQUIREMENT"
              },
              {
                "id": "IMPORTANT_Critical_products-104_non_IMPORTANT_products_Software-109",
                "start": "IMPORTANT_Critical_products-104",
                "end": "non_IMPORTANT_products_Software-109",
                "properties": {
                  "label": "COMMON_REQUIREMENT"
                },
                "color": "#15AFAC",
                "thickness_factor": 1,
                "directed": true,
                "styles": {},
                "label": "COMMON_REQUIREMENT"
              },
              {
                "id": "Important_Critical_Software-112_IMPORTANT_Critical_products-105",
                "start": "Important_Critical_Software-112",
                "end": "IMPORTANT_Critical_products-105",
                "properties": {
                  "label": "COMMON_REQUIREMENT"
                },
                "color": "#15AFAC",
                "thickness_factor": 1,
                "directed": true,
                "styles": {},
                "label": "COMMON_REQUIREMENT"
              },
              {
                "id": "IMPORTANT_Critical_products-105_non_IMPORTANT_products_Software-110",
                "start": "IMPORTANT_Critical_products-105",
                "end": "non_IMPORTANT_products_Software-110",
                "properties": {
                  "label": "COMMON_REQUIREMENT"
                },
                "color": "#15AFAC",
                "thickness_factor": 1,
                "directed": true,
                "styles": {},
                "label": "COMMON_REQUIREMENT"
              },
              {
                "id": "non_IMPORTANT_products_Software-110_Developers_Open_Source-20",
                "start": "non_IMPORTANT_products_Software-110",
                "end": "Developers_Open_Source-20",
                "properties": {
                  "label": "COMMON_REQUIREMENT"
                },
                "color": "#15AFAC",
                "thickness_factor": 1,
                "directed": true,
                "styles": {},
                "label": "COMMON_REQUIREMENT"
              },
              {
                "id": "Important_Critical_Software-113_IMPORTANT_Critical_products-106",
                "start": "Important_Critical_Software-113",
                "end": "IMPORTANT_Critical_products-106",
                "properties": {
                  "label": "COMMON_REQUIREMENT"
                },
                "color": "#15AFAC",
                "thickness_factor": 1,
                "directed": true,
                "styles": {},
                "label": "COMMON_REQUIREMENT"
              },
              {
                "id": "IMPORTANT_Critical_products-106_non_IMPORTANT_products_Software-111",
                "start": "IMPORTANT_Critical_products-106",
                "end": "non_IMPORTANT_products_Software-111",
                "properties": {
                  "label": "COMMON_REQUIREMENT"
                },
                "color": "#15AFAC",
                "thickness_factor": 1,
                "directed": true,
                "styles": {},
                "label": "COMMON_REQUIREMENT"
              },
              {
                "id": "non_IMPORTANT_products_Software-111_Developers_Open_Source-21",
                "start": "non_IMPORTANT_products_Software-111",
                "end": "Developers_Open_Source-21",
                "properties": {
                  "label": "COMMON_REQUIREMENT"
                },
                "color": "#15AFAC",
                "thickness_factor": 1,
                "directed": true,
                "styles": {},
                "label": "COMMON_REQUIREMENT"
              },
              {
                "id": "Important_Critical_Software-114_IMPORTANT_Critical_products-107",
                "start": "Important_Critical_Software-114",
                "end": "IMPORTANT_Critical_products-107",
                "properties": {
                  "label": "COMMON_REQUIREMENT"
                },
                "color": "#15AFAC",
                "thickness_factor": 1,
                "directed": true,
                "styles": {},
                "label": "COMMON_REQUIREMENT"
              },
              {
                "id": "IMPORTANT_Critical_products-107_non_IMPORTANT_products_Software-112",
                "start": "IMPORTANT_Critical_products-107",
                "end": "non_IMPORTANT_products_Software-112",
                "properties": {
                  "label": "COMMON_REQUIREMENT"
                },
                "color": "#15AFAC",
                "thickness_factor": 1,
                "directed": true,
                "styles": {},
                "label": "COMMON_REQUIREMENT"
              },
              {
                "id": "non_IMPORTANT_products_Software-112_Developers_Open_Source-22",
                "start": "non_IMPORTANT_products_Software-112",
                "end": "Developers_Open_Source-22",
                "properties": {
                  "label": "COMMON_REQUIREMENT"
                },
                "color": "#15AFAC",
                "thickness_factor": 1,
                "directed": true,
                "styles": {},
                "label": "COMMON_REQUIREMENT"
              },
              {
                "id": "Important_Critical_Software-115_IMPORTANT_Critical_products-108",
                "start": "Important_Critical_Software-115",
                "end": "IMPORTANT_Critical_products-108",
                "properties": {
                  "label": "COMMON_REQUIREMENT"
                },
                "color": "#15AFAC",
                "thickness_factor": 1,
                "directed": true,
                "styles": {},
                "label": "COMMON_REQUIREMENT"
              },
              {
                "id": "IMPORTANT_Critical_products-108_non_IMPORTANT_products_Software-113",
                "start": "IMPORTANT_Critical_products-108",
                "end": "non_IMPORTANT_products_Software-113",
                "properties": {
                  "label": "COMMON_REQUIREMENT"
                },
                "color": "#15AFAC",
                "thickness_factor": 1,
                "directed": true,
                "styles": {},
                "label": "COMMON_REQUIREMENT"
              },
              {
                "id": "Important_Critical_Software-116_IMPORTANT_Critical_products-109",
                "start": "Important_Critical_Software-116",
                "end": "IMPORTANT_Critical_products-109",
                "properties": {
                  "label": "COMMON_REQUIREMENT"
                },
                "color": "#15AFAC",
                "thickness_factor": 1,
                "directed": true,
                "styles": {},
                "label": "COMMON_REQUIREMENT"
              },
              {
                "id": "IMPORTANT_Critical_products-109_non_IMPORTANT_products_Software-114",
                "start": "IMPORTANT_Critical_products-109",
                "end": "non_IMPORTANT_products_Software-114",
                "properties": {
                  "label": "COMMON_REQUIREMENT"
                },
                "color": "#15AFAC",
                "thickness_factor": 1,
                "directed": true,
                "styles": {},
                "label": "COMMON_REQUIREMENT"
              },
              {
                "id": "Important_Critical_Software-117_IMPORTANT_Critical_products-110",
                "start": "Important_Critical_Software-117",
                "end": "IMPORTANT_Critical_products-110",
                "properties": {
                  "label": "COMMON_REQUIREMENT"
                },
                "color": "#15AFAC",
                "thickness_factor": 1,
                "directed": true,
                "styles": {},
                "label": "COMMON_REQUIREMENT"
              },
              {
                "id": "IMPORTANT_Critical_products-110_non_IMPORTANT_products_Software-115",
                "start": "IMPORTANT_Critical_products-110",
                "end": "non_IMPORTANT_products_Software-115",
                "properties": {
                  "label": "COMMON_REQUIREMENT"
                },
                "color": "#15AFAC",
                "thickness_factor": 1,
                "directed": true,
                "styles": {},
                "label": "COMMON_REQUIREMENT"
              },
              {
                "id": "Important_Critical_Software-118_IMPORTANT_Critical_products-111",
                "start": "Important_Critical_Software-118",
                "end": "IMPORTANT_Critical_products-111",
                "properties": {
                  "label": "COMMON_REQUIREMENT"
                },
                "color": "#15AFAC",
                "thickness_factor": 1,
                "directed": true,
                "styles": {},
                "label": "COMMON_REQUIREMENT"
              },
              {
                "id": "IMPORTANT_Critical_products-111_non_IMPORTANT_products_Software-116",
                "start": "IMPORTANT_Critical_products-111",
                "end": "non_IMPORTANT_products_Software-116",
                "properties": {
                  "label": "COMMON_REQUIREMENT"
                },
                "color": "#15AFAC",
                "thickness_factor": 1,
                "directed": true,
                "styles": {},
                "label": "COMMON_REQUIREMENT"
              },
              {
                "id": "Important_Critical_Software-119_IMPORTANT_Critical_products-112",
                "start": "Important_Critical_Software-119",
                "end": "IMPORTANT_Critical_products-112",
                "properties": {
                  "label": "COMMON_REQUIREMENT"
                },
                "color": "#15AFAC",
                "thickness_factor": 1,
                "directed": true,
                "styles": {},
                "label": "COMMON_REQUIREMENT"
              },
              {
                "id": "IMPORTANT_Critical_products-112_non_IMPORTANT_products_Software-117",
                "start": "IMPORTANT_Critical_products-112",
                "end": "non_IMPORTANT_products_Software-117",
                "properties": {
                  "label": "COMMON_REQUIREMENT"
                },
                "color": "#15AFAC",
                "thickness_factor": 1,
                "directed": true,
                "styles": {},
                "label": "COMMON_REQUIREMENT"
              },
              {
                "id": "Important_Critical_Software-120_IMPORTANT_Critical_products-113",
                "start": "Important_Critical_Software-120",
                "end": "IMPORTANT_Critical_products-113",
                "properties": {
                  "label": "COMMON_REQUIREMENT"
                },
                "color": "#15AFAC",
                "thickness_factor": 1,
                "directed": true,
                "styles": {},
                "label": "COMMON_REQUIREMENT"
              },
              {
                "id": "IMPORTANT_Critical_products-113_non_IMPORTANT_products_Software-118",
                "start": "IMPORTANT_Critical_products-113",
                "end": "non_IMPORTANT_products_Software-118",
                "properties": {
                  "label": "COMMON_REQUIREMENT"
                },
                "color": "#15AFAC",
                "thickness_factor": 1,
                "directed": true,
                "styles": {},
                "label": "COMMON_REQUIREMENT"
              },
              {
                "id": "non_IMPORTANT_products_Software-118_Developers_Open_Source-26",
                "start": "non_IMPORTANT_products_Software-118",
                "end": "Developers_Open_Source-26",
                "properties": {
                  "label": "COMMON_REQUIREMENT"
                },
                "color": "#15AFAC",
                "thickness_factor": 1,
                "directed": true,
                "styles": {},
                "label": "COMMON_REQUIREMENT"
              },
              {
                "id": "Important_Critical_Software-121_IMPORTANT_Critical_products-114",
                "start": "Important_Critical_Software-121",
                "end": "IMPORTANT_Critical_products-114",
                "properties": {
                  "label": "COMMON_REQUIREMENT"
                },
                "color": "#15AFAC",
                "thickness_factor": 1,
                "directed": true,
                "styles": {},
                "label": "COMMON_REQUIREMENT"
              },
              {
                "id": "IMPORTANT_Critical_products-114_non_IMPORTANT_products_Software-119",
                "start": "IMPORTANT_Critical_products-114",
                "end": "non_IMPORTANT_products_Software-119",
                "properties": {
                  "label": "COMMON_REQUIREMENT"
                },
                "color": "#15AFAC",
                "thickness_factor": 1,
                "directed": true,
                "styles": {},
                "label": "COMMON_REQUIREMENT"
              },
              {
                "id": "non_IMPORTANT_products_Software-119_Developers_Open_Source-27",
                "start": "non_IMPORTANT_products_Software-119",
                "end": "Developers_Open_Source-27",
                "properties": {
                  "label": "COMMON_REQUIREMENT"
                },
                "color": "#15AFAC",
                "thickness_factor": 1,
                "directed": true,
                "styles": {},
                "label": "COMMON_REQUIREMENT"
              },
              {
                "id": "Important_Critical_Software-122_IMPORTANT_Critical_products-115",
                "start": "Important_Critical_Software-122",
                "end": "IMPORTANT_Critical_products-115",
                "properties": {
                  "label": "COMMON_REQUIREMENT"
                },
                "color": "#15AFAC",
                "thickness_factor": 1,
                "directed": true,
                "styles": {},
                "label": "COMMON_REQUIREMENT"
              },
              {
                "id": "IMPORTANT_Critical_products-115_non_IMPORTANT_products_Software-120",
                "start": "IMPORTANT_Critical_products-115",
                "end": "non_IMPORTANT_products_Software-120",
                "properties": {
                  "label": "COMMON_REQUIREMENT"
                },
                "color": "#15AFAC",
                "thickness_factor": 1,
                "directed": true,
                "styles": {},
                "label": "COMMON_REQUIREMENT"
              },
              {
                "id": "non_IMPORTANT_products_Software-120_Developers_Open_Source-28",
                "start": "non_IMPORTANT_products_Software-120",
                "end": "Developers_Open_Source-28",
                "properties": {
                  "label": "COMMON_REQUIREMENT"
                },
                "color": "#15AFAC",
                "thickness_factor": 1,
                "directed": true,
                "styles": {},
                "label": "COMMON_REQUIREMENT"
              },
              {
                "id": "Important_Critical_Software-123_IMPORTANT_Critical_products-116",
                "start": "Important_Critical_Software-123",
                "end": "IMPORTANT_Critical_products-116",
                "properties": {
                  "label": "COMMON_REQUIREMENT"
                },
                "color": "#15AFAC",
                "thickness_factor": 1,
                "directed": true,
                "styles": {},
                "label": "COMMON_REQUIREMENT"
              },
              {
                "id": "IMPORTANT_Critical_products-116_non_IMPORTANT_products_Software-121",
                "start": "IMPORTANT_Critical_products-116",
                "end": "non_IMPORTANT_products_Software-121",
                "properties": {
                  "label": "COMMON_REQUIREMENT"
                },
                "color": "#15AFAC",
                "thickness_factor": 1,
                "directed": true,
                "styles": {},
                "label": "COMMON_REQUIREMENT"
              },
              {
                "id": "Important_Critical_Software-124_IMPORTANT_Critical_products-117",
                "start": "Important_Critical_Software-124",
                "end": "IMPORTANT_Critical_products-117",
                "properties": {
                  "label": "COMMON_REQUIREMENT"
                },
                "color": "#15AFAC",
                "thickness_factor": 1,
                "directed": true,
                "styles": {},
                "label": "COMMON_REQUIREMENT"
              },
              {
                "id": "IMPORTANT_Critical_products-117_non_IMPORTANT_products_Software-122",
                "start": "IMPORTANT_Critical_products-117",
                "end": "non_IMPORTANT_products_Software-122",
                "properties": {
                  "label": "COMMON_REQUIREMENT"
                },
                "color": "#15AFAC",
                "thickness_factor": 1,
                "directed": true,
                "styles": {},
                "label": "COMMON_REQUIREMENT"
              },
              {
                "id": "Important_Critical_Software-125_IMPORTANT_Critical_products-118",
                "start": "Important_Critical_Software-125",
                "end": "IMPORTANT_Critical_products-118",
                "properties": {
                  "label": "COMMON_REQUIREMENT"
                },
                "color": "#15AFAC",
                "thickness_factor": 1,
                "directed": true,
                "styles": {},
                "label": "COMMON_REQUIREMENT"
              },
              {
                "id": "IMPORTANT_Critical_products-118_non_IMPORTANT_products_Software-123",
                "start": "IMPORTANT_Critical_products-118",
                "end": "non_IMPORTANT_products_Software-123",
                "properties": {
                  "label": "COMMON_REQUIREMENT"
                },
                "color": "#15AFAC",
                "thickness_factor": 1,
                "directed": true,
                "styles": {},
                "label": "COMMON_REQUIREMENT"
              },
              {
                "id": "Important_Critical_Software-126_IMPORTANT_Critical_products-119",
                "start": "Important_Critical_Software-126",
                "end": "IMPORTANT_Critical_products-119",
                "properties": {
                  "label": "COMMON_REQUIREMENT"
                },
                "color": "#15AFAC",
                "thickness_factor": 1,
                "directed": true,
                "styles": {},
                "label": "COMMON_REQUIREMENT"
              },
              {
                "id": "IMPORTANT_Critical_products-119_non_IMPORTANT_products_Software-124",
                "start": "IMPORTANT_Critical_products-119",
                "end": "non_IMPORTANT_products_Software-124",
                "properties": {
                  "label": "COMMON_REQUIREMENT"
                },
                "color": "#15AFAC",
                "thickness_factor": 1,
                "directed": true,
                "styles": {},
                "label": "COMMON_REQUIREMENT"
              },
              {
                "id": "Important_Critical_Software-127_IMPORTANT_Critical_products-120",
                "start": "Important_Critical_Software-127",
                "end": "IMPORTANT_Critical_products-120",
                "properties": {
                  "label": "COMMON_REQUIREMENT"
                },
                "color": "#15AFAC",
                "thickness_factor": 1,
                "directed": true,
                "styles": {},
                "label": "COMMON_REQUIREMENT"
              },
              {
                "id": "IMPORTANT_Critical_products-120_non_IMPORTANT_products_Software-125",
                "start": "IMPORTANT_Critical_products-120",
                "end": "non_IMPORTANT_products_Software-125",
                "properties": {
                  "label": "COMMON_REQUIREMENT"
                },
                "color": "#15AFAC",
                "thickness_factor": 1,
                "directed": true,
                "styles": {},
                "label": "COMMON_REQUIREMENT"
              },
              {
                "id": "non_IMPORTANT_products_Software-125_Developers_Open_Source-33",
                "start": "non_IMPORTANT_products_Software-125",
                "end": "Developers_Open_Source-33",
                "properties": {
                  "label": "COMMON_REQUIREMENT"
                },
                "color": "#15AFAC",
                "thickness_factor": 1,
                "directed": true,
                "styles": {},
                "label": "COMMON_REQUIREMENT"
              },
              {
                "id": "Important_Critical_Software-128_IMPORTANT_Critical_products-121",
                "start": "Important_Critical_Software-128",
                "end": "IMPORTANT_Critical_products-121",
                "properties": {
                  "label": "COMMON_REQUIREMENT"
                },
                "color": "#15AFAC",
                "thickness_factor": 1,
                "directed": true,
                "styles": {},
                "label": "COMMON_REQUIREMENT"
              },
              {
                "id": "IMPORTANT_Critical_products-121_non_IMPORTANT_products_Software-126",
                "start": "IMPORTANT_Critical_products-121",
                "end": "non_IMPORTANT_products_Software-126",
                "properties": {
                  "label": "COMMON_REQUIREMENT"
                },
                "color": "#15AFAC",
                "thickness_factor": 1,
                "directed": true,
                "styles": {},
                "label": "COMMON_REQUIREMENT"
              },
              {
                "id": "Important_Critical_Software-129_IMPORTANT_Critical_products-122",
                "start": "Important_Critical_Software-129",
                "end": "IMPORTANT_Critical_products-122",
                "properties": {
                  "label": "COMMON_REQUIREMENT"
                },
                "color": "#15AFAC",
                "thickness_factor": 1,
                "directed": true,
                "styles": {},
                "label": "COMMON_REQUIREMENT"
              },
              {
                "id": "IMPORTANT_Critical_products-122_non_IMPORTANT_products_Software-127",
                "start": "IMPORTANT_Critical_products-122",
                "end": "non_IMPORTANT_products_Software-127",
                "properties": {
                  "label": "COMMON_REQUIREMENT"
                },
                "color": "#15AFAC",
                "thickness_factor": 1,
                "directed": true,
                "styles": {},
                "label": "COMMON_REQUIREMENT"
              },
              {
                "id": "Important_Critical_Software-135_IMPORTANT_Critical_products-129",
                "start": "Important_Critical_Software-135",
                "end": "IMPORTANT_Critical_products-129",
                "properties": {
                  "label": "COMMON_REQUIREMENT"
                },
                "color": "#15AFAC",
                "thickness_factor": 1,
                "directed": true,
                "styles": {},
                "label": "COMMON_REQUIREMENT"
              },
              {
                "id": "Important_Critical_Software-136_IMPORTANT_Critical_products-130",
                "start": "Important_Critical_Software-136",
                "end": "IMPORTANT_Critical_products-130",
                "properties": {
                  "label": "COMMON_REQUIREMENT"
                },
                "color": "#15AFAC",
                "thickness_factor": 1,
                "directed": true,
                "styles": {},
                "label": "COMMON_REQUIREMENT"
              },
              {
                "id": "Important_Critical_Software-137_IMPORTANT_Critical_products-131",
                "start": "Important_Critical_Software-137",
                "end": "IMPORTANT_Critical_products-131",
                "properties": {
                  "label": "COMMON_REQUIREMENT"
                },
                "color": "#15AFAC",
                "thickness_factor": 1,
                "directed": true,
                "styles": {},
                "label": "COMMON_REQUIREMENT"
              },
              {
                "id": "Important_Critical_Software-138_IMPORTANT_Critical_products-132",
                "start": "Important_Critical_Software-138",
                "end": "IMPORTANT_Critical_products-132",
                "properties": {
                  "label": "COMMON_REQUIREMENT"
                },
                "color": "#15AFAC",
                "thickness_factor": 1,
                "directed": true,
                "styles": {},
                "label": "COMMON_REQUIREMENT"
              },
              {
                "id": "Important_Critical_Software-139_IMPORTANT_Critical_products-133",
                "start": "Important_Critical_Software-139",
                "end": "IMPORTANT_Critical_products-133",
                "properties": {
                  "label": "COMMON_REQUIREMENT"
                },
                "color": "#15AFAC",
                "thickness_factor": 1,
                "directed": true,
                "styles": {},
                "label": "COMMON_REQUIREMENT"
              },
              {
                "id": "Important_Critical_Software-140_IMPORTANT_Critical_products-134",
                "start": "Important_Critical_Software-140",
                "end": "IMPORTANT_Critical_products-134",
                "properties": {
                  "label": "COMMON_REQUIREMENT"
                },
                "color": "#15AFAC",
                "thickness_factor": 1,
                "directed": true,
                "styles": {},
                "label": "COMMON_REQUIREMENT"
              },
              {
                "id": "Important_Critical_Software-141_IMPORTANT_Critical_products-135",
                "start": "Important_Critical_Software-141",
                "end": "IMPORTANT_Critical_products-135",
                "properties": {
                  "label": "COMMON_REQUIREMENT"
                },
                "color": "#15AFAC",
                "thickness_factor": 1,
                "directed": true,
                "styles": {},
                "label": "COMMON_REQUIREMENT"
              },
              {
                "id": "Important_Critical_Software-142_IMPORTANT_Critical_products-136",
                "start": "Important_Critical_Software-142",
                "end": "IMPORTANT_Critical_products-136",
                "properties": {
                  "label": "COMMON_REQUIREMENT"
                },
                "color": "#15AFAC",
                "thickness_factor": 1,
                "directed": true,
                "styles": {},
                "label": "COMMON_REQUIREMENT"
              },
              {
                "id": "Important_Critical_Software-143_IMPORTANT_Critical_products-137",
                "start": "Important_Critical_Software-143",
                "end": "IMPORTANT_Critical_products-137",
                "properties": {
                  "label": "COMMON_REQUIREMENT"
                },
                "color": "#15AFAC",
                "thickness_factor": 1,
                "directed": true,
                "styles": {},
                "label": "COMMON_REQUIREMENT"
              },
              {
                "id": "IMPORTANT_Critical_products-3_non_IMPORTANT_products_Software-3",
                "start": "IMPORTANT_Critical_products-3",
                "end": "non_IMPORTANT_products_Software-3",
                "properties": {
                  "label": "COMMON_REQUIREMENT"
                },
                "color": "#15AFAC",
                "thickness_factor": 1,
                "directed": true,
                "styles": {},
                "label": "COMMON_REQUIREMENT"
              },
              {
                "id": "IMPORTANT_Critical_products-4_non_IMPORTANT_products_Software-4",
                "start": "IMPORTANT_Critical_products-4",
                "end": "non_IMPORTANT_products_Software-4",
                "properties": {
                  "label": "COMMON_REQUIREMENT"
                },
                "color": "#15AFAC",
                "thickness_factor": 1,
                "directed": true,
                "styles": {},
                "label": "COMMON_REQUIREMENT"
              },
              {
                "id": "IMPORTANT_Critical_products-5_non_IMPORTANT_products_Software-5",
                "start": "IMPORTANT_Critical_products-5",
                "end": "non_IMPORTANT_products_Software-5",
                "properties": {
                  "label": "COMMON_REQUIREMENT"
                },
                "color": "#15AFAC",
                "thickness_factor": 1,
                "directed": true,
                "styles": {},
                "label": "COMMON_REQUIREMENT"
              },
              {
                "id": "IMPORTANT_Critical_products-6_non_IMPORTANT_products_Software-6",
                "start": "IMPORTANT_Critical_products-6",
                "end": "non_IMPORTANT_products_Software-6",
                "properties": {
                  "label": "COMMON_REQUIREMENT"
                },
                "color": "#15AFAC",
                "thickness_factor": 1,
                "directed": true,
                "styles": {},
                "label": "COMMON_REQUIREMENT"
              },
              {
                "id": "IMPORTANT_Critical_products-15_non_IMPORTANT_products_Software-17",
                "start": "IMPORTANT_Critical_products-15",
                "end": "non_IMPORTANT_products_Software-17",
                "properties": {
                  "label": "COMMON_REQUIREMENT"
                },
                "color": "#15AFAC",
                "thickness_factor": 1,
                "directed": true,
                "styles": {},
                "label": "COMMON_REQUIREMENT"
              },
              {
                "id": "IMPORTANT_Critical_products-27_non_IMPORTANT_products_Software-29",
                "start": "IMPORTANT_Critical_products-27",
                "end": "non_IMPORTANT_products_Software-29",
                "properties": {
                  "label": "COMMON_REQUIREMENT"
                },
                "color": "#15AFAC",
                "thickness_factor": 1,
                "directed": true,
                "styles": {},
                "label": "COMMON_REQUIREMENT"
              },
              {
                "id": "IMPORTANT_Critical_products-31_non_IMPORTANT_products_Software-33",
                "start": "IMPORTANT_Critical_products-31",
                "end": "non_IMPORTANT_products_Software-33",
                "properties": {
                  "label": "COMMON_REQUIREMENT"
                },
                "color": "#15AFAC",
                "thickness_factor": 1,
                "directed": true,
                "styles": {},
                "label": "COMMON_REQUIREMENT"
              },
              {
                "id": "IMPORTANT_Critical_products-35_non_IMPORTANT_products_Software-37",
                "start": "IMPORTANT_Critical_products-35",
                "end": "non_IMPORTANT_products_Software-37",
                "properties": {
                  "label": "COMMON_REQUIREMENT"
                },
                "color": "#15AFAC",
                "thickness_factor": 1,
                "directed": true,
                "styles": {},
                "label": "COMMON_REQUIREMENT"
              },
              {
                "id": "IMPORTANT_Critical_products-76_non_IMPORTANT_products_Software-80",
                "start": "IMPORTANT_Critical_products-76",
                "end": "non_IMPORTANT_products_Software-80",
                "properties": {
                  "label": "COMMON_REQUIREMENT"
                },
                "color": "#15AFAC",
                "thickness_factor": 1,
                "directed": true,
                "styles": {},
                "label": "COMMON_REQUIREMENT"
              }
            ],
            "_graph_layout": {},
            "_highlight": [],
            "_license": {},
            "_model_module": "yfiles-jupyter-graphs",
            "_model_module_version": "^1.10.1",
            "_model_name": "GraphModel",
            "_neighborhood": {},
            "_nodes": [
              {
                "id": "Resellers-2",
                "properties": {
                  "label": "A natural or legal person, other than the manufacturer, the importer or the distributor, that carries out a substantial modification of a product with digital elements and makes that product available on the market, shall be considered to be a manufacturer for the purposes of this Regulation.",
                  "Article": "article 22(1)",
                  "ActorType": "Resellers"
                },
                "color": "#e8a876",
                "styles": {},
                "label": "A natural or legal person, other than the manufacturer, the importer or the distributor, that carries out a substantial modification of a product with digital elements and makes that product available on the market, shall be considered to be a manufacturer for the purposes of this Regulation.",
                "scale_factor": 1,
                "type": "#e8a876",
                "size": [
                  55,
                  55
                ],
                "position": [
                  0,
                  0
                ]
              },
              {
                "id": "Resellers-3",
                "properties": {
                  "label": "The person referred to in paragraph 1 of this Article shall be subject to the obligations set out in Articles 13 (obligations of the manufacturer) and 14 (reporting obligations) for the part of the product with digital elements that is affected by the substantial modification or, if the substantial modification has an impact on the cybersecurity of the product with digital elements as a whole, for the entire product.",
                  "Article": "article 22(2)",
                  "ActorType": "Resellers"
                },
                "color": "#e8a876",
                "styles": {},
                "label": "The person referred to in paragraph 1 of this Article shall be subject to the obligations set out in Articles 13 (obligations of the manufacturer) and 14 (reporting obligations) for the part of the product with digital elements that is affected by the substantial modification or, if the substantial modification has an impact on the cybersecurity of the product with digital elements as a whole, for the entire product.",
                "scale_factor": 1,
                "type": "#e8a876",
                "size": [
                  55,
                  55
                ],
                "position": [
                  0,
                  0
                ]
              },
              {
                "id": "Resellers-10",
                "properties": {
                  "label": "Economic operators shall, on request, provide the market surveillance authorities with the following information:",
                  "Article": "article 23(1)",
                  "ActorType": "Resellers"
                },
                "color": "#e8a876",
                "styles": {},
                "label": "Economic operators shall, on request, provide the market surveillance authorities with the following information:",
                "scale_factor": 1,
                "type": "#e8a876",
                "size": [
                  55,
                  55
                ],
                "position": [
                  0,
                  0
                ]
              },
              {
                "id": "Resellers-11",
                "properties": {
                  "label": "the name and address of any economic operator who has supplied them with a product with digital elements;",
                  "Article": "article 23(1) (a)",
                  "ActorType": "Resellers"
                },
                "color": "#e8a876",
                "styles": {},
                "label": "the name and address of any economic operator who has supplied them with a product with digital elements;",
                "scale_factor": 1,
                "type": "#e8a876",
                "size": [
                  55,
                  55
                ],
                "position": [
                  0,
                  0
                ]
              },
              {
                "id": "Resellers-12",
                "properties": {
                  "label": "where available, the name and address of any economic operator to whom they have supplied a product with digital elements.",
                  "Article": "article 23(1) (b)",
                  "ActorType": "Resellers"
                },
                "color": "#e8a876",
                "styles": {},
                "label": "where available, the name and address of any economic operator to whom they have supplied a product with digital elements.",
                "scale_factor": 1,
                "type": "#e8a876",
                "size": [
                  55,
                  55
                ],
                "position": [
                  0,
                  0
                ]
              },
              {
                "id": "Resellers-13",
                "properties": {
                  "label": "Economic operators shall be able to present the information referred to in paragraph 1 for 10 years after they have been supplied with the product with digital elements and for 10 years after they have supplied the product with digital elements.",
                  "Article": "article 23(2)",
                  "ActorType": "Resellers"
                },
                "color": "#e8a876",
                "styles": {},
                "label": "Economic operators shall be able to present the information referred to in paragraph 1 for 10 years after they have been supplied with the product with digital elements and for 10 years after they have supplied the product with digital elements.",
                "scale_factor": 1,
                "type": "#e8a876",
                "size": [
                  55,
                  55
                ],
                "position": [
                  0,
                  0
                ]
              },
              {
                "id": "Distributors-2",
                "properties": {
                  "label": "When making a product with digital elements available on the market, distributors shall act with due care in relation to the requirements set out in this Regulation.",
                  "Article": "article 20(1)",
                  "ActorType": "Distributors"
                },
                "color": "#ede772",
                "styles": {},
                "label": "When making a product with digital elements available on the market, distributors shall act with due care in relation to the requirements set out in this Regulation.",
                "scale_factor": 1,
                "type": "#ede772",
                "size": [
                  55,
                  55
                ],
                "position": [
                  0,
                  0
                ]
              },
              {
                "id": "Distributors-3",
                "properties": {
                  "label": "Before making a product with digital elements available on the market, distributors shall verify that:",
                  "Article": "article 20(2)",
                  "ActorType": "Distributors"
                },
                "color": "#ede772",
                "styles": {},
                "label": "Before making a product with digital elements available on the market, distributors shall verify that:",
                "scale_factor": 1,
                "type": "#ede772",
                "size": [
                  55,
                  55
                ],
                "position": [
                  0,
                  0
                ]
              },
              {
                "id": "Distributors-4",
                "properties": {
                  "label": "the product with digital elements bears the CE marking;",
                  "Article": "article 20(2) (a)",
                  "ActorType": "Distributors"
                },
                "color": "#ede772",
                "styles": {},
                "label": "the product with digital elements bears the CE marking;",
                "scale_factor": 1,
                "type": "#ede772",
                "size": [
                  55,
                  55
                ],
                "position": [
                  0,
                  0
                ]
              },
              {
                "id": "Distributors-5",
                "properties": {
                  "label": "the manufacturer and the importer have complied with the obligations set out in Article 13(15 - product can be identified with a batch number or similar), (16 - manufacturers' contact information), (18 - products are sold will all required documentation), (19 - end of support period), and (20 - EU Declaration of Conformity) and Article19(4 - importer has provided their contact information on the product), and have provided all necessary documents to the distributor.",
                  "Article": "article 20(2) (b)",
                  "ActorType": "Distributors"
                },
                "color": "#ede772",
                "styles": {},
                "label": "the manufacturer and the importer have complied with the obligations set out in Article 13(15 - product can be identified with a batch number or similar), (16 - manufacturers' contact information), (18 - products are sold will all required documentation), (19 - end of support period), and (20 - EU Declaration of Conformity) and Article19(4 - importer has provided their contact information on the product), and have provided all necessary documents to the distributor.",
                "scale_factor": 1,
                "type": "#ede772",
                "size": [
                  55,
                  55
                ],
                "position": [
                  0,
                  0
                ]
              },
              {
                "id": "Distributors-11",
                "properties": {
                  "label": "Where a distributor considers or has reason to believe, on the basis of information in its possession, that a product with digital elements or the processes put in place by the manufacturer are not in conformity with the essential cybersecurity requirements set out in Annex I, the distributor shall not make the product with digital elements available on the market until that product or the processes put in place by the manufacturer have been brought into conformity with this Regulation. Furthermore, where the product with digital elements poses a significant cybersecurity risk, the distributor shall inform, without undue delay, the manufacturer and the market surveillance authorities to that effect.",
                  "Article": "article 20(3)",
                  "ActorType": "Distributors"
                },
                "color": "#ede772",
                "styles": {},
                "label": "Where a distributor considers or has reason to believe, on the basis of information in its possession, that a product with digital elements or the processes put in place by the manufacturer are not in conformity with the essential cybersecurity requirements set out in Annex I, the distributor shall not make the product with digital elements available on the market until that product or the processes put in place by the manufacturer have been brought into conformity with this Regulation. Furthermore, where the product with digital elements poses a significant cybersecurity risk, the distributor shall inform, without undue delay, the manufacturer and the market surveillance authorities to that effect.",
                "scale_factor": 1,
                "type": "#ede772",
                "size": [
                  55,
                  55
                ],
                "position": [
                  0,
                  0
                ]
              },
              {
                "id": "Distributors-12",
                "properties": {
                  "label": "Distributors who know or have reason to believe, on the basis of information in their possession, that a product with digital elements, which they have made available on the market, or the processes put in place by its manufacturer are not in conformity with this Regulation shall make sure that the corrective measures necessary to bring that product with digital elements or the processes put in place by its manufacturer into conformity, or to withdraw or recall the product, if appropriate, are taken.\nUpon becoming aware of a vulnerability in the product with digital elements, distributors shall inform the manufacturer without undue delay about that vulnerability. Furthermore, where the product with digital elements presents a significant cybersecurity risk, distributors shall immediately inform the market surveillance authorities of the Member States in which they have made the product with digital elements available on the market to that effect, giving details, in particular, of the non-compliance and of any corrective measures taken.",
                  "Article": "article 20(4)",
                  "ActorType": "Distributors"
                },
                "color": "#ede772",
                "styles": {},
                "label": "Distributors who know or have reason to believe, on the basis of information in their possession, that a product with digital elements, which they have made available on the market, or the processes put in place by its manufacturer are not in conformity with this Regulation shall make sure that the corrective measures necessary to bring that product with digital elements or the processes put in place by its manufacturer into conformity, or to withdraw or recall the product, if appropriate, are taken.\nUpon becoming aware of a vulnerability in the product with digital elements, distributors shall inform the manufacturer without undue delay about that vulnerability. Furthermore, where the product with digital elements presents a significant cybersecurity risk, distributors shall immediately inform the market surveillance authorities of the Member States in which they have made the product with digital elements available on the market to that effect, giving details, in particular, of the non-compliance and of any corrective measures taken.",
                "scale_factor": 1,
                "type": "#ede772",
                "size": [
                  55,
                  55
                ],
                "position": [
                  0,
                  0
                ]
              },
              {
                "id": "Distributors-13",
                "properties": {
                  "label": "Distributors shall, further to a reasoned request from a market surveillance authority, provide all the information and documentation, in paper or electronic form, necessary to demonstrate the conformity of the product with digital elements and the processes put in place by its manufacturer with this Regulation in a language that can be easily understood by that authority. They shall cooperate with that authority, at its request, on any measures taken to eliminate the cybersecurity risks posed by a product with digital elements which they have made available on the market",
                  "Article": "article 20(5)",
                  "ActorType": "Distributors"
                },
                "color": "#ede772",
                "styles": {},
                "label": "Distributors shall, further to a reasoned request from a market surveillance authority, provide all the information and documentation, in paper or electronic form, necessary to demonstrate the conformity of the product with digital elements and the processes put in place by its manufacturer with this Regulation in a language that can be easily understood by that authority. They shall cooperate with that authority, at its request, on any measures taken to eliminate the cybersecurity risks posed by a product with digital elements which they have made available on the market",
                "scale_factor": 1,
                "type": "#ede772",
                "size": [
                  55,
                  55
                ],
                "position": [
                  0,
                  0
                ]
              },
              {
                "id": "Distributors-14",
                "properties": {
                  "label": "Where the distributor of a product with digital elements becomes aware, on the basis of information in its possession, that the manufacturer of that product has ceased its operations and, as result, is not able to comply with the obligations laid down in this Regulation, the distributor shall inform, without undue delay, the relevant market surveillance authorities about this situation, as well as, by any means available and to the extent possible, the users of the products with digital elements placed on the market.",
                  "Article": "article 20(6)",
                  "ActorType": "Distributors"
                },
                "color": "#ede772",
                "styles": {},
                "label": "Where the distributor of a product with digital elements becomes aware, on the basis of information in its possession, that the manufacturer of that product has ceased its operations and, as result, is not able to comply with the obligations laid down in this Regulation, the distributor shall inform, without undue delay, the relevant market surveillance authorities about this situation, as well as, by any means available and to the extent possible, the users of the products with digital elements placed on the market.",
                "scale_factor": 1,
                "type": "#ede772",
                "size": [
                  55,
                  55
                ],
                "position": [
                  0,
                  0
                ]
              },
              {
                "id": "Importers-2",
                "properties": {
                  "label": "Importers shall place on the market only products with digital elements that comply with the essential cybersecurity requirements set out in Part I of Annex I and where the processes put in place by the manufacturer comply with the essential cybersecurity requirements set out in Part II of Annex I.",
                  "Article": "article 19(1)",
                  "ActorType": "Importers"
                },
                "color": "#93e876",
                "styles": {},
                "label": "Importers shall place on the market only products with digital elements that comply with the essential cybersecurity requirements set out in Part I of Annex I and where the processes put in place by the manufacturer comply with the essential cybersecurity requirements set out in Part II of Annex I.",
                "scale_factor": 1,
                "type": "#93e876",
                "size": [
                  55,
                  55
                ],
                "position": [
                  0,
                  0
                ]
              },
              {
                "id": "Importers-3",
                "properties": {
                  "label": "Before placing a product with digital elements on the market, importers shall ensure that:",
                  "Article": "article 19(2)",
                  "ActorType": "Importers"
                },
                "color": "#93e876",
                "styles": {},
                "label": "Before placing a product with digital elements on the market, importers shall ensure that:",
                "scale_factor": 1,
                "type": "#93e876",
                "size": [
                  55,
                  55
                ],
                "position": [
                  0,
                  0
                ]
              },
              {
                "id": "Importers-4",
                "properties": {
                  "label": "the appropriate conformity assessment procedures (modules A, B, C or H) have been carried out by the manufacturer;",
                  "Article": "article 19(2) (a)",
                  "ActorType": "Importers"
                },
                "color": "#93e876",
                "styles": {},
                "label": "the appropriate conformity assessment procedures (modules A, B, C or H) have been carried out by the manufacturer;",
                "scale_factor": 1,
                "type": "#93e876",
                "size": [
                  55,
                  55
                ],
                "position": [
                  0,
                  0
                ]
              },
              {
                "id": "Importers-5",
                "properties": {
                  "label": "the manufacturer has drawn up the technical documentation;",
                  "Article": "article 19(2) (b)",
                  "ActorType": "Importers"
                },
                "color": "#93e876",
                "styles": {},
                "label": "the manufacturer has drawn up the technical documentation;",
                "scale_factor": 1,
                "type": "#93e876",
                "size": [
                  55,
                  55
                ],
                "position": [
                  0,
                  0
                ]
              },
              {
                "id": "Importers-6",
                "properties": {
                  "label": "the product with digital elements bears the CE marking and is accompanied by the EU declaration of conformity and the information and instructions to the user in a language which can be easily understood by users and market surveillance authorities;",
                  "Article": "article 19(2) (c)",
                  "ActorType": "Importers"
                },
                "color": "#93e876",
                "styles": {},
                "label": "the product with digital elements bears the CE marking and is accompanied by the EU declaration of conformity and the information and instructions to the user in a language which can be easily understood by users and market surveillance authorities;",
                "scale_factor": 1,
                "type": "#93e876",
                "size": [
                  55,
                  55
                ],
                "position": [
                  0,
                  0
                ]
              },
              {
                "id": "Importers-7",
                "properties": {
                  "label": "the manufacturer has complied with the requirements set out in Article 13(15 - product can be identified with a batch number or similar), (16 - manufacturers' contact information) and (19 - end of support period).",
                  "Article": "article 19(2) (d)",
                  "ActorType": "Importers"
                },
                "color": "#93e876",
                "styles": {},
                "label": "the manufacturer has complied with the requirements set out in Article 13(15 - product can be identified with a batch number or similar), (16 - manufacturers' contact information) and (19 - end of support period).",
                "scale_factor": 1,
                "type": "#93e876",
                "size": [
                  55,
                  55
                ],
                "position": [
                  0,
                  0
                ]
              },
              {
                "id": "Importers-8",
                "properties": {
                  "label": "Importers shall, for at least 10 years after the product with digital elements has been placed on the market or for the support period, whichever is longer, keep a copy of the EU declaration of conformity at the disposal of the market surveillance authorities and ensure that the technical documentation can be made available to those authorities, upon request.",
                  "Article": "article 19(6)",
                  "ActorType": "Importers"
                },
                "color": "#93e876",
                "styles": {},
                "label": "Importers shall, for at least 10 years after the product with digital elements has been placed on the market or for the support period, whichever is longer, keep a copy of the EU declaration of conformity at the disposal of the market surveillance authorities and ensure that the technical documentation can be made available to those authorities, upon request.",
                "scale_factor": 1,
                "type": "#93e876",
                "size": [
                  55,
                  55
                ],
                "position": [
                  0,
                  0
                ]
              },
              {
                "id": "Importers-16",
                "properties": {
                  "label": "Importers shall indicate their name, registered trade name or registered trademark, the postal address, email address or other digital contact as well as, where applicable, the website at which they can be contacted on the product with digital elements or on its packaging or in a document accompanying the product with digital elements. The contact details shall be in a language easily understood by users and market surveillance authorities.",
                  "Article": "article 19 (4)",
                  "ActorType": "Importers"
                },
                "color": "#93e876",
                "styles": {},
                "label": "Importers shall indicate their name, registered trade name or registered trademark, the postal address, email address or other digital contact as well as, where applicable, the website at which they can be contacted on the product with digital elements or on its packaging or in a document accompanying the product with digital elements. The contact details shall be in a language easily understood by users and market surveillance authorities.",
                "scale_factor": 1,
                "type": "#93e876",
                "size": [
                  55,
                  55
                ],
                "position": [
                  0,
                  0
                ]
              },
              {
                "id": "Importers-22",
                "properties": {
                  "label": "Where the importer of a product with digital elements becomes aware that the manufacturer of that product has ceased its operations and, as result, is not able to comply with the obligations laid down in this Regulation, the importer shall inform the relevant market surveillance authorities about this situation, as well as, by any means available and to the extent possible, the users of the products with digital elements placed on the market.",
                  "Article": "article 19(8)",
                  "ActorType": "Importers"
                },
                "color": "#93e876",
                "styles": {},
                "label": "Where the importer of a product with digital elements becomes aware that the manufacturer of that product has ceased its operations and, as result, is not able to comply with the obligations laid down in this Regulation, the importer shall inform the relevant market surveillance authorities about this situation, as well as, by any means available and to the extent possible, the users of the products with digital elements placed on the market.",
                "scale_factor": 1,
                "type": "#93e876",
                "size": [
                  55,
                  55
                ],
                "position": [
                  0,
                  0
                ]
              },
              {
                "id": "Importers-23",
                "properties": {
                  "label": "Importers shall, further to a reasoned request from a market surveillance authority, provide it with all the information and documentation, in paper or electronic form, necessary to demonstrate the conformity of the product with digital elements with the essential cybersecurity requirements set out in Part I of Annex I as well as of the processes put in place by the manufacturer with the essential cybersecurity requirements set out in Part II of Annex I in a language that can be easily understood by that authority. They shall cooperate with that authority, at its request, on any measures taken to eliminate the cybersecurity risks posed by a product with digital elements, which they have placed on the market.",
                  "Article": "article 19(7)",
                  "ActorType": "Importers"
                },
                "color": "#93e876",
                "styles": {},
                "label": "Importers shall, further to a reasoned request from a market surveillance authority, provide it with all the information and documentation, in paper or electronic form, necessary to demonstrate the conformity of the product with digital elements with the essential cybersecurity requirements set out in Part I of Annex I as well as of the processes put in place by the manufacturer with the essential cybersecurity requirements set out in Part II of Annex I in a language that can be easily understood by that authority. They shall cooperate with that authority, at its request, on any measures taken to eliminate the cybersecurity risks posed by a product with digital elements, which they have placed on the market.",
                "scale_factor": 1,
                "type": "#93e876",
                "size": [
                  55,
                  55
                ],
                "position": [
                  0,
                  0
                ]
              },
              {
                "id": "Importers-24",
                "properties": {
                  "label": "Importers who know or have reason to believe that a product with digital elements which they have placed on the market is not in conformity with this Regulation shall immediately take the corrective measures necessary to ensure that the product with digital elements is brought into conformity with this Regulation, or to withdraw or recall the product, if appropriate.\nUpon becoming aware of a vulnerability in the product with digital elements, importers shall inform the manufacturer without undue delay about that vulnerability. Furthermore, where the product with digital elements presents a significant cybersecurity risk, importers shall immediately inform the market surveillance authorities of the Member States in which they have made the product with digital elements available on the market to that effect, giving details, in particular, of non-compliance and of any corrective measures taken.",
                  "Article": "article 19(5)",
                  "ActorType": "Importers"
                },
                "color": "#93e876",
                "styles": {},
                "label": "Importers who know or have reason to believe that a product with digital elements which they have placed on the market is not in conformity with this Regulation shall immediately take the corrective measures necessary to ensure that the product with digital elements is brought into conformity with this Regulation, or to withdraw or recall the product, if appropriate.\nUpon becoming aware of a vulnerability in the product with digital elements, importers shall inform the manufacturer without undue delay about that vulnerability. Furthermore, where the product with digital elements presents a significant cybersecurity risk, importers shall immediately inform the market surveillance authorities of the Member States in which they have made the product with digital elements available on the market to that effect, giving details, in particular, of non-compliance and of any corrective measures taken.",
                "scale_factor": 1,
                "type": "#93e876",
                "size": [
                  55,
                  55
                ],
                "position": [
                  0,
                  0
                ]
              },
              {
                "id": "Importers-25",
                "properties": {
                  "label": "Where an importer considers or has reason to believe that a product with digital elements or the processes put in place by the manufacturer are not in conformity with this Regulation, the importer shall not place the product on the market until that product or the processes put in place by the manufacturer have been brought into conformity with this Regulation. Furthermore, where the product with digital elements presents a significant cybersecurity risk, the importer shall inform the manufacturer and the market surveillance authorities to that effect.\nWhere an importer has reason to believe that a product with digital elements may present a significant cybersecurity risk in light of non-technical risk factors, the importer shall inform the market surveillance authorities to that effect. Upon receipt of such information, the market surveillance authorities shall follow the procedures referred to in Article 54(2).",
                  "Article": "article 19(3)",
                  "ActorType": "Importers"
                },
                "color": "#93e876",
                "styles": {},
                "label": "Where an importer considers or has reason to believe that a product with digital elements or the processes put in place by the manufacturer are not in conformity with this Regulation, the importer shall not place the product on the market until that product or the processes put in place by the manufacturer have been brought into conformity with this Regulation. Furthermore, where the product with digital elements presents a significant cybersecurity risk, the importer shall inform the manufacturer and the market surveillance authorities to that effect.\nWhere an importer has reason to believe that a product with digital elements may present a significant cybersecurity risk in light of non-technical risk factors, the importer shall inform the market surveillance authorities to that effect. Upon receipt of such information, the market surveillance authorities shall follow the procedures referred to in Article 54(2).",
                "scale_factor": 1,
                "type": "#93e876",
                "size": [
                  55,
                  55
                ],
                "position": [
                  0,
                  0
                ]
              },
              {
                "id": "Important_Critical_Software-4",
                "properties": {
                  "label": "Software developers shall undertake an assessment of the cybersecurity risks associated with a product with digital elements and take the outcome of that assessment into account during the planning, design, development, production, delivery and maintenance phases of the product with digital elements with a view to minimising cybersecurity risks, preventing incidents and minimising their impact, including in relation to the health and safety of users.",
                  "Article": "article 13(2)",
                  "ActorType": "Important_Critical_Software"
                },
                "color": "#76c0e8",
                "styles": {},
                "label": "Software developers shall undertake an assessment of the cybersecurity risks associated with a product with digital elements and take the outcome of that assessment into account during the planning, design, development, production, delivery and maintenance phases of the product with digital elements with a view to minimising cybersecurity risks, preventing incidents and minimising their impact, including in relation to the health and safety of users.",
                "scale_factor": 1,
                "type": "#76c0e8",
                "size": [
                  55,
                  55
                ],
                "position": [
                  0,
                  0
                ]
              },
              {
                "id": "Important_Critical_Software-5",
                "properties": {
                  "label": "The cybersecurity risk assessment shall be documented and updated as appropriate during a support period to be determined in accordance with paragraph 8 of this Article. That cybersecurity risk assessment shall comprise at least an analysis of cybersecurity risks based on the intended purpose and reasonably foreseeable use, as well as the conditions of use, of the product with digital elements, such as the operational environment or the assets to be protected, taking into account the length of time the product is expected to be in use. The cybersecurity risk assessment shall indicate whether and, if so in what manner, the security requirements set out in Part I, point (2), of Annex I are applicable to the relevant product with digital elements and how those requirements are implemented as informed by the cybersecurity risk assessment. It shall also indicate how the software developer is to apply Part I, point (1), of Annex I and the vulnerability handling requirements set out in Part II of Annex I.",
                  "Article": "Article 13(3)",
                  "ActorType": "Important_Critical_Software"
                },
                "color": "#76c0e8",
                "styles": {},
                "label": "The cybersecurity risk assessment shall be documented and updated as appropriate during a support period to be determined in accordance with paragraph 8 of this Article. That cybersecurity risk assessment shall comprise at least an analysis of cybersecurity risks based on the intended purpose and reasonably foreseeable use, as well as the conditions of use, of the product with digital elements, such as the operational environment or the assets to be protected, taking into account the length of time the product is expected to be in use. The cybersecurity risk assessment shall indicate whether and, if so in what manner, the security requirements set out in Part I, point (2), of Annex I are applicable to the relevant product with digital elements and how those requirements are implemented as informed by the cybersecurity risk assessment. It shall also indicate how the software developer is to apply Part I, point (1), of Annex I and the vulnerability handling requirements set out in Part II of Annex I.",
                "scale_factor": 1,
                "type": "#76c0e8",
                "size": [
                  55,
                  55
                ],
                "position": [
                  0,
                  0
                ]
              },
              {
                "id": "Important_Critical_Software-6",
                "properties": {
                  "label": "When placing a product with digital elements on the market, the software developer shall include the cybersecurity risk assessment in the technical documentation. For products with digital elements which are also subject to other Union legal acts, the cybersecurity risk assessment may be part of the risk assessment required by those Union legal acts. Where certain essential cybersecurity requirements are not applicable to the product with digital elements, the software developer shall include a clear justification to that effect in that technical documentation.",
                  "Article": "Article 13(4)",
                  "ActorType": "Important_Critical_Software"
                },
                "color": "#76c0e8",
                "styles": {},
                "label": "When placing a product with digital elements on the market, the software developer shall include the cybersecurity risk assessment in the technical documentation. For products with digital elements which are also subject to other Union legal acts, the cybersecurity risk assessment may be part of the risk assessment required by those Union legal acts. Where certain essential cybersecurity requirements are not applicable to the product with digital elements, the software developer shall include a clear justification to that effect in that technical documentation.",
                "scale_factor": 1,
                "type": "#76c0e8",
                "size": [
                  55,
                  55
                ],
                "position": [
                  0,
                  0
                ]
              },
              {
                "id": "Important_Critical_Software-7",
                "properties": {
                  "label": "The software developer shall systematically document, in a manner that is proportionate to the nature and the cybersecurity risks, relevant cybersecurity aspects concerning the products with digital elements, including vulnerabilities of which they become aware and any relevant information provided by third parties, and shall, where applicable, update the cybersecurity risk assessment of the products",
                  "Article": "Article 13(7)",
                  "ActorType": "Important_Critical_Software"
                },
                "color": "#76c0e8",
                "styles": {},
                "label": "The software developer shall systematically document, in a manner that is proportionate to the nature and the cybersecurity risks, relevant cybersecurity aspects concerning the products with digital elements, including vulnerabilities of which they become aware and any relevant information provided by third parties, and shall, where applicable, update the cybersecurity risk assessment of the products",
                "scale_factor": 1,
                "type": "#76c0e8",
                "size": [
                  55,
                  55
                ],
                "position": [
                  0,
                  0
                ]
              },
              {
                "id": "Important_Critical_Software-13",
                "properties": {
                  "label": "Products with digital elements shall be designed, developed and produced in such a way that they ensure an appropriate level of cybersecurity based on the risks.",
                  "Article": "Annex I, Part 1 §1",
                  "ActorType": "Important_Critical_Software"
                },
                "color": "#76c0e8",
                "styles": {},
                "label": "Products with digital elements shall be designed, developed and produced in such a way that they ensure an appropriate level of cybersecurity based on the risks.",
                "scale_factor": 1,
                "type": "#76c0e8",
                "size": [
                  55,
                  55
                ],
                "position": [
                  0,
                  0
                ]
              },
              {
                "id": "Important_Critical_Software-14",
                "properties": {
                  "label": "On the basis of the cybersecurity risk assessment referred to in Article 13(2) and where applicable, products with digital elements shall:",
                  "Article": "Annex I, Part 1 §2",
                  "ActorType": "Important_Critical_Software"
                },
                "color": "#76c0e8",
                "styles": {},
                "label": "On the basis of the cybersecurity risk assessment referred to in Article 13(2) and where applicable, products with digital elements shall:",
                "scale_factor": 1,
                "type": "#76c0e8",
                "size": [
                  55,
                  55
                ],
                "position": [
                  0,
                  0
                ]
              },
              {
                "id": "Important_Critical_Software-15",
                "properties": {
                  "label": "(a) be made available on the market without known exploitable vulnerabilities;",
                  "Article": "Annex I, Part 1 §2a",
                  "ActorType": "Important_Critical_Software"
                },
                "color": "#76c0e8",
                "styles": {},
                "label": "(a) be made available on the market without known exploitable vulnerabilities;",
                "scale_factor": 1,
                "type": "#76c0e8",
                "size": [
                  55,
                  55
                ],
                "position": [
                  0,
                  0
                ]
              },
              {
                "id": "Important_Critical_Software-16",
                "properties": {
                  "label": "(b) be made available on the market with a secure by default configuration, unless otherwise agreed between the software developer and business user in relation to a tailor-made product with digital elements, including the possibility to reset the product to itsoriginal state;",
                  "Article": "Annex I, Part 1 §2b",
                  "ActorType": "Important_Critical_Software"
                },
                "color": "#76c0e8",
                "styles": {},
                "label": "(b) be made available on the market with a secure by default configuration, unless otherwise agreed between the software developer and business user in relation to a tailor-made product with digital elements, including the possibility to reset the product to itsoriginal state;",
                "scale_factor": 1,
                "type": "#76c0e8",
                "size": [
                  55,
                  55
                ],
                "position": [
                  0,
                  0
                ]
              },
              {
                "id": "Important_Critical_Software-17",
                "properties": {
                  "label": "(c) ensure that vulnerabilities can be addressed through security updates, including, where applicable, through automatic security updates that are installed within an appropriate timeframe enabled as a default setting, with a clear and easy-to-use opt- out mechanism, through the notification of available updates to users, and the option to temporarily postpone them;",
                  "Article": "Annex 1, Part 1 §2c",
                  "ActorType": "Important_Critical_Software"
                },
                "color": "#76c0e8",
                "styles": {},
                "label": "(c) ensure that vulnerabilities can be addressed through security updates, including, where applicable, through automatic security updates that are installed within an appropriate timeframe enabled as a default setting, with a clear and easy-to-use opt- out mechanism, through the notification of available updates to users, and the option to temporarily postpone them;",
                "scale_factor": 1,
                "type": "#76c0e8",
                "size": [
                  55,
                  55
                ],
                "position": [
                  0,
                  0
                ]
              },
              {
                "id": "Important_Critical_Software-18",
                "properties": {
                  "label": "(d) ensure protection from unauthorised access by appropriate control mechanisms, including but not limited to authentication, identity or access management systems, and report on possible unauthorised access;",
                  "Article": "Annex I, Part 1 §2d",
                  "ActorType": "Important_Critical_Software"
                },
                "color": "#76c0e8",
                "styles": {},
                "label": "(d) ensure protection from unauthorised access by appropriate control mechanisms, including but not limited to authentication, identity or access management systems, and report on possible unauthorised access;",
                "scale_factor": 1,
                "type": "#76c0e8",
                "size": [
                  55,
                  55
                ],
                "position": [
                  0,
                  0
                ]
              },
              {
                "id": "Important_Critical_Software-19",
                "properties": {
                  "label": "(e) protect the confidentiality of stored, transmitted or otherwise processed data, personal or other, such as by encrypting relevant data at rest or in transit by state of the art mechanisms, and by using other technical means;",
                  "Article": "Annex I, Part 1 §2e",
                  "ActorType": "Important_Critical_Software"
                },
                "color": "#76c0e8",
                "styles": {},
                "label": "(e) protect the confidentiality of stored, transmitted or otherwise processed data, personal or other, such as by encrypting relevant data at rest or in transit by state of the art mechanisms, and by using other technical means;",
                "scale_factor": 1,
                "type": "#76c0e8",
                "size": [
                  55,
                  55
                ],
                "position": [
                  0,
                  0
                ]
              },
              {
                "id": "Important_Critical_Software-20",
                "properties": {
                  "label": "(f) protect the integrity of stored, transmitted or otherwise processed data, personal or other, commands, programs and configuration against any manipulation or modification not authorised by the user, and report on corruptions;",
                  "Article": "Annex I, Part 1 §2f",
                  "ActorType": "Important_Critical_Software"
                },
                "color": "#76c0e8",
                "styles": {},
                "label": "(f) protect the integrity of stored, transmitted or otherwise processed data, personal or other, commands, programs and configuration against any manipulation or modification not authorised by the user, and report on corruptions;",
                "scale_factor": 1,
                "type": "#76c0e8",
                "size": [
                  55,
                  55
                ],
                "position": [
                  0,
                  0
                ]
              },
              {
                "id": "Important_Critical_Software-21",
                "properties": {
                  "label": "(g) process only data, personal or other, that are adequate, relevant and limited to what is necessary in relation to the intended purpose of the product with digital elements (data minimisation);",
                  "Article": "Annex I, Part 1 §2g",
                  "ActorType": "Important_Critical_Software"
                },
                "color": "#76c0e8",
                "styles": {},
                "label": "(g) process only data, personal or other, that are adequate, relevant and limited to what is necessary in relation to the intended purpose of the product with digital elements (data minimisation);",
                "scale_factor": 1,
                "type": "#76c0e8",
                "size": [
                  55,
                  55
                ],
                "position": [
                  0,
                  0
                ]
              },
              {
                "id": "Important_Critical_Software-22",
                "properties": {
                  "label": "(h) protect the availability of essential and basic functions, also after an incident, including through resilience and mitigation measures against denial-of-service attacks;",
                  "Article": "Annex I, Part 1 §2h",
                  "ActorType": "Important_Critical_Software"
                },
                "color": "#76c0e8",
                "styles": {},
                "label": "(h) protect the availability of essential and basic functions, also after an incident, including through resilience and mitigation measures against denial-of-service attacks;",
                "scale_factor": 1,
                "type": "#76c0e8",
                "size": [
                  55,
                  55
                ],
                "position": [
                  0,
                  0
                ]
              },
              {
                "id": "Important_Critical_Software-23",
                "properties": {
                  "label": "(i) minimise the negative impact by the products themselves or connected devices on the availability of services provided by other devices or networks;",
                  "Article": "Annex I, Part 1 §2i",
                  "ActorType": "Important_Critical_Software"
                },
                "color": "#76c0e8",
                "styles": {},
                "label": "(i) minimise the negative impact by the products themselves or connected devices on the availability of services provided by other devices or networks;",
                "scale_factor": 1,
                "type": "#76c0e8",
                "size": [
                  55,
                  55
                ],
                "position": [
                  0,
                  0
                ]
              },
              {
                "id": "Important_Critical_Software-24",
                "properties": {
                  "label": "(j) be designed, developed and produced to limit attack surfaces, including external interfaces;",
                  "Article": "Annex I, Part 1 §2j",
                  "ActorType": "Important_Critical_Software"
                },
                "color": "#76c0e8",
                "styles": {},
                "label": "(j) be designed, developed and produced to limit attack surfaces, including external interfaces;",
                "scale_factor": 1,
                "type": "#76c0e8",
                "size": [
                  55,
                  55
                ],
                "position": [
                  0,
                  0
                ]
              },
              {
                "id": "Important_Critical_Software-25",
                "properties": {
                  "label": "(k) be designed, developed and produced to reduce the impact of an incident using appropriate exploitation mitigation mechanisms and techniques;",
                  "Article": "Annex I, Part 1 §2k",
                  "ActorType": "Important_Critical_Software"
                },
                "color": "#76c0e8",
                "styles": {},
                "label": "(k) be designed, developed and produced to reduce the impact of an incident using appropriate exploitation mitigation mechanisms and techniques;",
                "scale_factor": 1,
                "type": "#76c0e8",
                "size": [
                  55,
                  55
                ],
                "position": [
                  0,
                  0
                ]
              },
              {
                "id": "Important_Critical_Software-26",
                "properties": {
                  "label": "(l) provide security related information by recording and monitoring relevant internal activity, including the access to or modification of data, services or functions, with an opt-out mechanism for the user;",
                  "Article": "Annex I, Part 1 §2l",
                  "ActorType": "Important_Critical_Software"
                },
                "color": "#76c0e8",
                "styles": {},
                "label": "(l) provide security related information by recording and monitoring relevant internal activity, including the access to or modification of data, services or functions, with an opt-out mechanism for the user;",
                "scale_factor": 1,
                "type": "#76c0e8",
                "size": [
                  55,
                  55
                ],
                "position": [
                  0,
                  0
                ]
              },
              {
                "id": "Important_Critical_Software-27",
                "properties": {
                  "label": "(m) provide the possibility for users to securely and easily remove on a permanent basis all data and settings and, where such data can be transferred to other products or systems, ensure that this is done in a secure manner.",
                  "Article": "Annex I, Part 1 §2m",
                  "ActorType": "Important_Critical_Software"
                },
                "color": "#76c0e8",
                "styles": {},
                "label": "(m) provide the possibility for users to securely and easily remove on a permanent basis all data and settings and, where such data can be transferred to other products or systems, ensure that this is done in a secure manner.",
                "scale_factor": 1,
                "type": "#76c0e8",
                "size": [
                  55,
                  55
                ],
                "position": [
                  0,
                  0
                ]
              },
              {
                "id": "Important_Critical_Software-28",
                "properties": {
                  "label": "Software developers of products with digital elements shall:",
                  "Article": "Annex I - Part II",
                  "ActorType": "Important_Critical_Software"
                },
                "color": "#76c0e8",
                "styles": {},
                "label": "Software developers of products with digital elements shall:",
                "scale_factor": 1,
                "type": "#76c0e8",
                "size": [
                  55,
                  55
                ],
                "position": [
                  0,
                  0
                ]
              },
              {
                "id": "Important_Critical_Software-29",
                "properties": {
                  "label": "(1) identify and document vulnerabilities and components contained in products with digital elements, including by drawing up a software bill of materials in a commonly used and machine-readable format covering at the very least the top-level dependencies of the products;",
                  "Article": "Annex I, Part 2 §2",
                  "ActorType": "Important_Critical_Software"
                },
                "color": "#76c0e8",
                "styles": {},
                "label": "(1) identify and document vulnerabilities and components contained in products with digital elements, including by drawing up a software bill of materials in a commonly used and machine-readable format covering at the very least the top-level dependencies of the products;",
                "scale_factor": 1,
                "type": "#76c0e8",
                "size": [
                  55,
                  55
                ],
                "position": [
                  0,
                  0
                ]
              },
              {
                "id": "Important_Critical_Software-30",
                "properties": {
                  "label": "(2) in relation to the risks posed to products with digital elements, address and remediate vulnerabilities without delay, including by providing security updates; where technically feasible, new security updates shall be provided separately from functionality updates;",
                  "Article": "Annex I, Part 2 §1",
                  "ActorType": "Important_Critical_Software"
                },
                "color": "#76c0e8",
                "styles": {},
                "label": "(2) in relation to the risks posed to products with digital elements, address and remediate vulnerabilities without delay, including by providing security updates; where technically feasible, new security updates shall be provided separately from functionality updates;",
                "scale_factor": 1,
                "type": "#76c0e8",
                "size": [
                  55,
                  55
                ],
                "position": [
                  0,
                  0
                ]
              },
              {
                "id": "Important_Critical_Software-31",
                "properties": {
                  "label": "(3) apply effective and regular tests and reviews of the security of the product with digital elements;",
                  "Article": "Annex I, Part 2 §3",
                  "ActorType": "Important_Critical_Software"
                },
                "color": "#76c0e8",
                "styles": {},
                "label": "(3) apply effective and regular tests and reviews of the security of the product with digital elements;",
                "scale_factor": 1,
                "type": "#76c0e8",
                "size": [
                  55,
                  55
                ],
                "position": [
                  0,
                  0
                ]
              },
              {
                "id": "Important_Critical_Software-32",
                "properties": {
                  "label": "(4) once a security update has been made available, share and publicly disclose information about fixed vulnerabilities, including a description of the vulnerabilities, information allowing users to identify the product with digital elements affected, the impacts of the vulnerabilities, their severity and clear and accessible information helping users to remediate the vulnerabilities; in duly justified cases, where software developers consider the security risks of publication to outweigh the security benefits, they may delay making public information regarding a fixed vulnerability until after users have been given the possibility to apply the relevant patch;",
                  "Article": "Annex I, Part 2 §4",
                  "ActorType": "Important_Critical_Software"
                },
                "color": "#76c0e8",
                "styles": {},
                "label": "(4) once a security update has been made available, share and publicly disclose information about fixed vulnerabilities, including a description of the vulnerabilities, information allowing users to identify the product with digital elements affected, the impacts of the vulnerabilities, their severity and clear and accessible information helping users to remediate the vulnerabilities; in duly justified cases, where software developers consider the security risks of publication to outweigh the security benefits, they may delay making public information regarding a fixed vulnerability until after users have been given the possibility to apply the relevant patch;",
                "scale_factor": 1,
                "type": "#76c0e8",
                "size": [
                  55,
                  55
                ],
                "position": [
                  0,
                  0
                ]
              },
              {
                "id": "Important_Critical_Software-33",
                "properties": {
                  "label": "(5) put in place and enforce a policy on coordinated vulnerability disclosure;",
                  "Article": "Annex I, Part 2 §5",
                  "ActorType": "Important_Critical_Software"
                },
                "color": "#76c0e8",
                "styles": {},
                "label": "(5) put in place and enforce a policy on coordinated vulnerability disclosure;",
                "scale_factor": 1,
                "type": "#76c0e8",
                "size": [
                  55,
                  55
                ],
                "position": [
                  0,
                  0
                ]
              },
              {
                "id": "Important_Critical_Software-34",
                "properties": {
                  "label": "(6) take measures to facilitate the sharing of information about potential vulnerabilities in their product with digital elements as well as in third-party components contained in that product, including by providing a contact address for the reporting of the vulnerabilities discovered in the product with digital elements;",
                  "Article": "Annex I, Part 2 §6",
                  "ActorType": "Important_Critical_Software"
                },
                "color": "#76c0e8",
                "styles": {},
                "label": "(6) take measures to facilitate the sharing of information about potential vulnerabilities in their product with digital elements as well as in third-party components contained in that product, including by providing a contact address for the reporting of the vulnerabilities discovered in the product with digital elements;",
                "scale_factor": 1,
                "type": "#76c0e8",
                "size": [
                  55,
                  55
                ],
                "position": [
                  0,
                  0
                ]
              },
              {
                "id": "Important_Critical_Software-35",
                "properties": {
                  "label": "(7) provide for mechanisms to securely distribute updates for products with digital elements to ensure that vulnerabilities are fixed or mitigated in a timely manner and, where applicable for security updates, in an automatic manner;",
                  "Article": "Annex I, Part 2 §7",
                  "ActorType": "Important_Critical_Software"
                },
                "color": "#76c0e8",
                "styles": {},
                "label": "(7) provide for mechanisms to securely distribute updates for products with digital elements to ensure that vulnerabilities are fixed or mitigated in a timely manner and, where applicable for security updates, in an automatic manner;",
                "scale_factor": 1,
                "type": "#76c0e8",
                "size": [
                  55,
                  55
                ],
                "position": [
                  0,
                  0
                ]
              },
              {
                "id": "Important_Critical_Software-36",
                "properties": {
                  "label": "(8) ensure that, where security updates are available to address identified security issues, they are disseminated without delay and, unless otherwise agreed between a software developer and a business user in relation to a tailor-made product with digital elements, free of charge, accompanied by advisory messages providing users with the relevant information, including on potential action to be taken.",
                  "Article": "Annex I, Part 2 §8",
                  "ActorType": "Important_Critical_Software"
                },
                "color": "#76c0e8",
                "styles": {},
                "label": "(8) ensure that, where security updates are available to address identified security issues, they are disseminated without delay and, unless otherwise agreed between a software developer and a business user in relation to a tailor-made product with digital elements, free of charge, accompanied by advisory messages providing users with the relevant information, including on potential action to be taken.",
                "scale_factor": 1,
                "type": "#76c0e8",
                "size": [
                  55,
                  55
                ],
                "position": [
                  0,
                  0
                ]
              },
              {
                "id": "Important_Critical_Software-43",
                "properties": {
                  "label": "At minimum, the product with digital elements shall be accompanied by:",
                  "Article": "Annex II",
                  "ActorType": "Important_Critical_Software"
                },
                "color": "#76c0e8",
                "styles": {},
                "label": "At minimum, the product with digital elements shall be accompanied by:",
                "scale_factor": 1,
                "type": "#76c0e8",
                "size": [
                  55,
                  55
                ],
                "position": [
                  0,
                  0
                ]
              },
              {
                "id": "Important_Critical_Software-44",
                "properties": {
                  "label": "1. the name, registered trade name or registered trademark of the manufacturer, and the postal address, the email address or other digital contact as well as, where available, the website at which the manufacturer can be contacted;",
                  "Article": "Annex II, §1",
                  "ActorType": "Important_Critical_Software"
                },
                "color": "#76c0e8",
                "styles": {},
                "label": "1. the name, registered trade name or registered trademark of the manufacturer, and the postal address, the email address or other digital contact as well as, where available, the website at which the manufacturer can be contacted;",
                "scale_factor": 1,
                "type": "#76c0e8",
                "size": [
                  55,
                  55
                ],
                "position": [
                  0,
                  0
                ]
              },
              {
                "id": "Important_Critical_Software-45",
                "properties": {
                  "label": "2. the single point of contact where information about vulnerabilities of the product with digital elements can be reported and received, and where the manufacturer’s policy on coordinated vulnerability disclosure can be found;",
                  "Article": "Annex II, §2",
                  "ActorType": "Important_Critical_Software"
                },
                "color": "#76c0e8",
                "styles": {},
                "label": "2. the single point of contact where information about vulnerabilities of the product with digital elements can be reported and received, and where the manufacturer’s policy on coordinated vulnerability disclosure can be found;",
                "scale_factor": 1,
                "type": "#76c0e8",
                "size": [
                  55,
                  55
                ],
                "position": [
                  0,
                  0
                ]
              },
              {
                "id": "Important_Critical_Software-46",
                "properties": {
                  "label": "3. name and type and any additional information enabling the unique identification of the product with digital elements;",
                  "Article": "Annex II, §3",
                  "ActorType": "Important_Critical_Software"
                },
                "color": "#76c0e8",
                "styles": {},
                "label": "3. name and type and any additional information enabling the unique identification of the product with digital elements;",
                "scale_factor": 1,
                "type": "#76c0e8",
                "size": [
                  55,
                  55
                ],
                "position": [
                  0,
                  0
                ]
              },
              {
                "id": "Important_Critical_Software-47",
                "properties": {
                  "label": "4. the intended purpose of the product with digital elements, including the security environment provided by the manufacturer, as well as the product’s essential functionalities and information about the security properties;",
                  "Article": "Annex II, §4",
                  "ActorType": "Important_Critical_Software"
                },
                "color": "#76c0e8",
                "styles": {},
                "label": "4. the intended purpose of the product with digital elements, including the security environment provided by the manufacturer, as well as the product’s essential functionalities and information about the security properties;",
                "scale_factor": 1,
                "type": "#76c0e8",
                "size": [
                  55,
                  55
                ],
                "position": [
                  0,
                  0
                ]
              },
              {
                "id": "Important_Critical_Software-48",
                "properties": {
                  "label": "5. any known or foreseeable circumstance, related to the use of the product with digital elements in accordance with its intended purpose or under conditions of reasonably foreseeable misuse, which may lead to significant cybersecurity risks;",
                  "Article": "Annex II, §5",
                  "ActorType": "Important_Critical_Software"
                },
                "color": "#76c0e8",
                "styles": {},
                "label": "5. any known or foreseeable circumstance, related to the use of the product with digital elements in accordance with its intended purpose or under conditions of reasonably foreseeable misuse, which may lead to significant cybersecurity risks;",
                "scale_factor": 1,
                "type": "#76c0e8",
                "size": [
                  55,
                  55
                ],
                "position": [
                  0,
                  0
                ]
              },
              {
                "id": "Important_Critical_Software-49",
                "properties": {
                  "label": "6. where applicable, the internet address at which the EU declaration of conformity can be accessed;",
                  "Article": "Annex II, §6",
                  "ActorType": "Important_Critical_Software"
                },
                "color": "#76c0e8",
                "styles": {},
                "label": "6. where applicable, the internet address at which the EU declaration of conformity can be accessed;",
                "scale_factor": 1,
                "type": "#76c0e8",
                "size": [
                  55,
                  55
                ],
                "position": [
                  0,
                  0
                ]
              },
              {
                "id": "Important_Critical_Software-50",
                "properties": {
                  "label": "7. the type of technical security support offered by the manufacturer and the end-date of the support period during which users can expect vulnerabilities to be handled and to receive security updates;",
                  "Article": "Annex VI, §7",
                  "ActorType": "Important_Critical_Software"
                },
                "color": "#76c0e8",
                "styles": {},
                "label": "7. the type of technical security support offered by the manufacturer and the end-date of the support period during which users can expect vulnerabilities to be handled and to receive security updates;",
                "scale_factor": 1,
                "type": "#76c0e8",
                "size": [
                  55,
                  55
                ],
                "position": [
                  0,
                  0
                ]
              },
              {
                "id": "Important_Critical_Software-51",
                "properties": {
                  "label": "8. detailed instructions or an internet address referring to such detailed instructions and information on:",
                  "Article": "Annex II, §8",
                  "ActorType": "Important_Critical_Software"
                },
                "color": "#76c0e8",
                "styles": {},
                "label": "8. detailed instructions or an internet address referring to such detailed instructions and information on:",
                "scale_factor": 1,
                "type": "#76c0e8",
                "size": [
                  55,
                  55
                ],
                "position": [
                  0,
                  0
                ]
              },
              {
                "id": "Important_Critical_Software-52",
                "properties": {
                  "label": "(a) the necessary measures during initial commissioning and throughout the lifetime of the product with digital elements to ensure its secure use;",
                  "Article": "Annex II, §8 (a)",
                  "ActorType": "Important_Critical_Software"
                },
                "color": "#76c0e8",
                "styles": {},
                "label": "(a) the necessary measures during initial commissioning and throughout the lifetime of the product with digital elements to ensure its secure use;",
                "scale_factor": 1,
                "type": "#76c0e8",
                "size": [
                  55,
                  55
                ],
                "position": [
                  0,
                  0
                ]
              },
              {
                "id": "Important_Critical_Software-53",
                "properties": {
                  "label": "(b) how changes to the product with digital elements can affect the security of data;",
                  "Article": "Annex II, §8 (b)",
                  "ActorType": "Important_Critical_Software"
                },
                "color": "#76c0e8",
                "styles": {},
                "label": "(b) how changes to the product with digital elements can affect the security of data;",
                "scale_factor": 1,
                "type": "#76c0e8",
                "size": [
                  55,
                  55
                ],
                "position": [
                  0,
                  0
                ]
              },
              {
                "id": "Important_Critical_Software-54",
                "properties": {
                  "label": "(c) how security-relevant updates can be installed;",
                  "Article": "Annex II, §8 (c)",
                  "ActorType": "Important_Critical_Software"
                },
                "color": "#76c0e8",
                "styles": {},
                "label": "(c) how security-relevant updates can be installed;",
                "scale_factor": 1,
                "type": "#76c0e8",
                "size": [
                  55,
                  55
                ],
                "position": [
                  0,
                  0
                ]
              },
              {
                "id": "Important_Critical_Software-55",
                "properties": {
                  "label": "(d) the secure decommissioning of the product with digital elements, including information on how user data can be securely removed;",
                  "Article": "Annex II, §8 (d)",
                  "ActorType": "Important_Critical_Software"
                },
                "color": "#76c0e8",
                "styles": {},
                "label": "(d) the secure decommissioning of the product with digital elements, including information on how user data can be securely removed;",
                "scale_factor": 1,
                "type": "#76c0e8",
                "size": [
                  55,
                  55
                ],
                "position": [
                  0,
                  0
                ]
              },
              {
                "id": "Important_Critical_Software-56",
                "properties": {
                  "label": "(e) how the default setting enabling the automatic installation of security updates, as required by Part I, point (2)(c), of Annex I, can be turned off;",
                  "Article": "Annex II, §8 (e)",
                  "ActorType": "Important_Critical_Software"
                },
                "color": "#76c0e8",
                "styles": {},
                "label": "(e) how the default setting enabling the automatic installation of security updates, as required by Part I, point (2)(c), of Annex I, can be turned off;",
                "scale_factor": 1,
                "type": "#76c0e8",
                "size": [
                  55,
                  55
                ],
                "position": [
                  0,
                  0
                ]
              },
              {
                "id": "Important_Critical_Software-57",
                "properties": {
                  "label": "(f) where the product with digital elements is intended for integration into other products with digital elements, the information necessary for the integrator to comply with the essential cybersecurity requirements set out in Annex I and the documentation requirements set out in Annex VII.",
                  "Article": "Annex II, §8 (f)",
                  "ActorType": "Important_Critical_Software"
                },
                "color": "#76c0e8",
                "styles": {},
                "label": "(f) where the product with digital elements is intended for integration into other products with digital elements, the information necessary for the integrator to comply with the essential cybersecurity requirements set out in Annex I and the documentation requirements set out in Annex VII.",
                "scale_factor": 1,
                "type": "#76c0e8",
                "size": [
                  55,
                  55
                ],
                "position": [
                  0,
                  0
                ]
              },
              {
                "id": "Important_Critical_Software-58",
                "properties": {
                  "label": "9. If the manufacturer decides to make available the software bill of materials to the user, information on where the software bill of materials can be accessed.",
                  "Article": "Annex II, §9",
                  "ActorType": "Important_Critical_Software"
                },
                "color": "#76c0e8",
                "styles": {},
                "label": "9. If the manufacturer decides to make available the software bill of materials to the user, information on where the software bill of materials can be accessed.",
                "scale_factor": 1,
                "type": "#76c0e8",
                "size": [
                  55,
                  55
                ],
                "position": [
                  0,
                  0
                ]
              },
              {
                "id": "Important_Critical_Software-59",
                "properties": {
                  "label": "The user information and instructions as set out in Annex II (detailed above), shall be included in the Technical Documentation.",
                  "Article": "Annex VII, §1 (d)",
                  "ActorType": "Important_Critical_Software"
                },
                "color": "#76c0e8",
                "styles": {},
                "label": "The user information and instructions as set out in Annex II (detailed above), shall be included in the Technical Documentation.",
                "scale_factor": 1,
                "type": "#76c0e8",
                "size": [
                  55,
                  55
                ],
                "position": [
                  0,
                  0
                ]
              },
              {
                "id": "Important_Critical_Software-66",
                "properties": {
                  "label": "The EU declaration of conformity referred to in Article 28, shall contain all of the following information:",
                  "Article": "Annex V",
                  "ActorType": "Important_Critical_Software"
                },
                "color": "#76c0e8",
                "styles": {},
                "label": "The EU declaration of conformity referred to in Article 28, shall contain all of the following information:",
                "scale_factor": 1,
                "type": "#76c0e8",
                "size": [
                  55,
                  55
                ],
                "position": [
                  0,
                  0
                ]
              },
              {
                "id": "Important_Critical_Software-67",
                "properties": {
                  "label": "(1) Name and type and any additional information enabling the unique identification of the product with digital elements",
                  "Article": "Annex V, §1",
                  "ActorType": "Important_Critical_Software"
                },
                "color": "#76c0e8",
                "styles": {},
                "label": "(1) Name and type and any additional information enabling the unique identification of the product with digital elements",
                "scale_factor": 1,
                "type": "#76c0e8",
                "size": [
                  55,
                  55
                ],
                "position": [
                  0,
                  0
                ]
              },
              {
                "id": "Important_Critical_Software-68",
                "properties": {
                  "label": "(2) Name and address of the manufacturer or its authorised representative",
                  "Article": "Annex V, §2",
                  "ActorType": "Important_Critical_Software"
                },
                "color": "#76c0e8",
                "styles": {},
                "label": "(2) Name and address of the manufacturer or its authorised representative",
                "scale_factor": 1,
                "type": "#76c0e8",
                "size": [
                  55,
                  55
                ],
                "position": [
                  0,
                  0
                ]
              },
              {
                "id": "Important_Critical_Software-69",
                "properties": {
                  "label": "(3) A statement that the EU declaration of conformity is issued under the sole responsibility of the provider",
                  "Article": "Annex V, §3",
                  "ActorType": "Important_Critical_Software"
                },
                "color": "#76c0e8",
                "styles": {},
                "label": "(3) A statement that the EU declaration of conformity is issued under the sole responsibility of the provider",
                "scale_factor": 1,
                "type": "#76c0e8",
                "size": [
                  55,
                  55
                ],
                "position": [
                  0,
                  0
                ]
              },
              {
                "id": "Important_Critical_Software-70",
                "properties": {
                  "label": "(4) Object of the declaration (identification of the product with digital elements allowing traceability, which may include a photograph, where appropriate)",
                  "Article": "Annex V, §4",
                  "ActorType": "Important_Critical_Software"
                },
                "color": "#76c0e8",
                "styles": {},
                "label": "(4) Object of the declaration (identification of the product with digital elements allowing traceability, which may include a photograph, where appropriate)",
                "scale_factor": 1,
                "type": "#76c0e8",
                "size": [
                  55,
                  55
                ],
                "position": [
                  0,
                  0
                ]
              },
              {
                "id": "Important_Critical_Software-71",
                "properties": {
                  "label": "(5) A statement that the object of the declaration described above is in conformity with the relevant Union harmonisation legislation",
                  "Article": "Annex V, §5",
                  "ActorType": "Important_Critical_Software"
                },
                "color": "#76c0e8",
                "styles": {},
                "label": "(5) A statement that the object of the declaration described above is in conformity with the relevant Union harmonisation legislation",
                "scale_factor": 1,
                "type": "#76c0e8",
                "size": [
                  55,
                  55
                ],
                "position": [
                  0,
                  0
                ]
              },
              {
                "id": "Important_Critical_Software-72",
                "properties": {
                  "label": "(6) References to any relevant harmonised standards used or any other common specification or cybersecurity certification in relation to which conformity is declared",
                  "Article": "Annex V, §6",
                  "ActorType": "Important_Critical_Software"
                },
                "color": "#76c0e8",
                "styles": {},
                "label": "(6) References to any relevant harmonised standards used or any other common specification or cybersecurity certification in relation to which conformity is declared",
                "scale_factor": 1,
                "type": "#76c0e8",
                "size": [
                  55,
                  55
                ],
                "position": [
                  0,
                  0
                ]
              },
              {
                "id": "Important_Critical_Software-73",
                "properties": {
                  "label": "(7) Where applicable, the name and number of the notified body, a description of the conformity assessment procedure performed and identification of the certificate issued",
                  "Article": "Annex V, §7",
                  "ActorType": "Important_Critical_Software"
                },
                "color": "#76c0e8",
                "styles": {},
                "label": "(7) Where applicable, the name and number of the notified body, a description of the conformity assessment procedure performed and identification of the certificate issued",
                "scale_factor": 1,
                "type": "#76c0e8",
                "size": [
                  55,
                  55
                ],
                "position": [
                  0,
                  0
                ]
              },
              {
                "id": "Important_Critical_Software-74",
                "properties": {
                  "label": "(8) Additional information:\nSigned for and on behalf of:\n(place and date of issue):\n(name, function)\n(signature):",
                  "Article": "Annex V, §8",
                  "ActorType": "Important_Critical_Software"
                },
                "color": "#76c0e8",
                "styles": {},
                "label": "(8) Additional information:\nSigned for and on behalf of:\n(place and date of issue):\n(name, function)\n(signature):",
                "scale_factor": 1,
                "type": "#76c0e8",
                "size": [
                  55,
                  55
                ],
                "position": [
                  0,
                  0
                ]
              },
              {
                "id": "Important_Critical_Software-75",
                "properties": {
                  "label": "SIMPLIFIED EU DECLARATION OF CONFORMITY",
                  "Article": "Annex VI",
                  "ActorType": "Important_Critical_Software"
                },
                "color": "#76c0e8",
                "styles": {},
                "label": "SIMPLIFIED EU DECLARATION OF CONFORMITY",
                "scale_factor": 1,
                "type": "#76c0e8",
                "size": [
                  55,
                  55
                ],
                "position": [
                  0,
                  0
                ]
              },
              {
                "id": "Important_Critical_Software-76",
                "properties": {
                  "label": "3. an assessment of the cybersecurity risks against which the product with digital elements is designed, developed, produced, delivered and maintained pursuant to Article 13, including how the essential cybersecurity requirements set out in Part I of Annex I are applicable;",
                  "Article": "Annex VII, §3",
                  "ActorType": "Important_Critical_Software"
                },
                "color": "#76c0e8",
                "styles": {},
                "label": "3. an assessment of the cybersecurity risks against which the product with digital elements is designed, developed, produced, delivered and maintained pursuant to Article 13, including how the essential cybersecurity requirements set out in Part I of Annex I are applicable;",
                "scale_factor": 1,
                "type": "#76c0e8",
                "size": [
                  55,
                  55
                ],
                "position": [
                  0,
                  0
                ]
              },
              {
                "id": "Important_Critical_Software-77",
                "properties": {
                  "label": "4. relevant information that was taken into account to determine the support period pursuant to Article 13(8) of the product with digital elements;",
                  "Article": "Annex VII, §4",
                  "ActorType": "Important_Critical_Software"
                },
                "color": "#76c0e8",
                "styles": {},
                "label": "4. relevant information that was taken into account to determine the support period pursuant to Article 13(8) of the product with digital elements;",
                "scale_factor": 1,
                "type": "#76c0e8",
                "size": [
                  55,
                  55
                ],
                "position": [
                  0,
                  0
                ]
              },
              {
                "id": "Important_Critical_Software-78",
                "properties": {
                  "label": "5. a list of the harmonised standards applied in full or in part the references of which have been published in the Official Journal of the European Union, common specifications as set out in Article 27 of this Regulation or European cybersecurity certification schemes adopted pursuant to Regulation (EU) 2019/881 pursuant to Article 27(8) of this Regulation, and, where those harmonised standards, common specifications or European cybersecurity certification schemes have not been applied, descriptions of the solutions adopted to meet the essential cybersecurity requirements set out in Parts I and II of Annex I, including a list of other relevant technical specifications applied. In the event of partly applied harmonised standards, common specifications or European cybersecurity certification schemes, the technical documentation shall specify the parts which have been applied;",
                  "Article": "Annex VII, §5",
                  "ActorType": "Important_Critical_Software"
                },
                "color": "#76c0e8",
                "styles": {},
                "label": "5. a list of the harmonised standards applied in full or in part the references of which have been published in the Official Journal of the European Union, common specifications as set out in Article 27 of this Regulation or European cybersecurity certification schemes adopted pursuant to Regulation (EU) 2019/881 pursuant to Article 27(8) of this Regulation, and, where those harmonised standards, common specifications or European cybersecurity certification schemes have not been applied, descriptions of the solutions adopted to meet the essential cybersecurity requirements set out in Parts I and II of Annex I, including a list of other relevant technical specifications applied. In the event of partly applied harmonised standards, common specifications or European cybersecurity certification schemes, the technical documentation shall specify the parts which have been applied;",
                "scale_factor": 1,
                "type": "#76c0e8",
                "size": [
                  55,
                  55
                ],
                "position": [
                  0,
                  0
                ]
              },
              {
                "id": "Important_Critical_Software-79",
                "properties": {
                  "label": "6. reports of the tests carried out to verify the conformity of the product with digital elements and of the vulnerability handling processes with the applicable essential cybersecurity requirements as set out in Parts I and II of Annex I;",
                  "Article": "Annex VII, §6",
                  "ActorType": "Important_Critical_Software"
                },
                "color": "#76c0e8",
                "styles": {},
                "label": "6. reports of the tests carried out to verify the conformity of the product with digital elements and of the vulnerability handling processes with the applicable essential cybersecurity requirements as set out in Parts I and II of Annex I;",
                "scale_factor": 1,
                "type": "#76c0e8",
                "size": [
                  55,
                  55
                ],
                "position": [
                  0,
                  0
                ]
              },
              {
                "id": "Important_Critical_Software-80",
                "properties": {
                  "label": "7. a copy of the EU declaration of conformity;",
                  "Article": "Annex VII, §7",
                  "ActorType": "Important_Critical_Software"
                },
                "color": "#76c0e8",
                "styles": {},
                "label": "7. a copy of the EU declaration of conformity;",
                "scale_factor": 1,
                "type": "#76c0e8",
                "size": [
                  55,
                  55
                ],
                "position": [
                  0,
                  0
                ]
              },
              {
                "id": "Important_Critical_Software-81",
                "properties": {
                  "label": "8. where applicable, the software bill of materials, further to a reasoned request from a market surveillance authority provided that it is necessary in order for that authority to be able to check compliance with the essential cybersecurity requirements set out in Annex I.",
                  "Article": "Annex VII, §8",
                  "ActorType": "Important_Critical_Software"
                },
                "color": "#76c0e8",
                "styles": {},
                "label": "8. where applicable, the software bill of materials, further to a reasoned request from a market surveillance authority provided that it is necessary in order for that authority to be able to check compliance with the essential cybersecurity requirements set out in Annex I.",
                "scale_factor": 1,
                "type": "#76c0e8",
                "size": [
                  55,
                  55
                ],
                "position": [
                  0,
                  0
                ]
              },
              {
                "id": "Important_Critical_Software-89",
                "properties": {
                  "label": "The technical documentation shall contain at least the following information, as applicable to the relevant product with digital elements:",
                  "Article": "Annex VII",
                  "ActorType": "Important_Critical_Software"
                },
                "color": "#76c0e8",
                "styles": {},
                "label": "The technical documentation shall contain at least the following information, as applicable to the relevant product with digital elements:",
                "scale_factor": 1,
                "type": "#76c0e8",
                "size": [
                  55,
                  55
                ],
                "position": [
                  0,
                  0
                ]
              },
              {
                "id": "Important_Critical_Software-90",
                "properties": {
                  "label": "1. a general description of the product with digital elements, including:",
                  "Article": "Annex VII, §1",
                  "ActorType": "Important_Critical_Software"
                },
                "color": "#76c0e8",
                "styles": {},
                "label": "1. a general description of the product with digital elements, including:",
                "scale_factor": 1,
                "type": "#76c0e8",
                "size": [
                  55,
                  55
                ],
                "position": [
                  0,
                  0
                ]
              },
              {
                "id": "Important_Critical_Software-91",
                "properties": {
                  "label": "(a) its intended purpose;",
                  "Article": "Annex VII, §1 (a)",
                  "ActorType": "Important_Critical_Software"
                },
                "color": "#76c0e8",
                "styles": {},
                "label": "(a) its intended purpose;",
                "scale_factor": 1,
                "type": "#76c0e8",
                "size": [
                  55,
                  55
                ],
                "position": [
                  0,
                  0
                ]
              },
              {
                "id": "Important_Critical_Software-92",
                "properties": {
                  "label": "(b) versions of software affecting compliance with essential cybersecurity requirements;",
                  "Article": "Annex VII, §1 (b)",
                  "ActorType": "Important_Critical_Software"
                },
                "color": "#76c0e8",
                "styles": {},
                "label": "(b) versions of software affecting compliance with essential cybersecurity requirements;",
                "scale_factor": 1,
                "type": "#76c0e8",
                "size": [
                  55,
                  55
                ],
                "position": [
                  0,
                  0
                ]
              },
              {
                "id": "Important_Critical_Software-93",
                "properties": {
                  "label": "(c) where the product with digital elements is a hardware product, photographs or illustrations showing external features, marking and internal layout;",
                  "Article": "Annex VII, §1 (c)",
                  "ActorType": "Important_Critical_Software"
                },
                "color": "#76c0e8",
                "styles": {},
                "label": "(c) where the product with digital elements is a hardware product, photographs or illustrations showing external features, marking and internal layout;",
                "scale_factor": 1,
                "type": "#76c0e8",
                "size": [
                  55,
                  55
                ],
                "position": [
                  0,
                  0
                ]
              },
              {
                "id": "Important_Critical_Software-94",
                "properties": {
                  "label": "(d) user information and instructions as set out in Annex II;",
                  "Article": "Annex VII, §1 (d)",
                  "ActorType": "Important_Critical_Software"
                },
                "color": "#76c0e8",
                "styles": {},
                "label": "(d) user information and instructions as set out in Annex II;",
                "scale_factor": 1,
                "type": "#76c0e8",
                "size": [
                  55,
                  55
                ],
                "position": [
                  0,
                  0
                ]
              },
              {
                "id": "Important_Critical_Software-95",
                "properties": {
                  "label": "2. a description of the design, development and production of the product with digital elements and vulnerability handling processes, including:",
                  "Article": "Annex VII, §2",
                  "ActorType": "Important_Critical_Software"
                },
                "color": "#76c0e8",
                "styles": {},
                "label": "2. a description of the design, development and production of the product with digital elements and vulnerability handling processes, including:",
                "scale_factor": 1,
                "type": "#76c0e8",
                "size": [
                  55,
                  55
                ],
                "position": [
                  0,
                  0
                ]
              },
              {
                "id": "Important_Critical_Software-96",
                "properties": {
                  "label": "(a) necessary information on the design and development of the product with digital elements, including, where applicable, drawings and schemes and a description of the system architecture explaining how software components build on or feed into each other and integrate into the overall processing;",
                  "Article": "Annex VII, §2 (a)",
                  "ActorType": "Important_Critical_Software"
                },
                "color": "#76c0e8",
                "styles": {},
                "label": "(a) necessary information on the design and development of the product with digital elements, including, where applicable, drawings and schemes and a description of the system architecture explaining how software components build on or feed into each other and integrate into the overall processing;",
                "scale_factor": 1,
                "type": "#76c0e8",
                "size": [
                  55,
                  55
                ],
                "position": [
                  0,
                  0
                ]
              },
              {
                "id": "Important_Critical_Software-97",
                "properties": {
                  "label": "(b) necessary information and specifications of the vulnerability handling processes put in place by the manufacturer, including the software bill of materials, the coordinated vulnerability disclosure policy, evidence of the provision of a contact address for the reporting of the vulnerabilities and a description of the technical solutions chosen for the secure distribution of updates;",
                  "Article": "Annex VII, §2 (b)",
                  "ActorType": "Important_Critical_Software"
                },
                "color": "#76c0e8",
                "styles": {},
                "label": "(b) necessary information and specifications of the vulnerability handling processes put in place by the manufacturer, including the software bill of materials, the coordinated vulnerability disclosure policy, evidence of the provision of a contact address for the reporting of the vulnerabilities and a description of the technical solutions chosen for the secure distribution of updates;",
                "scale_factor": 1,
                "type": "#76c0e8",
                "size": [
                  55,
                  55
                ],
                "position": [
                  0,
                  0
                ]
              },
              {
                "id": "Important_Critical_Software-98",
                "properties": {
                  "label": "(c) necessary information and specifications of the production and monitoring processes of the product with digital elements and the validation of those processes;",
                  "Article": "Annex VII, §2 (c)",
                  "ActorType": "Important_Critical_Software"
                },
                "color": "#76c0e8",
                "styles": {},
                "label": "(c) necessary information and specifications of the production and monitoring processes of the product with digital elements and the validation of those processes;",
                "scale_factor": 1,
                "type": "#76c0e8",
                "size": [
                  55,
                  55
                ],
                "position": [
                  0,
                  0
                ]
              },
              {
                "id": "Important_Critical_Software-99",
                "properties": {
                  "label": "3. an assessment of the cybersecurity risks against which the product with digital elements is designed, developed, produced, delivered and maintained pursuant to Article 13, including how the essential cybersecurity requirements set out in Part I of Annex I are applicable;",
                  "Article": "Annex VII, §3",
                  "ActorType": "Important_Critical_Software"
                },
                "color": "#76c0e8",
                "styles": {},
                "label": "3. an assessment of the cybersecurity risks against which the product with digital elements is designed, developed, produced, delivered and maintained pursuant to Article 13, including how the essential cybersecurity requirements set out in Part I of Annex I are applicable;",
                "scale_factor": 1,
                "type": "#76c0e8",
                "size": [
                  55,
                  55
                ],
                "position": [
                  0,
                  0
                ]
              },
              {
                "id": "Important_Critical_Software-100",
                "properties": {
                  "label": "4. relevant information that was taken into account to determine the support period pursuant to Article 13(8) of the product with digital elements;",
                  "Article": "Annex VII, §4",
                  "ActorType": "Important_Critical_Software"
                },
                "color": "#76c0e8",
                "styles": {},
                "label": "4. relevant information that was taken into account to determine the support period pursuant to Article 13(8) of the product with digital elements;",
                "scale_factor": 1,
                "type": "#76c0e8",
                "size": [
                  55,
                  55
                ],
                "position": [
                  0,
                  0
                ]
              },
              {
                "id": "Important_Critical_Software-101",
                "properties": {
                  "label": "5. a list of the harmonised standards applied in full or in part the references of which have been published in the Official Journal of the European Union, common specifications as set out in Article 27 of this Regulation or European cybersecurity certification schemes adopted pursuant to Regulation (EU) 2019/881 pursuant to Article 27(8) of this Regulation, and, where those harmonised standards, common specifications or European cybersecurity certification schemes have not been applied, descriptions of the solutions adopted to meet the essential cybersecurity requirements set out in Parts I and II of Annex I, including a list of other relevant technical specifications applied. In the event of partly applied harmonised standards, common specifications or European cybersecurity certification schemes, the technical documentation shall specify the parts which have been applied;",
                  "Article": "Annex VII, §5",
                  "ActorType": "Important_Critical_Software"
                },
                "color": "#76c0e8",
                "styles": {},
                "label": "5. a list of the harmonised standards applied in full or in part the references of which have been published in the Official Journal of the European Union, common specifications as set out in Article 27 of this Regulation or European cybersecurity certification schemes adopted pursuant to Regulation (EU) 2019/881 pursuant to Article 27(8) of this Regulation, and, where those harmonised standards, common specifications or European cybersecurity certification schemes have not been applied, descriptions of the solutions adopted to meet the essential cybersecurity requirements set out in Parts I and II of Annex I, including a list of other relevant technical specifications applied. In the event of partly applied harmonised standards, common specifications or European cybersecurity certification schemes, the technical documentation shall specify the parts which have been applied;",
                "scale_factor": 1,
                "type": "#76c0e8",
                "size": [
                  55,
                  55
                ],
                "position": [
                  0,
                  0
                ]
              },
              {
                "id": "Important_Critical_Software-102",
                "properties": {
                  "label": "6. reports of the tests carried out to verify the conformity of the product with digital elements and of the vulnerability handling processes with the applicable essential cybersecurity requirements as set out in Parts I and II of Annex I;",
                  "Article": "Annex VII, §6",
                  "ActorType": "Important_Critical_Software"
                },
                "color": "#76c0e8",
                "styles": {},
                "label": "6. reports of the tests carried out to verify the conformity of the product with digital elements and of the vulnerability handling processes with the applicable essential cybersecurity requirements as set out in Parts I and II of Annex I;",
                "scale_factor": 1,
                "type": "#76c0e8",
                "size": [
                  55,
                  55
                ],
                "position": [
                  0,
                  0
                ]
              },
              {
                "id": "Important_Critical_Software-103",
                "properties": {
                  "label": "7. a copy of the EU declaration of conformity;",
                  "Article": "Annex VII, §7",
                  "ActorType": "Important_Critical_Software"
                },
                "color": "#76c0e8",
                "styles": {},
                "label": "7. a copy of the EU declaration of conformity;",
                "scale_factor": 1,
                "type": "#76c0e8",
                "size": [
                  55,
                  55
                ],
                "position": [
                  0,
                  0
                ]
              },
              {
                "id": "Important_Critical_Software-104",
                "properties": {
                  "label": "8. where applicable, the software bill of materials, further to a reasoned request from a market surveillance authority provided that it is necessary in order for that authority to be able to check compliance with the essential cybersecurity requirements set out in Annex I.",
                  "Article": "Annex VII, §8",
                  "ActorType": "Important_Critical_Software"
                },
                "color": "#76c0e8",
                "styles": {},
                "label": "8. where applicable, the software bill of materials, further to a reasoned request from a market surveillance authority provided that it is necessary in order for that authority to be able to check compliance with the essential cybersecurity requirements set out in Annex I.",
                "scale_factor": 1,
                "type": "#76c0e8",
                "size": [
                  55,
                  55
                ],
                "position": [
                  0,
                  0
                ]
              },
              {
                "id": "Important_Critical_Software-111",
                "properties": {
                  "label": "A manufacturer shall notify any actively exploited vulnerability contained in the product with digital elements that it becomes aware of simultaneously to the CSIRT designated as coordinator and to ENISA. The manufacturer shall notify that actively exploited vulnerability via the single reporting platform established pursuant to Article 16.",
                  "Article": "Article 14(1) and 14(7)",
                  "ActorType": "Important_Critical_Software"
                },
                "color": "#76c0e8",
                "styles": {},
                "label": "A manufacturer shall notify any actively exploited vulnerability contained in the product with digital elements that it becomes aware of simultaneously to the CSIRT designated as coordinator and to ENISA. The manufacturer shall notify that actively exploited vulnerability via the single reporting platform established pursuant to Article 16.",
                "scale_factor": 1,
                "type": "#76c0e8",
                "size": [
                  55,
                  55
                ],
                "position": [
                  0,
                  0
                ]
              },
              {
                "id": "Important_Critical_Software-112",
                "properties": {
                  "label": "For the purposes of the notification referred to in paragraph 1, the manufacturer shall submit:",
                  "Article": "Article 14 (2)",
                  "ActorType": "Important_Critical_Software"
                },
                "color": "#76c0e8",
                "styles": {},
                "label": "For the purposes of the notification referred to in paragraph 1, the manufacturer shall submit:",
                "scale_factor": 1,
                "type": "#76c0e8",
                "size": [
                  55,
                  55
                ],
                "position": [
                  0,
                  0
                ]
              },
              {
                "id": "Important_Critical_Software-113",
                "properties": {
                  "label": "(a) an early warning notification of an actively exploited vulnerability, without undue delay and in any event within 24 hours of the manufacturer becoming aware of it, indicating, where applicable, the Member States on the territory of which the manufacturer is aware that their product with digital elements has been made available;",
                  "Article": "Article 14 (2) (a)",
                  "ActorType": "Important_Critical_Software"
                },
                "color": "#76c0e8",
                "styles": {},
                "label": "(a) an early warning notification of an actively exploited vulnerability, without undue delay and in any event within 24 hours of the manufacturer becoming aware of it, indicating, where applicable, the Member States on the territory of which the manufacturer is aware that their product with digital elements has been made available;",
                "scale_factor": 1,
                "type": "#76c0e8",
                "size": [
                  55,
                  55
                ],
                "position": [
                  0,
                  0
                ]
              },
              {
                "id": "Important_Critical_Software-114",
                "properties": {
                  "label": "(b) unless the relevant information has already been provided, a vulnerability notification, without undue delay and in any event within 72 hours of the manufacturer becoming aware of the actively exploited vulnerability, which shall provide general information, as available, about the product with digital elements concerned, the general nature of the exploit and of the vulnerability concerned as well as any corrective or mitigating measures taken, and corrective or mitigating measures that users can take, and which shall also indicate, where applicable, how sensitive the manufacturer considers the notified information to be;",
                  "Article": "Article 14 (2) (b)",
                  "ActorType": "Important_Critical_Software"
                },
                "color": "#76c0e8",
                "styles": {},
                "label": "(b) unless the relevant information has already been provided, a vulnerability notification, without undue delay and in any event within 72 hours of the manufacturer becoming aware of the actively exploited vulnerability, which shall provide general information, as available, about the product with digital elements concerned, the general nature of the exploit and of the vulnerability concerned as well as any corrective or mitigating measures taken, and corrective or mitigating measures that users can take, and which shall also indicate, where applicable, how sensitive the manufacturer considers the notified information to be;",
                "scale_factor": 1,
                "type": "#76c0e8",
                "size": [
                  55,
                  55
                ],
                "position": [
                  0,
                  0
                ]
              },
              {
                "id": "Important_Critical_Software-115",
                "properties": {
                  "label": "(c) unless the relevant information has already been provided, a final report, no later than 14 days after a corrective or mitigating measure is available, including at least the following:",
                  "Article": "Article 14 (2) (c)",
                  "ActorType": "Important_Critical_Software"
                },
                "color": "#76c0e8",
                "styles": {},
                "label": "(c) unless the relevant information has already been provided, a final report, no later than 14 days after a corrective or mitigating measure is available, including at least the following:",
                "scale_factor": 1,
                "type": "#76c0e8",
                "size": [
                  55,
                  55
                ],
                "position": [
                  0,
                  0
                ]
              },
              {
                "id": "Important_Critical_Software-116",
                "properties": {
                  "label": "(i) a description of the vulnerability, including its severity and impact;",
                  "Article": "Article 14 (2) (c) (i)",
                  "ActorType": "Important_Critical_Software"
                },
                "color": "#76c0e8",
                "styles": {},
                "label": "(i) a description of the vulnerability, including its severity and impact;",
                "scale_factor": 1,
                "type": "#76c0e8",
                "size": [
                  55,
                  55
                ],
                "position": [
                  0,
                  0
                ]
              },
              {
                "id": "Important_Critical_Software-117",
                "properties": {
                  "label": "(ii) where available, information concerning any malicious actor that has exploited or that is exploiting the vulnerability;",
                  "Article": "Article 14 (2) (c) (ii)",
                  "ActorType": "Important_Critical_Software"
                },
                "color": "#76c0e8",
                "styles": {},
                "label": "(ii) where available, information concerning any malicious actor that has exploited or that is exploiting the vulnerability;",
                "scale_factor": 1,
                "type": "#76c0e8",
                "size": [
                  55,
                  55
                ],
                "position": [
                  0,
                  0
                ]
              },
              {
                "id": "Important_Critical_Software-118",
                "properties": {
                  "label": "(iii) details about the security update or other corrective measures that have been made available to remedy the vulnerability.",
                  "Article": "Article 14 (2) (c) (iII)",
                  "ActorType": "Important_Critical_Software"
                },
                "color": "#76c0e8",
                "styles": {},
                "label": "(iii) details about the security update or other corrective measures that have been made available to remedy the vulnerability.",
                "scale_factor": 1,
                "type": "#76c0e8",
                "size": [
                  55,
                  55
                ],
                "position": [
                  0,
                  0
                ]
              },
              {
                "id": "Important_Critical_Software-119",
                "properties": {
                  "label": "A manufacturer shall notify any severe incident having an impact on the security of the product with digital elements that it becomes aware of simultaneously to the CSIRT designated as coordinator, in accordance with paragraph 7 of this Article, and to ENISA. The manufacturer shall notify that incident via the single reporting platform",
                  "Article": "Article 14 (3)",
                  "ActorType": "Important_Critical_Software"
                },
                "color": "#76c0e8",
                "styles": {},
                "label": "A manufacturer shall notify any severe incident having an impact on the security of the product with digital elements that it becomes aware of simultaneously to the CSIRT designated as coordinator, in accordance with paragraph 7 of this Article, and to ENISA. The manufacturer shall notify that incident via the single reporting platform",
                "scale_factor": 1,
                "type": "#76c0e8",
                "size": [
                  55,
                  55
                ],
                "position": [
                  0,
                  0
                ]
              },
              {
                "id": "Important_Critical_Software-120",
                "properties": {
                  "label": "For the purposes of the notification referred to in paragraph 3, the manufacturer shall submit:",
                  "Article": "Article 14 (4)",
                  "ActorType": "Important_Critical_Software"
                },
                "color": "#76c0e8",
                "styles": {},
                "label": "For the purposes of the notification referred to in paragraph 3, the manufacturer shall submit:",
                "scale_factor": 1,
                "type": "#76c0e8",
                "size": [
                  55,
                  55
                ],
                "position": [
                  0,
                  0
                ]
              },
              {
                "id": "Important_Critical_Software-121",
                "properties": {
                  "label": "(a) an early warning notification of a severe incident having an impact on the security of the product with digital elements, without undue delay and in any event within 24 hours of the manufacturer becoming aware of it, including at least whether the incident is suspected of being caused by unlawful or malicious acts, which shall also indicate, where applicable, the Member States on the territory of which the manufacturer is aware that their product with digital elements has been made available;",
                  "Article": "Article 14 (4) (a)",
                  "ActorType": "Important_Critical_Software"
                },
                "color": "#76c0e8",
                "styles": {},
                "label": "(a) an early warning notification of a severe incident having an impact on the security of the product with digital elements, without undue delay and in any event within 24 hours of the manufacturer becoming aware of it, including at least whether the incident is suspected of being caused by unlawful or malicious acts, which shall also indicate, where applicable, the Member States on the territory of which the manufacturer is aware that their product with digital elements has been made available;",
                "scale_factor": 1,
                "type": "#76c0e8",
                "size": [
                  55,
                  55
                ],
                "position": [
                  0,
                  0
                ]
              },
              {
                "id": "Important_Critical_Software-122",
                "properties": {
                  "label": "(b) unless the relevant information has already been provided, an incident notification, without undue delay and in any event within 72 hours of the manufacturer becoming aware of the incident, which shall provide general information, where available, about the nature of the incident, an initial assessment of the incident, as well as any corrective or mitigating measures taken, and corrective or mitigating measures that users can take, and which shall also indicate, where applicable, how sensitive the manufacturer considers the notified information to be;",
                  "Article": "Article 14 (4) (b)",
                  "ActorType": "Important_Critical_Software"
                },
                "color": "#76c0e8",
                "styles": {},
                "label": "(b) unless the relevant information has already been provided, an incident notification, without undue delay and in any event within 72 hours of the manufacturer becoming aware of the incident, which shall provide general information, where available, about the nature of the incident, an initial assessment of the incident, as well as any corrective or mitigating measures taken, and corrective or mitigating measures that users can take, and which shall also indicate, where applicable, how sensitive the manufacturer considers the notified information to be;",
                "scale_factor": 1,
                "type": "#76c0e8",
                "size": [
                  55,
                  55
                ],
                "position": [
                  0,
                  0
                ]
              },
              {
                "id": "Important_Critical_Software-123",
                "properties": {
                  "label": "(c) unless the relevant information has already been provided, a final report, within one month after the submission of the incident notification under point (b), including at least the following:",
                  "Article": "Article 14 (4) (c)",
                  "ActorType": "Important_Critical_Software"
                },
                "color": "#76c0e8",
                "styles": {},
                "label": "(c) unless the relevant information has already been provided, a final report, within one month after the submission of the incident notification under point (b), including at least the following:",
                "scale_factor": 1,
                "type": "#76c0e8",
                "size": [
                  55,
                  55
                ],
                "position": [
                  0,
                  0
                ]
              },
              {
                "id": "Important_Critical_Software-124",
                "properties": {
                  "label": "(i) a detailed description of the incident, including its severity and impact;",
                  "Article": "Article 14 (4) (c) (i)",
                  "ActorType": "Important_Critical_Software"
                },
                "color": "#76c0e8",
                "styles": {},
                "label": "(i) a detailed description of the incident, including its severity and impact;",
                "scale_factor": 1,
                "type": "#76c0e8",
                "size": [
                  55,
                  55
                ],
                "position": [
                  0,
                  0
                ]
              },
              {
                "id": "Important_Critical_Software-125",
                "properties": {
                  "label": "(ii) the type of threat or root cause that is likely to have triggered the incident;",
                  "Article": "Article 14 (4) (c) (ii)",
                  "ActorType": "Important_Critical_Software"
                },
                "color": "#76c0e8",
                "styles": {},
                "label": "(ii) the type of threat or root cause that is likely to have triggered the incident;",
                "scale_factor": 1,
                "type": "#76c0e8",
                "size": [
                  55,
                  55
                ],
                "position": [
                  0,
                  0
                ]
              },
              {
                "id": "Important_Critical_Software-126",
                "properties": {
                  "label": "(iii) applied and ongoing mitigation measures.",
                  "Article": "Article 14 (4) (c) (iii)",
                  "ActorType": "Important_Critical_Software"
                },
                "color": "#76c0e8",
                "styles": {},
                "label": "(iii) applied and ongoing mitigation measures.",
                "scale_factor": 1,
                "type": "#76c0e8",
                "size": [
                  55,
                  55
                ],
                "position": [
                  0,
                  0
                ]
              },
              {
                "id": "Important_Critical_Software-127",
                "properties": {
                  "label": "After becoming aware of an actively exploited vulnerability or a severe incident having an impact on the security of the product with digital elements, the manufacturer shall inform the impacted users of the product with digital elements, and where appropriate all users, of that vulnerability or incident and, where necessary, of any risk mitigation and corrective measures that the users can deploy to mitigate the impact of that vulnerability or incident, where appropriate in a structured, machine-readable format that is easily automatically processable. Where the manufacturer fails to inform the users of the product with digital elements in a timely manner, the notified CSIRTs designated as coordinators may provide such information to the users when considered to be proportionate and necessary for preventing or mitigating the impact of that vulnerability or incident.",
                  "Article": "Article 14 (8)",
                  "ActorType": "Important_Critical_Software"
                },
                "color": "#76c0e8",
                "styles": {},
                "label": "After becoming aware of an actively exploited vulnerability or a severe incident having an impact on the security of the product with digital elements, the manufacturer shall inform the impacted users of the product with digital elements, and where appropriate all users, of that vulnerability or incident and, where necessary, of any risk mitigation and corrective measures that the users can deploy to mitigate the impact of that vulnerability or incident, where appropriate in a structured, machine-readable format that is easily automatically processable. Where the manufacturer fails to inform the users of the product with digital elements in a timely manner, the notified CSIRTs designated as coordinators may provide such information to the users when considered to be proportionate and necessary for preventing or mitigating the impact of that vulnerability or incident.",
                "scale_factor": 1,
                "type": "#76c0e8",
                "size": [
                  55,
                  55
                ],
                "position": [
                  0,
                  0
                ]
              },
              {
                "id": "Important_Critical_Software-128",
                "properties": {
                  "label": "Manufacturers as well as other natural or legal persons may notify any vulnerability contained in a product with digital elements as well as cyber threats that could affect the risk profile of a product with digital elements on a voluntary basis to a CSIRT designated as coordinator or ENISA.",
                  "Article": "Article 15 (1)",
                  "ActorType": "Important_Critical_Software"
                },
                "color": "#76c0e8",
                "styles": {},
                "label": "Manufacturers as well as other natural or legal persons may notify any vulnerability contained in a product with digital elements as well as cyber threats that could affect the risk profile of a product with digital elements on a voluntary basis to a CSIRT designated as coordinator or ENISA.",
                "scale_factor": 1,
                "type": "#76c0e8",
                "size": [
                  55,
                  55
                ],
                "position": [
                  0,
                  0
                ]
              },
              {
                "id": "Important_Critical_Software-129",
                "properties": {
                  "label": "Manufacturers as well as other natural or legal persons may notify any incident having an impact on the security of the product with digital elements as well as near misses that could have resulted in such an incident on a voluntary basis to a CSIRT designated as coordinator or ENISA.",
                  "Article": "Article 15 (2)",
                  "ActorType": "Important_Critical_Software"
                },
                "color": "#76c0e8",
                "styles": {},
                "label": "Manufacturers as well as other natural or legal persons may notify any incident having an impact on the security of the product with digital elements as well as near misses that could have resulted in such an incident on a voluntary basis to a CSIRT designated as coordinator or ENISA.",
                "scale_factor": 1,
                "type": "#76c0e8",
                "size": [
                  55,
                  55
                ],
                "position": [
                  0,
                  0
                ]
              },
              {
                "id": "Important_Critical_Software-135",
                "properties": {
                  "label": "EU-type examination is the part of a conformity assessment procedure in which a notified body examines the technical design and development of a product with digital elements and the vulnerability handling processes put in place by the manufacturer, and attests that a product with digital elements meets the essential cybersecurity requirements set out in Part I of Annex I and that the manufacturer meets the essential cybersecurity requirements set out in Part II of Annex I.",
                  "Article": "Annex VIII, Part II, §1",
                  "ActorType": "Important_Critical_Software"
                },
                "color": "#76c0e8",
                "styles": {},
                "label": "EU-type examination is the part of a conformity assessment procedure in which a notified body examines the technical design and development of a product with digital elements and the vulnerability handling processes put in place by the manufacturer, and attests that a product with digital elements meets the essential cybersecurity requirements set out in Part I of Annex I and that the manufacturer meets the essential cybersecurity requirements set out in Part II of Annex I.",
                "scale_factor": 1,
                "type": "#76c0e8",
                "size": [
                  55,
                  55
                ],
                "position": [
                  0,
                  0
                ]
              },
              {
                "id": "Important_Critical_Software-136",
                "properties": {
                  "label": "EU-type examination shall be carried out by assessing the adequacy of the technical design and development of the product with digital elements through the examination of the technical documentation and supporting evidence referred to in point 3, and the examination of specimens of one or more critical parts of the product (combination of production type and design type).",
                  "Article": "Annex VIII, Part II, §2",
                  "ActorType": "Important_Critical_Software"
                },
                "color": "#76c0e8",
                "styles": {},
                "label": "EU-type examination shall be carried out by assessing the adequacy of the technical design and development of the product with digital elements through the examination of the technical documentation and supporting evidence referred to in point 3, and the examination of specimens of one or more critical parts of the product (combination of production type and design type).",
                "scale_factor": 1,
                "type": "#76c0e8",
                "size": [
                  55,
                  55
                ],
                "position": [
                  0,
                  0
                ]
              },
              {
                "id": "Important_Critical_Software-137",
                "properties": {
                  "label": "The manufacturer shall lodge an application for assessment of its quality system with the notified body of its choice, for the products with digital elements concerned. The application shall include:",
                  "Article": "Annex VIII, Part II, §3",
                  "ActorType": "Important_Critical_Software"
                },
                "color": "#76c0e8",
                "styles": {},
                "label": "The manufacturer shall lodge an application for assessment of its quality system with the notified body of its choice, for the products with digital elements concerned. The application shall include:",
                "scale_factor": 1,
                "type": "#76c0e8",
                "size": [
                  55,
                  55
                ],
                "position": [
                  0,
                  0
                ]
              },
              {
                "id": "Important_Critical_Software-138",
                "properties": {
                  "label": "the name and address of the manufacturer and, if the application is lodged by the authorised representative, the name and address of that authorised representative;",
                  "Article": "Annex VIII, Part II, §3.1",
                  "ActorType": "Important_Critical_Software"
                },
                "color": "#76c0e8",
                "styles": {},
                "label": "the name and address of the manufacturer and, if the application is lodged by the authorised representative, the name and address of that authorised representative;",
                "scale_factor": 1,
                "type": "#76c0e8",
                "size": [
                  55,
                  55
                ],
                "position": [
                  0,
                  0
                ]
              },
              {
                "id": "Important_Critical_Software-139",
                "properties": {
                  "label": "a written declaration that the same application has not been lodged with any other notified body;",
                  "Article": "Annex VIII, Part II, §3.2",
                  "ActorType": "Important_Critical_Software"
                },
                "color": "#76c0e8",
                "styles": {},
                "label": "a written declaration that the same application has not been lodged with any other notified body;",
                "scale_factor": 1,
                "type": "#76c0e8",
                "size": [
                  55,
                  55
                ],
                "position": [
                  0,
                  0
                ]
              },
              {
                "id": "Important_Critical_Software-140",
                "properties": {
                  "label": "the technical documentation, which shall make it possible to assess the conformity of the product with digital elements with the applicable essential cybersecurity requirements as set out in Part I of Annex I and the manufacturer’s vulnerability handling processes set out in Part II of Annex I and shall include an adequate analysis and assessment of the risks. The technical documentation shall specify the applicable requirements and cover, as far as relevant for the assessment, the design, manufacture and operation of the product with digital elements. The technical documentation shall contain, wherever applicable, at least the elements set out in Annex VII;",
                  "Article": "Annex VIII, Part II, §3.3",
                  "ActorType": "Important_Critical_Software"
                },
                "color": "#76c0e8",
                "styles": {},
                "label": "the technical documentation, which shall make it possible to assess the conformity of the product with digital elements with the applicable essential cybersecurity requirements as set out in Part I of Annex I and the manufacturer’s vulnerability handling processes set out in Part II of Annex I and shall include an adequate analysis and assessment of the risks. The technical documentation shall specify the applicable requirements and cover, as far as relevant for the assessment, the design, manufacture and operation of the product with digital elements. The technical documentation shall contain, wherever applicable, at least the elements set out in Annex VII;",
                "scale_factor": 1,
                "type": "#76c0e8",
                "size": [
                  55,
                  55
                ],
                "position": [
                  0,
                  0
                ]
              },
              {
                "id": "Important_Critical_Software-141",
                "properties": {
                  "label": "the supporting evidence for the adequacy of the technical design and development solutions and vulnerability handling processes. This supporting evidence shall mention any documents that have been used, in particular where the relevant harmonised standards or technical specifications have not been applied in full. The supporting evidence shall include, where necessary, the results of tests carried out by the appropriate laboratory of the manufacturer, or by another testing laboratory on its behalf and under its responsibility.",
                  "Article": "Annex VIII, Part II, §3.4",
                  "ActorType": "Important_Critical_Software"
                },
                "color": "#76c0e8",
                "styles": {},
                "label": "the supporting evidence for the adequacy of the technical design and development solutions and vulnerability handling processes. This supporting evidence shall mention any documents that have been used, in particular where the relevant harmonised standards or technical specifications have not been applied in full. The supporting evidence shall include, where necessary, the results of tests carried out by the appropriate laboratory of the manufacturer, or by another testing laboratory on its behalf and under its responsibility.",
                "scale_factor": 1,
                "type": "#76c0e8",
                "size": [
                  55,
                  55
                ],
                "position": [
                  0,
                  0
                ]
              },
              {
                "id": "Important_Critical_Software-142",
                "properties": {
                  "label": "The manufacturer shall inform the notified body that holds the technical documentation relating to the EU-type examination certificate of all modifications to the approved type and the vulnerability handling processes that may affect the conformity with the essential cybersecurity requirements set out in Annex I, or the conditions for validity of the certificate. Such modifications shall require additional approval in the form of an addition to the original EU-type examination certificate.",
                  "Article": "Annex VIII, Part II, §7",
                  "ActorType": "Important_Critical_Software"
                },
                "color": "#76c0e8",
                "styles": {},
                "label": "The manufacturer shall inform the notified body that holds the technical documentation relating to the EU-type examination certificate of all modifications to the approved type and the vulnerability handling processes that may affect the conformity with the essential cybersecurity requirements set out in Annex I, or the conditions for validity of the certificate. Such modifications shall require additional approval in the form of an addition to the original EU-type examination certificate.",
                "scale_factor": 1,
                "type": "#76c0e8",
                "size": [
                  55,
                  55
                ],
                "position": [
                  0,
                  0
                ]
              },
              {
                "id": "Important_Critical_Software-143",
                "properties": {
                  "label": "The manufacturer shall keep a copy of the EU-type examination certificate, its annexes and additions together with the technical documentation at the disposal of the national authorities for 10 years after the product with digital elements has been placed on the market or for the support period, whichever is longer.",
                  "Article": "Annex VIII, Part II, §10",
                  "ActorType": "Important_Critical_Software"
                },
                "color": "#76c0e8",
                "styles": {},
                "label": "The manufacturer shall keep a copy of the EU-type examination certificate, its annexes and additions together with the technical documentation at the disposal of the national authorities for 10 years after the product with digital elements has been placed on the market or for the support period, whichever is longer.",
                "scale_factor": 1,
                "type": "#76c0e8",
                "size": [
                  55,
                  55
                ],
                "position": [
                  0,
                  0
                ]
              },
              {
                "id": "IMPORTANT_Critical_products-3",
                "properties": {
                  "label": "Manufacturers shall undertake an assessment of the cybersecurity risks associated with a product with digital elements and take the outcome of that assessment into account during the planning, design, development, production, delivery and maintenance phases of the product with digital elements with a view to minimising cybersecurity risks, preventing incidents and minimising their impact, including in relation to the health and safety of users.",
                  "Article": "article 13(2)",
                  "ActorType": "IMPORTANT_Critical_products"
                },
                "color": "#e362d4",
                "styles": {},
                "label": "Manufacturers shall undertake an assessment of the cybersecurity risks associated with a product with digital elements and take the outcome of that assessment into account during the planning, design, development, production, delivery and maintenance phases of the product with digital elements with a view to minimising cybersecurity risks, preventing incidents and minimising their impact, including in relation to the health and safety of users.",
                "scale_factor": 1,
                "type": "#e362d4",
                "size": [
                  55,
                  55
                ],
                "position": [
                  0,
                  0
                ]
              },
              {
                "id": "IMPORTANT_Critical_products-4",
                "properties": {
                  "label": "The cybersecurity risk assessment shall be documented and updated as appropriate during a support period to be determined in accordance with paragraph 8 of this Article. That cybersecurity risk assessment shall comprise at least an analysis of cybersecurity risks based on the intended purpose and reasonably foreseeable use, as well as the conditions of use, of the product with digital elements, such as the operational environment or the assets to be protected, taking into account the length of time the product is expected to be in use. The cybersecurity risk assessment shall indicate whether and, if so in what manner, the security requirements set out in Part I, point (2), of Annex I are applicable to the relevant product with digital elements and how those requirements are implemented as informed by the cybersecurity risk assessment. It shall also indicate how the manufacturer is to apply Part I, point (1), of Annex I and the vulnerability handling requirements set out in Part II of Annex I.",
                  "Article": "Article 13(3)",
                  "ActorType": "IMPORTANT_Critical_products"
                },
                "color": "#e362d4",
                "styles": {},
                "label": "The cybersecurity risk assessment shall be documented and updated as appropriate during a support period to be determined in accordance with paragraph 8 of this Article. That cybersecurity risk assessment shall comprise at least an analysis of cybersecurity risks based on the intended purpose and reasonably foreseeable use, as well as the conditions of use, of the product with digital elements, such as the operational environment or the assets to be protected, taking into account the length of time the product is expected to be in use. The cybersecurity risk assessment shall indicate whether and, if so in what manner, the security requirements set out in Part I, point (2), of Annex I are applicable to the relevant product with digital elements and how those requirements are implemented as informed by the cybersecurity risk assessment. It shall also indicate how the manufacturer is to apply Part I, point (1), of Annex I and the vulnerability handling requirements set out in Part II of Annex I.",
                "scale_factor": 1,
                "type": "#e362d4",
                "size": [
                  55,
                  55
                ],
                "position": [
                  0,
                  0
                ]
              },
              {
                "id": "IMPORTANT_Critical_products-5",
                "properties": {
                  "label": "When placing a product with digital elements on the market, the manufacturer shall include the cybersecurity risk assessment in the technical documentation. For products with digital elements which are also subject to other Union legal acts, the cybersecurity risk assessment may be part of the risk assessment required by those Union legal acts. Where certain essential cybersecurity requirements are not applicable to the product with digital elements, the manufacturer shall include a clear justification to that effect in that technical documentation.",
                  "Article": "Article 13(4)",
                  "ActorType": "IMPORTANT_Critical_products"
                },
                "color": "#e362d4",
                "styles": {},
                "label": "When placing a product with digital elements on the market, the manufacturer shall include the cybersecurity risk assessment in the technical documentation. For products with digital elements which are also subject to other Union legal acts, the cybersecurity risk assessment may be part of the risk assessment required by those Union legal acts. Where certain essential cybersecurity requirements are not applicable to the product with digital elements, the manufacturer shall include a clear justification to that effect in that technical documentation.",
                "scale_factor": 1,
                "type": "#e362d4",
                "size": [
                  55,
                  55
                ],
                "position": [
                  0,
                  0
                ]
              },
              {
                "id": "IMPORTANT_Critical_products-6",
                "properties": {
                  "label": "The manufacturers shall systematically document, in a manner that is proportionate to the nature and the cybersecurity risks, relevant cybersecurity aspects concerning the products with digital elements, including vulnerabilities of which they become aware and any relevant information provided by third parties, and shall, where applicable, update the cybersecurity risk assessment of the products",
                  "Article": "Article 13(7)",
                  "ActorType": "IMPORTANT_Critical_products"
                },
                "color": "#e362d4",
                "styles": {},
                "label": "The manufacturers shall systematically document, in a manner that is proportionate to the nature and the cybersecurity risks, relevant cybersecurity aspects concerning the products with digital elements, including vulnerabilities of which they become aware and any relevant information provided by third parties, and shall, where applicable, update the cybersecurity risk assessment of the products",
                "scale_factor": 1,
                "type": "#e362d4",
                "size": [
                  55,
                  55
                ],
                "position": [
                  0,
                  0
                ]
              },
              {
                "id": "IMPORTANT_Critical_products-12",
                "properties": {
                  "label": "Products with digital elements shall be designed, developed and produced in such a way that they ensure an appropriate level of cybersecurity based on the risks.",
                  "Article": "Annex I, Part 1 §1",
                  "ActorType": "IMPORTANT_Critical_products"
                },
                "color": "#e362d4",
                "styles": {},
                "label": "Products with digital elements shall be designed, developed and produced in such a way that they ensure an appropriate level of cybersecurity based on the risks.",
                "scale_factor": 1,
                "type": "#e362d4",
                "size": [
                  55,
                  55
                ],
                "position": [
                  0,
                  0
                ]
              },
              {
                "id": "IMPORTANT_Critical_products-13",
                "properties": {
                  "label": "On the basis of the cybersecurity risk assessment referred to in Article 13(2) and where applicable, products with digital elements shall:",
                  "Article": "Annex I, Part 1 §2",
                  "ActorType": "IMPORTANT_Critical_products"
                },
                "color": "#e362d4",
                "styles": {},
                "label": "On the basis of the cybersecurity risk assessment referred to in Article 13(2) and where applicable, products with digital elements shall:",
                "scale_factor": 1,
                "type": "#e362d4",
                "size": [
                  55,
                  55
                ],
                "position": [
                  0,
                  0
                ]
              },
              {
                "id": "IMPORTANT_Critical_products-14",
                "properties": {
                  "label": "(a) be made available on the market without known exploitable vulnerabilities;",
                  "Article": "Annex I, Part 1 §2a",
                  "ActorType": "IMPORTANT_Critical_products"
                },
                "color": "#e362d4",
                "styles": {},
                "label": "(a) be made available on the market without known exploitable vulnerabilities;",
                "scale_factor": 1,
                "type": "#e362d4",
                "size": [
                  55,
                  55
                ],
                "position": [
                  0,
                  0
                ]
              },
              {
                "id": "IMPORTANT_Critical_products-15",
                "properties": {
                  "label": "(b) be made available on the market with a secure by default configuration, unless otherwise agreed between manufacturer and business user in relation to a tailor-made product with digital elements, including the possibility to reset the product to its original state;",
                  "Article": "Annex I, Part 1 §2b",
                  "ActorType": "IMPORTANT_Critical_products"
                },
                "color": "#e362d4",
                "styles": {},
                "label": "(b) be made available on the market with a secure by default configuration, unless otherwise agreed between manufacturer and business user in relation to a tailor-made product with digital elements, including the possibility to reset the product to its original state;",
                "scale_factor": 1,
                "type": "#e362d4",
                "size": [
                  55,
                  55
                ],
                "position": [
                  0,
                  0
                ]
              },
              {
                "id": "IMPORTANT_Critical_products-16",
                "properties": {
                  "label": "(c) ensure that vulnerabilities can be addressed through security updates, including, where applicable, through automatic security updates that are installed within an appropriate timeframe enabled as a default setting, with a clear and easy-to-use opt- out mechanism, through the notification of available updates to users, and the option to temporarily postpone them;",
                  "Article": "Annex 1, Part 1 §2c",
                  "ActorType": "IMPORTANT_Critical_products"
                },
                "color": "#e362d4",
                "styles": {},
                "label": "(c) ensure that vulnerabilities can be addressed through security updates, including, where applicable, through automatic security updates that are installed within an appropriate timeframe enabled as a default setting, with a clear and easy-to-use opt- out mechanism, through the notification of available updates to users, and the option to temporarily postpone them;",
                "scale_factor": 1,
                "type": "#e362d4",
                "size": [
                  55,
                  55
                ],
                "position": [
                  0,
                  0
                ]
              },
              {
                "id": "IMPORTANT_Critical_products-17",
                "properties": {
                  "label": "(d) ensure protection from unauthorised access by appropriate control mechanisms, including but not limited to authentication, identity or access management systems, and report on possible unauthorised access;",
                  "Article": "Annex I, Part 1 §2d",
                  "ActorType": "IMPORTANT_Critical_products"
                },
                "color": "#e362d4",
                "styles": {},
                "label": "(d) ensure protection from unauthorised access by appropriate control mechanisms, including but not limited to authentication, identity or access management systems, and report on possible unauthorised access;",
                "scale_factor": 1,
                "type": "#e362d4",
                "size": [
                  55,
                  55
                ],
                "position": [
                  0,
                  0
                ]
              },
              {
                "id": "IMPORTANT_Critical_products-18",
                "properties": {
                  "label": "(e) protect the confidentiality of stored, transmitted or otherwise processed data, personal or other, such as by encrypting relevant data at rest or in transit by state of the art mechanisms, and by using other technical means;",
                  "Article": "Annex I, Part 1 §2e",
                  "ActorType": "IMPORTANT_Critical_products"
                },
                "color": "#e362d4",
                "styles": {},
                "label": "(e) protect the confidentiality of stored, transmitted or otherwise processed data, personal or other, such as by encrypting relevant data at rest or in transit by state of the art mechanisms, and by using other technical means;",
                "scale_factor": 1,
                "type": "#e362d4",
                "size": [
                  55,
                  55
                ],
                "position": [
                  0,
                  0
                ]
              },
              {
                "id": "IMPORTANT_Critical_products-19",
                "properties": {
                  "label": "(f) protect the integrity of stored, transmitted or otherwise processed data, personal or other, commands, programs and configuration against any manipulation or modification not authorised by the user, and report on corruptions;",
                  "Article": "Annex I, Part 1 §2f",
                  "ActorType": "IMPORTANT_Critical_products"
                },
                "color": "#e362d4",
                "styles": {},
                "label": "(f) protect the integrity of stored, transmitted or otherwise processed data, personal or other, commands, programs and configuration against any manipulation or modification not authorised by the user, and report on corruptions;",
                "scale_factor": 1,
                "type": "#e362d4",
                "size": [
                  55,
                  55
                ],
                "position": [
                  0,
                  0
                ]
              },
              {
                "id": "IMPORTANT_Critical_products-20",
                "properties": {
                  "label": "(g) process only data, personal or other, that are adequate, relevant and limited to what is necessary in relation to the intended purpose of the product with digital elements (data minimisation);",
                  "Article": "Annex I, Part 1 §2g",
                  "ActorType": "IMPORTANT_Critical_products"
                },
                "color": "#e362d4",
                "styles": {},
                "label": "(g) process only data, personal or other, that are adequate, relevant and limited to what is necessary in relation to the intended purpose of the product with digital elements (data minimisation);",
                "scale_factor": 1,
                "type": "#e362d4",
                "size": [
                  55,
                  55
                ],
                "position": [
                  0,
                  0
                ]
              },
              {
                "id": "IMPORTANT_Critical_products-21",
                "properties": {
                  "label": "(h) protect the availability of essential and basic functions, also after an incident, including through resilience and mitigation measures against denial-of-service attacks;",
                  "Article": "Annex I, Part 1 §2h",
                  "ActorType": "IMPORTANT_Critical_products"
                },
                "color": "#e362d4",
                "styles": {},
                "label": "(h) protect the availability of essential and basic functions, also after an incident, including through resilience and mitigation measures against denial-of-service attacks;",
                "scale_factor": 1,
                "type": "#e362d4",
                "size": [
                  55,
                  55
                ],
                "position": [
                  0,
                  0
                ]
              },
              {
                "id": "IMPORTANT_Critical_products-22",
                "properties": {
                  "label": "(i) minimise the negative impact by the products themselves or connected devices on the availability of services provided by other devices or networks;",
                  "Article": "Annex I, Part 1 §2i",
                  "ActorType": "IMPORTANT_Critical_products"
                },
                "color": "#e362d4",
                "styles": {},
                "label": "(i) minimise the negative impact by the products themselves or connected devices on the availability of services provided by other devices or networks;",
                "scale_factor": 1,
                "type": "#e362d4",
                "size": [
                  55,
                  55
                ],
                "position": [
                  0,
                  0
                ]
              },
              {
                "id": "IMPORTANT_Critical_products-23",
                "properties": {
                  "label": "(j) be designed, developed and produced to limit attack surfaces, including external interfaces;",
                  "Article": "Annex I, Part 1 §2j",
                  "ActorType": "IMPORTANT_Critical_products"
                },
                "color": "#e362d4",
                "styles": {},
                "label": "(j) be designed, developed and produced to limit attack surfaces, including external interfaces;",
                "scale_factor": 1,
                "type": "#e362d4",
                "size": [
                  55,
                  55
                ],
                "position": [
                  0,
                  0
                ]
              },
              {
                "id": "IMPORTANT_Critical_products-24",
                "properties": {
                  "label": "(k) be designed, developed and produced to reduce the impact of an incident using appropriate exploitation mitigation mechanisms and techniques;",
                  "Article": "Annex I, Part 1 §2k",
                  "ActorType": "IMPORTANT_Critical_products"
                },
                "color": "#e362d4",
                "styles": {},
                "label": "(k) be designed, developed and produced to reduce the impact of an incident using appropriate exploitation mitigation mechanisms and techniques;",
                "scale_factor": 1,
                "type": "#e362d4",
                "size": [
                  55,
                  55
                ],
                "position": [
                  0,
                  0
                ]
              },
              {
                "id": "IMPORTANT_Critical_products-25",
                "properties": {
                  "label": "(l) provide security related information by recording and monitoring relevant internal activity, including the access to or modification of data, services or functions, with an opt-out mechanism for the user;",
                  "Article": "Annex I, Part 1 §2l",
                  "ActorType": "IMPORTANT_Critical_products"
                },
                "color": "#e362d4",
                "styles": {},
                "label": "(l) provide security related information by recording and monitoring relevant internal activity, including the access to or modification of data, services or functions, with an opt-out mechanism for the user;",
                "scale_factor": 1,
                "type": "#e362d4",
                "size": [
                  55,
                  55
                ],
                "position": [
                  0,
                  0
                ]
              },
              {
                "id": "IMPORTANT_Critical_products-26",
                "properties": {
                  "label": "(m) provide the possibility for users to securely and easily remove on a permanent basis all data and settings and, where such data can be transferred to other products or systems, ensure that this is done in a secure manner.",
                  "Article": "Annex I, Part 1 §2m",
                  "ActorType": "IMPORTANT_Critical_products"
                },
                "color": "#e362d4",
                "styles": {},
                "label": "(m) provide the possibility for users to securely and easily remove on a permanent basis all data and settings and, where such data can be transferred to other products or systems, ensure that this is done in a secure manner.",
                "scale_factor": 1,
                "type": "#e362d4",
                "size": [
                  55,
                  55
                ],
                "position": [
                  0,
                  0
                ]
              },
              {
                "id": "IMPORTANT_Critical_products-27",
                "properties": {
                  "label": "Manufacturers of products with digital elements shall:",
                  "Article": "Annex I - Part II",
                  "ActorType": "IMPORTANT_Critical_products"
                },
                "color": "#e362d4",
                "styles": {},
                "label": "Manufacturers of products with digital elements shall:",
                "scale_factor": 1,
                "type": "#e362d4",
                "size": [
                  55,
                  55
                ],
                "position": [
                  0,
                  0
                ]
              },
              {
                "id": "IMPORTANT_Critical_products-28",
                "properties": {
                  "label": "(1) identify and document vulnerabilities and components contained in products with digital elements, including by drawing up a software bill of materials in a commonly used and machine-readable format covering at the very least the top-level dependencies of the products;",
                  "Article": "Annex I, Part 2 §2",
                  "ActorType": "IMPORTANT_Critical_products"
                },
                "color": "#e362d4",
                "styles": {},
                "label": "(1) identify and document vulnerabilities and components contained in products with digital elements, including by drawing up a software bill of materials in a commonly used and machine-readable format covering at the very least the top-level dependencies of the products;",
                "scale_factor": 1,
                "type": "#e362d4",
                "size": [
                  55,
                  55
                ],
                "position": [
                  0,
                  0
                ]
              },
              {
                "id": "IMPORTANT_Critical_products-29",
                "properties": {
                  "label": "(2) in relation to the risks posed to products with digital elements, address and remediate vulnerabilities without delay, including by providing security updates; where technically feasible, new security updates shall be provided separately from functionality updates;",
                  "Article": "Annex I, Part 2 §1",
                  "ActorType": "IMPORTANT_Critical_products"
                },
                "color": "#e362d4",
                "styles": {},
                "label": "(2) in relation to the risks posed to products with digital elements, address and remediate vulnerabilities without delay, including by providing security updates; where technically feasible, new security updates shall be provided separately from functionality updates;",
                "scale_factor": 1,
                "type": "#e362d4",
                "size": [
                  55,
                  55
                ],
                "position": [
                  0,
                  0
                ]
              },
              {
                "id": "IMPORTANT_Critical_products-30",
                "properties": {
                  "label": "(3) apply effective and regular tests and reviews of the security of the product with digital elements;",
                  "Article": "Annex I, Part 2 §3",
                  "ActorType": "IMPORTANT_Critical_products"
                },
                "color": "#e362d4",
                "styles": {},
                "label": "(3) apply effective and regular tests and reviews of the security of the product with digital elements;",
                "scale_factor": 1,
                "type": "#e362d4",
                "size": [
                  55,
                  55
                ],
                "position": [
                  0,
                  0
                ]
              },
              {
                "id": "IMPORTANT_Critical_products-31",
                "properties": {
                  "label": "(4) once a security update has been made available, share and publicly disclose information about fixed vulnerabilities, including a description of the vulnerabilities, information allowing users to identify the product with digital elements affected, the impacts of the vulnerabilities, their severity and clear and accessible information helping users to remediate the vulnerabilities; in duly justified cases, where manufacturers consider the security risks of publication to outweigh the security benefits, they may delay making public information regarding a fixed vulnerability until after users have been given the possibility to apply the relevant patch;",
                  "Article": "Annex I, Part 2 §4",
                  "ActorType": "IMPORTANT_Critical_products"
                },
                "color": "#e362d4",
                "styles": {},
                "label": "(4) once a security update has been made available, share and publicly disclose information about fixed vulnerabilities, including a description of the vulnerabilities, information allowing users to identify the product with digital elements affected, the impacts of the vulnerabilities, their severity and clear and accessible information helping users to remediate the vulnerabilities; in duly justified cases, where manufacturers consider the security risks of publication to outweigh the security benefits, they may delay making public information regarding a fixed vulnerability until after users have been given the possibility to apply the relevant patch;",
                "scale_factor": 1,
                "type": "#e362d4",
                "size": [
                  55,
                  55
                ],
                "position": [
                  0,
                  0
                ]
              },
              {
                "id": "IMPORTANT_Critical_products-32",
                "properties": {
                  "label": "(5) put in place and enforce a policy on coordinated vulnerability disclosure;",
                  "Article": "Annex I, Part 2 §5",
                  "ActorType": "IMPORTANT_Critical_products"
                },
                "color": "#e362d4",
                "styles": {},
                "label": "(5) put in place and enforce a policy on coordinated vulnerability disclosure;",
                "scale_factor": 1,
                "type": "#e362d4",
                "size": [
                  55,
                  55
                ],
                "position": [
                  0,
                  0
                ]
              },
              {
                "id": "IMPORTANT_Critical_products-33",
                "properties": {
                  "label": "(6) take measures to facilitate the sharing of information about potential vulnerabilities in their product with digital elements as well as in third-party components contained in that product, including by providing a contact address for the reporting of the vulnerabilities discovered in the product with digital elements;",
                  "Article": "Annex I, Part 2 §6",
                  "ActorType": "IMPORTANT_Critical_products"
                },
                "color": "#e362d4",
                "styles": {},
                "label": "(6) take measures to facilitate the sharing of information about potential vulnerabilities in their product with digital elements as well as in third-party components contained in that product, including by providing a contact address for the reporting of the vulnerabilities discovered in the product with digital elements;",
                "scale_factor": 1,
                "type": "#e362d4",
                "size": [
                  55,
                  55
                ],
                "position": [
                  0,
                  0
                ]
              },
              {
                "id": "IMPORTANT_Critical_products-34",
                "properties": {
                  "label": "(7) provide for mechanisms to securely distribute updates for products with digital elements to ensure that vulnerabilities are fixed or mitigated in a timely manner and, where applicable for security updates, in an automatic manner;",
                  "Article": "Annex I, Part 2 §7",
                  "ActorType": "IMPORTANT_Critical_products"
                },
                "color": "#e362d4",
                "styles": {},
                "label": "(7) provide for mechanisms to securely distribute updates for products with digital elements to ensure that vulnerabilities are fixed or mitigated in a timely manner and, where applicable for security updates, in an automatic manner;",
                "scale_factor": 1,
                "type": "#e362d4",
                "size": [
                  55,
                  55
                ],
                "position": [
                  0,
                  0
                ]
              },
              {
                "id": "IMPORTANT_Critical_products-35",
                "properties": {
                  "label": "(8) ensure that, where security updates are available to address identified security issues, they are disseminated without delay and, unless otherwise agreed between a manufacturer and a business user in relation to a tailor-made product with digital elements, free of charge, accompanied by advisory messages providing users with the relevant information, including on potential action to be taken.",
                  "Article": "Annex I, Part 2 §8",
                  "ActorType": "IMPORTANT_Critical_products"
                },
                "color": "#e362d4",
                "styles": {},
                "label": "(8) ensure that, where security updates are available to address identified security issues, they are disseminated without delay and, unless otherwise agreed between a manufacturer and a business user in relation to a tailor-made product with digital elements, free of charge, accompanied by advisory messages providing users with the relevant information, including on potential action to be taken.",
                "scale_factor": 1,
                "type": "#e362d4",
                "size": [
                  55,
                  55
                ],
                "position": [
                  0,
                  0
                ]
              },
              {
                "id": "IMPORTANT_Critical_products-43",
                "properties": {
                  "label": "At minimum, the product with digital elements shall be accompanied by:",
                  "Article": "Annex II",
                  "ActorType": "IMPORTANT_Critical_products"
                },
                "color": "#e362d4",
                "styles": {},
                "label": "At minimum, the product with digital elements shall be accompanied by:",
                "scale_factor": 1,
                "type": "#e362d4",
                "size": [
                  55,
                  55
                ],
                "position": [
                  0,
                  0
                ]
              },
              {
                "id": "IMPORTANT_Critical_products-44",
                "properties": {
                  "label": "1. the name, registered trade name or registered trademark of the manufacturer, and the postal address, the email address or other digital contact as well as, where available, the website at which the manufacturer can be contacted;",
                  "Article": "Annex II, §1",
                  "ActorType": "IMPORTANT_Critical_products"
                },
                "color": "#e362d4",
                "styles": {},
                "label": "1. the name, registered trade name or registered trademark of the manufacturer, and the postal address, the email address or other digital contact as well as, where available, the website at which the manufacturer can be contacted;",
                "scale_factor": 1,
                "type": "#e362d4",
                "size": [
                  55,
                  55
                ],
                "position": [
                  0,
                  0
                ]
              },
              {
                "id": "IMPORTANT_Critical_products-45",
                "properties": {
                  "label": "2. the single point of contact where information about vulnerabilities of the product with digital elements can be reported and received, and where the manufacturer’s policy on coordinated vulnerability disclosure can be found;",
                  "Article": "Annex II, §2",
                  "ActorType": "IMPORTANT_Critical_products"
                },
                "color": "#e362d4",
                "styles": {},
                "label": "2. the single point of contact where information about vulnerabilities of the product with digital elements can be reported and received, and where the manufacturer’s policy on coordinated vulnerability disclosure can be found;",
                "scale_factor": 1,
                "type": "#e362d4",
                "size": [
                  55,
                  55
                ],
                "position": [
                  0,
                  0
                ]
              },
              {
                "id": "IMPORTANT_Critical_products-46",
                "properties": {
                  "label": "3. name and type and any additional information enabling the unique identification of the product with digital elements;",
                  "Article": "Annex II, §3",
                  "ActorType": "IMPORTANT_Critical_products"
                },
                "color": "#e362d4",
                "styles": {},
                "label": "3. name and type and any additional information enabling the unique identification of the product with digital elements;",
                "scale_factor": 1,
                "type": "#e362d4",
                "size": [
                  55,
                  55
                ],
                "position": [
                  0,
                  0
                ]
              },
              {
                "id": "IMPORTANT_Critical_products-47",
                "properties": {
                  "label": "4. the intended purpose of the product with digital elements, including the security environment provided by the manufacturer, as well as the product’s essential functionalities and information about the security properties;",
                  "Article": "Annex II, §4",
                  "ActorType": "IMPORTANT_Critical_products"
                },
                "color": "#e362d4",
                "styles": {},
                "label": "4. the intended purpose of the product with digital elements, including the security environment provided by the manufacturer, as well as the product’s essential functionalities and information about the security properties;",
                "scale_factor": 1,
                "type": "#e362d4",
                "size": [
                  55,
                  55
                ],
                "position": [
                  0,
                  0
                ]
              },
              {
                "id": "IMPORTANT_Critical_products-48",
                "properties": {
                  "label": "5. any known or foreseeable circumstance, related to the use of the product with digital elements in accordance with its intended purpose or under conditions of reasonably foreseeable misuse, which may lead to significant cybersecurity risks;",
                  "Article": "Annex II, §5",
                  "ActorType": "IMPORTANT_Critical_products"
                },
                "color": "#e362d4",
                "styles": {},
                "label": "5. any known or foreseeable circumstance, related to the use of the product with digital elements in accordance with its intended purpose or under conditions of reasonably foreseeable misuse, which may lead to significant cybersecurity risks;",
                "scale_factor": 1,
                "type": "#e362d4",
                "size": [
                  55,
                  55
                ],
                "position": [
                  0,
                  0
                ]
              },
              {
                "id": "IMPORTANT_Critical_products-49",
                "properties": {
                  "label": "6. where applicable, the internet address at which the EU declaration of conformity can be accessed;",
                  "Article": "Annex II, §6",
                  "ActorType": "IMPORTANT_Critical_products"
                },
                "color": "#e362d4",
                "styles": {},
                "label": "6. where applicable, the internet address at which the EU declaration of conformity can be accessed;",
                "scale_factor": 1,
                "type": "#e362d4",
                "size": [
                  55,
                  55
                ],
                "position": [
                  0,
                  0
                ]
              },
              {
                "id": "IMPORTANT_Critical_products-50",
                "properties": {
                  "label": "7. the type of technical security support offered by the manufacturer and the end-date of the support period during which users can expect vulnerabilities to be handled and to receive security updates;",
                  "Article": "Annex VI, §7",
                  "ActorType": "IMPORTANT_Critical_products"
                },
                "color": "#e362d4",
                "styles": {},
                "label": "7. the type of technical security support offered by the manufacturer and the end-date of the support period during which users can expect vulnerabilities to be handled and to receive security updates;",
                "scale_factor": 1,
                "type": "#e362d4",
                "size": [
                  55,
                  55
                ],
                "position": [
                  0,
                  0
                ]
              },
              {
                "id": "IMPORTANT_Critical_products-51",
                "properties": {
                  "label": "8. detailed instructions or an internet address referring to such detailed instructions and information on:",
                  "Article": "Annex II, §8",
                  "ActorType": "IMPORTANT_Critical_products"
                },
                "color": "#e362d4",
                "styles": {},
                "label": "8. detailed instructions or an internet address referring to such detailed instructions and information on:",
                "scale_factor": 1,
                "type": "#e362d4",
                "size": [
                  55,
                  55
                ],
                "position": [
                  0,
                  0
                ]
              },
              {
                "id": "IMPORTANT_Critical_products-52",
                "properties": {
                  "label": "(a) the necessary measures during initial commissioning and throughout the lifetime of the product with digital elements to ensure its secure use;",
                  "Article": "Annex II, §8 (a)",
                  "ActorType": "IMPORTANT_Critical_products"
                },
                "color": "#e362d4",
                "styles": {},
                "label": "(a) the necessary measures during initial commissioning and throughout the lifetime of the product with digital elements to ensure its secure use;",
                "scale_factor": 1,
                "type": "#e362d4",
                "size": [
                  55,
                  55
                ],
                "position": [
                  0,
                  0
                ]
              },
              {
                "id": "IMPORTANT_Critical_products-53",
                "properties": {
                  "label": "(b) how changes to the product with digital elements can affect the security of data;",
                  "Article": "Annex II, §8 (b)",
                  "ActorType": "IMPORTANT_Critical_products"
                },
                "color": "#e362d4",
                "styles": {},
                "label": "(b) how changes to the product with digital elements can affect the security of data;",
                "scale_factor": 1,
                "type": "#e362d4",
                "size": [
                  55,
                  55
                ],
                "position": [
                  0,
                  0
                ]
              },
              {
                "id": "IMPORTANT_Critical_products-54",
                "properties": {
                  "label": "(c) how security-relevant updates can be installed;",
                  "Article": "Annex II, §8 (c)",
                  "ActorType": "IMPORTANT_Critical_products"
                },
                "color": "#e362d4",
                "styles": {},
                "label": "(c) how security-relevant updates can be installed;",
                "scale_factor": 1,
                "type": "#e362d4",
                "size": [
                  55,
                  55
                ],
                "position": [
                  0,
                  0
                ]
              },
              {
                "id": "IMPORTANT_Critical_products-55",
                "properties": {
                  "label": "(d) the secure decommissioning of the product with digital elements, including information on how user data can be securely removed;",
                  "Article": "Annex II, §8 (d)",
                  "ActorType": "IMPORTANT_Critical_products"
                },
                "color": "#e362d4",
                "styles": {},
                "label": "(d) the secure decommissioning of the product with digital elements, including information on how user data can be securely removed;",
                "scale_factor": 1,
                "type": "#e362d4",
                "size": [
                  55,
                  55
                ],
                "position": [
                  0,
                  0
                ]
              },
              {
                "id": "IMPORTANT_Critical_products-56",
                "properties": {
                  "label": "(e) how the default setting enabling the automatic installation of security updates, as required by Part I, point (2)(c), of Annex I, can be turned off;",
                  "Article": "Annex II, §8 (e)",
                  "ActorType": "IMPORTANT_Critical_products"
                },
                "color": "#e362d4",
                "styles": {},
                "label": "(e) how the default setting enabling the automatic installation of security updates, as required by Part I, point (2)(c), of Annex I, can be turned off;",
                "scale_factor": 1,
                "type": "#e362d4",
                "size": [
                  55,
                  55
                ],
                "position": [
                  0,
                  0
                ]
              },
              {
                "id": "IMPORTANT_Critical_products-57",
                "properties": {
                  "label": "(f) where the product with digital elements is intended for integration into other products with digital elements, the information necessary for the integrator to comply with the essential cybersecurity requirements set out in Annex I and the documentation requirements set out in Annex VII.",
                  "Article": "Annex II, §8 (f)",
                  "ActorType": "IMPORTANT_Critical_products"
                },
                "color": "#e362d4",
                "styles": {},
                "label": "(f) where the product with digital elements is intended for integration into other products with digital elements, the information necessary for the integrator to comply with the essential cybersecurity requirements set out in Annex I and the documentation requirements set out in Annex VII.",
                "scale_factor": 1,
                "type": "#e362d4",
                "size": [
                  55,
                  55
                ],
                "position": [
                  0,
                  0
                ]
              },
              {
                "id": "IMPORTANT_Critical_products-58",
                "properties": {
                  "label": "9. If the manufacturer decides to make available the software bill of materials to the user, information on where the software bill of materials can be accessed.",
                  "Article": "Annex II, §9",
                  "ActorType": "IMPORTANT_Critical_products"
                },
                "color": "#e362d4",
                "styles": {},
                "label": "9. If the manufacturer decides to make available the software bill of materials to the user, information on where the software bill of materials can be accessed.",
                "scale_factor": 1,
                "type": "#e362d4",
                "size": [
                  55,
                  55
                ],
                "position": [
                  0,
                  0
                ]
              },
              {
                "id": "IMPORTANT_Critical_products-59",
                "properties": {
                  "label": "The user information and instructions as set out in Annex II (detailed above), shall be included in the Technical Documentation.",
                  "Article": "Annex VII, §1 (d)",
                  "ActorType": "IMPORTANT_Critical_products"
                },
                "color": "#e362d4",
                "styles": {},
                "label": "The user information and instructions as set out in Annex II (detailed above), shall be included in the Technical Documentation.",
                "scale_factor": 1,
                "type": "#e362d4",
                "size": [
                  55,
                  55
                ],
                "position": [
                  0,
                  0
                ]
              },
              {
                "id": "IMPORTANT_Critical_products-66",
                "properties": {
                  "label": "The EU declaration of conformity referred to in Article 28, shall contain all of the following information:",
                  "Article": "Annex V",
                  "ActorType": "IMPORTANT_Critical_products"
                },
                "color": "#e362d4",
                "styles": {},
                "label": "The EU declaration of conformity referred to in Article 28, shall contain all of the following information:",
                "scale_factor": 1,
                "type": "#e362d4",
                "size": [
                  55,
                  55
                ],
                "position": [
                  0,
                  0
                ]
              },
              {
                "id": "IMPORTANT_Critical_products-67",
                "properties": {
                  "label": "(1) Name and type and any additional information enabling the unique identification of the product with digital elements",
                  "Article": "Annex V, §1",
                  "ActorType": "IMPORTANT_Critical_products"
                },
                "color": "#e362d4",
                "styles": {},
                "label": "(1) Name and type and any additional information enabling the unique identification of the product with digital elements",
                "scale_factor": 1,
                "type": "#e362d4",
                "size": [
                  55,
                  55
                ],
                "position": [
                  0,
                  0
                ]
              },
              {
                "id": "IMPORTANT_Critical_products-68",
                "properties": {
                  "label": "(2) Name and address of the manufacturer or its authorised representative",
                  "Article": "Annex V, §2",
                  "ActorType": "IMPORTANT_Critical_products"
                },
                "color": "#e362d4",
                "styles": {},
                "label": "(2) Name and address of the manufacturer or its authorised representative",
                "scale_factor": 1,
                "type": "#e362d4",
                "size": [
                  55,
                  55
                ],
                "position": [
                  0,
                  0
                ]
              },
              {
                "id": "IMPORTANT_Critical_products-69",
                "properties": {
                  "label": "(3) A statement that the EU declaration of conformity is issued under the sole responsibility of the provider",
                  "Article": "Annex V, §3",
                  "ActorType": "IMPORTANT_Critical_products"
                },
                "color": "#e362d4",
                "styles": {},
                "label": "(3) A statement that the EU declaration of conformity is issued under the sole responsibility of the provider",
                "scale_factor": 1,
                "type": "#e362d4",
                "size": [
                  55,
                  55
                ],
                "position": [
                  0,
                  0
                ]
              },
              {
                "id": "IMPORTANT_Critical_products-70",
                "properties": {
                  "label": "(4) Object of the declaration (identification of the product with digital elements allowing traceability, which may include a photograph, where appropriate)",
                  "Article": "Annex V, §4",
                  "ActorType": "IMPORTANT_Critical_products"
                },
                "color": "#e362d4",
                "styles": {},
                "label": "(4) Object of the declaration (identification of the product with digital elements allowing traceability, which may include a photograph, where appropriate)",
                "scale_factor": 1,
                "type": "#e362d4",
                "size": [
                  55,
                  55
                ],
                "position": [
                  0,
                  0
                ]
              },
              {
                "id": "IMPORTANT_Critical_products-71",
                "properties": {
                  "label": "(5) A statement that the object of the declaration described above is in conformity with the relevant Union harmonisation legislation",
                  "Article": "Annex V, §5",
                  "ActorType": "IMPORTANT_Critical_products"
                },
                "color": "#e362d4",
                "styles": {},
                "label": "(5) A statement that the object of the declaration described above is in conformity with the relevant Union harmonisation legislation",
                "scale_factor": 1,
                "type": "#e362d4",
                "size": [
                  55,
                  55
                ],
                "position": [
                  0,
                  0
                ]
              },
              {
                "id": "IMPORTANT_Critical_products-72",
                "properties": {
                  "label": "(6) References to any relevant harmonised standards used or any other common specification or cybersecurity certification in relation to which conformity is declared",
                  "Article": "Annex V, §6",
                  "ActorType": "IMPORTANT_Critical_products"
                },
                "color": "#e362d4",
                "styles": {},
                "label": "(6) References to any relevant harmonised standards used or any other common specification or cybersecurity certification in relation to which conformity is declared",
                "scale_factor": 1,
                "type": "#e362d4",
                "size": [
                  55,
                  55
                ],
                "position": [
                  0,
                  0
                ]
              },
              {
                "id": "IMPORTANT_Critical_products-73",
                "properties": {
                  "label": "(7) Where applicable, the name and number of the notified body, a description of the conformity assessment procedure performed and identification of the certificate issued",
                  "Article": "Annex V, §7",
                  "ActorType": "IMPORTANT_Critical_products"
                },
                "color": "#e362d4",
                "styles": {},
                "label": "(7) Where applicable, the name and number of the notified body, a description of the conformity assessment procedure performed and identification of the certificate issued",
                "scale_factor": 1,
                "type": "#e362d4",
                "size": [
                  55,
                  55
                ],
                "position": [
                  0,
                  0
                ]
              },
              {
                "id": "IMPORTANT_Critical_products-74",
                "properties": {
                  "label": "(8) Additional information:\nSigned for and on behalf of:\n(place and date of issue):\n(name, function)\n(signature):",
                  "Article": "Annex V, §8",
                  "ActorType": "IMPORTANT_Critical_products"
                },
                "color": "#e362d4",
                "styles": {},
                "label": "(8) Additional information:\nSigned for and on behalf of:\n(place and date of issue):\n(name, function)\n(signature):",
                "scale_factor": 1,
                "type": "#e362d4",
                "size": [
                  55,
                  55
                ],
                "position": [
                  0,
                  0
                ]
              },
              {
                "id": "IMPORTANT_Critical_products-75",
                "properties": {
                  "label": "SIMPLIFIED EU DECLARATION OF CONFORMITY",
                  "Article": "Annex VI",
                  "ActorType": "IMPORTANT_Critical_products"
                },
                "color": "#e362d4",
                "styles": {},
                "label": "SIMPLIFIED EU DECLARATION OF CONFORMITY",
                "scale_factor": 1,
                "type": "#e362d4",
                "size": [
                  55,
                  55
                ],
                "position": [
                  0,
                  0
                ]
              },
              {
                "id": "IMPORTANT_Critical_products-76",
                "properties": {
                  "label": "The simplified EU declaration of conformity referred to in shall be provided as follows: Hereby, ... [name of manufacturer] declares that the product with digital elements type ... [designation of type of product with digital element] is in compliance with Regulation (EU) 2024/…+ . The full text of the EU declaration of conformity is available at the following internet address: …",
                  "Article": "Annex VI",
                  "ActorType": "IMPORTANT_Critical_products"
                },
                "color": "#e362d4",
                "styles": {},
                "label": "The simplified EU declaration of conformity referred to in shall be provided as follows: Hereby, ... [name of manufacturer] declares that the product with digital elements type ... [designation of type of product with digital element] is in compliance with Regulation (EU) 2024/…+ . The full text of the EU declaration of conformity is available at the following internet address: …",
                "scale_factor": 1,
                "type": "#e362d4",
                "size": [
                  55,
                  55
                ],
                "position": [
                  0,
                  0
                ]
              },
              {
                "id": "IMPORTANT_Critical_products-77",
                "properties": {
                  "label": "The manufacturer shall draw up a written EU declaration of conformity for each product with digital elements and keep it together with the technical documentation at the disposal of the national authorities for 10 years after the product with digital elements has been placed on the market or for the support period, whichever is longer. The EU declaration of conformity shall identify the product with digital elements for which it has been drawn up. A copy of the EU declaration of conformity shall be made available to the relevant authorities upon request.",
                  "Article": "Annex VIII, Part II, §10 and Part III, §3.2",
                  "ActorType": "IMPORTANT_Critical_products"
                },
                "color": "#e362d4",
                "styles": {},
                "label": "The manufacturer shall draw up a written EU declaration of conformity for each product with digital elements and keep it together with the technical documentation at the disposal of the national authorities for 10 years after the product with digital elements has been placed on the market or for the support period, whichever is longer. The EU declaration of conformity shall identify the product with digital elements for which it has been drawn up. A copy of the EU declaration of conformity shall be made available to the relevant authorities upon request.",
                "scale_factor": 1,
                "type": "#e362d4",
                "size": [
                  55,
                  55
                ],
                "position": [
                  0,
                  0
                ]
              },
              {
                "id": "IMPORTANT_Critical_products-83",
                "properties": {
                  "label": "The technical documentation shall contain at least the following information, as applicable to the relevant product with digital elements:",
                  "Article": "Annex VII",
                  "ActorType": "IMPORTANT_Critical_products"
                },
                "color": "#e362d4",
                "styles": {},
                "label": "The technical documentation shall contain at least the following information, as applicable to the relevant product with digital elements:",
                "scale_factor": 1,
                "type": "#e362d4",
                "size": [
                  55,
                  55
                ],
                "position": [
                  0,
                  0
                ]
              },
              {
                "id": "IMPORTANT_Critical_products-84",
                "properties": {
                  "label": "1. a general description of the product with digital elements, including:",
                  "Article": "Annex VII, §1",
                  "ActorType": "IMPORTANT_Critical_products"
                },
                "color": "#e362d4",
                "styles": {},
                "label": "1. a general description of the product with digital elements, including:",
                "scale_factor": 1,
                "type": "#e362d4",
                "size": [
                  55,
                  55
                ],
                "position": [
                  0,
                  0
                ]
              },
              {
                "id": "IMPORTANT_Critical_products-85",
                "properties": {
                  "label": "(a) its intended purpose;",
                  "Article": "Annex VII, §1 (a)",
                  "ActorType": "IMPORTANT_Critical_products"
                },
                "color": "#e362d4",
                "styles": {},
                "label": "(a) its intended purpose;",
                "scale_factor": 1,
                "type": "#e362d4",
                "size": [
                  55,
                  55
                ],
                "position": [
                  0,
                  0
                ]
              },
              {
                "id": "IMPORTANT_Critical_products-86",
                "properties": {
                  "label": "(b) versions of software affecting compliance with essential cybersecurity requirements;",
                  "Article": "Annex VII, §1 (b)",
                  "ActorType": "IMPORTANT_Critical_products"
                },
                "color": "#e362d4",
                "styles": {},
                "label": "(b) versions of software affecting compliance with essential cybersecurity requirements;",
                "scale_factor": 1,
                "type": "#e362d4",
                "size": [
                  55,
                  55
                ],
                "position": [
                  0,
                  0
                ]
              },
              {
                "id": "IMPORTANT_Critical_products-87",
                "properties": {
                  "label": "(c) where the product with digital elements is a hardware product, photographs or illustrations showing external features, marking and internal layout;",
                  "Article": "Annex VII, §1 (c)",
                  "ActorType": "IMPORTANT_Critical_products"
                },
                "color": "#e362d4",
                "styles": {},
                "label": "(c) where the product with digital elements is a hardware product, photographs or illustrations showing external features, marking and internal layout;",
                "scale_factor": 1,
                "type": "#e362d4",
                "size": [
                  55,
                  55
                ],
                "position": [
                  0,
                  0
                ]
              },
              {
                "id": "IMPORTANT_Critical_products-88",
                "properties": {
                  "label": "(d) user information and instructions as set out in Annex II;",
                  "Article": "Annex VII, §1 (d)",
                  "ActorType": "IMPORTANT_Critical_products"
                },
                "color": "#e362d4",
                "styles": {},
                "label": "(d) user information and instructions as set out in Annex II;",
                "scale_factor": 1,
                "type": "#e362d4",
                "size": [
                  55,
                  55
                ],
                "position": [
                  0,
                  0
                ]
              },
              {
                "id": "IMPORTANT_Critical_products-89",
                "properties": {
                  "label": "2. a description of the design, development and production of the product with digital elements and vulnerability handling processes, including:",
                  "Article": "Annex VII, §2",
                  "ActorType": "IMPORTANT_Critical_products"
                },
                "color": "#e362d4",
                "styles": {},
                "label": "2. a description of the design, development and production of the product with digital elements and vulnerability handling processes, including:",
                "scale_factor": 1,
                "type": "#e362d4",
                "size": [
                  55,
                  55
                ],
                "position": [
                  0,
                  0
                ]
              },
              {
                "id": "IMPORTANT_Critical_products-90",
                "properties": {
                  "label": "(a) necessary information on the design and development of the product with digital elements, including, where applicable, drawings and schemes and a description of the system architecture explaining how software components build on or feed into each other and integrate into the overall processing;",
                  "Article": "Annex VII, §2 (a)",
                  "ActorType": "IMPORTANT_Critical_products"
                },
                "color": "#e362d4",
                "styles": {},
                "label": "(a) necessary information on the design and development of the product with digital elements, including, where applicable, drawings and schemes and a description of the system architecture explaining how software components build on or feed into each other and integrate into the overall processing;",
                "scale_factor": 1,
                "type": "#e362d4",
                "size": [
                  55,
                  55
                ],
                "position": [
                  0,
                  0
                ]
              },
              {
                "id": "IMPORTANT_Critical_products-91",
                "properties": {
                  "label": "(b) necessary information and specifications of the vulnerability handling processes put in place by the manufacturer, including the software bill of materials, the coordinated vulnerability disclosure policy, evidence of the provision of a contact address for the reporting of the vulnerabilities and a description of the technical solutions chosen for the secure distribution of updates;",
                  "Article": "Annex VII, §2 (b)",
                  "ActorType": "IMPORTANT_Critical_products"
                },
                "color": "#e362d4",
                "styles": {},
                "label": "(b) necessary information and specifications of the vulnerability handling processes put in place by the manufacturer, including the software bill of materials, the coordinated vulnerability disclosure policy, evidence of the provision of a contact address for the reporting of the vulnerabilities and a description of the technical solutions chosen for the secure distribution of updates;",
                "scale_factor": 1,
                "type": "#e362d4",
                "size": [
                  55,
                  55
                ],
                "position": [
                  0,
                  0
                ]
              },
              {
                "id": "IMPORTANT_Critical_products-92",
                "properties": {
                  "label": "(c) necessary information and specifications of the production and monitoring processes of the product with digital elements and the validation of those processes;",
                  "Article": "Annex VII, §2 (c)",
                  "ActorType": "IMPORTANT_Critical_products"
                },
                "color": "#e362d4",
                "styles": {},
                "label": "(c) necessary information and specifications of the production and monitoring processes of the product with digital elements and the validation of those processes;",
                "scale_factor": 1,
                "type": "#e362d4",
                "size": [
                  55,
                  55
                ],
                "position": [
                  0,
                  0
                ]
              },
              {
                "id": "IMPORTANT_Critical_products-93",
                "properties": {
                  "label": "3. an assessment of the cybersecurity risks against which the product with digital elements is designed, developed, produced, delivered and maintained pursuant to Article 13, including how the essential cybersecurity requirements set out in Part I of Annex I are applicable;",
                  "Article": "Annex VII, §3",
                  "ActorType": "IMPORTANT_Critical_products"
                },
                "color": "#e362d4",
                "styles": {},
                "label": "3. an assessment of the cybersecurity risks against which the product with digital elements is designed, developed, produced, delivered and maintained pursuant to Article 13, including how the essential cybersecurity requirements set out in Part I of Annex I are applicable;",
                "scale_factor": 1,
                "type": "#e362d4",
                "size": [
                  55,
                  55
                ],
                "position": [
                  0,
                  0
                ]
              },
              {
                "id": "IMPORTANT_Critical_products-94",
                "properties": {
                  "label": "4. relevant information that was taken into account to determine the support period pursuant to Article 13(8) of the product with digital elements;",
                  "Article": "Annex VII, §4",
                  "ActorType": "IMPORTANT_Critical_products"
                },
                "color": "#e362d4",
                "styles": {},
                "label": "4. relevant information that was taken into account to determine the support period pursuant to Article 13(8) of the product with digital elements;",
                "scale_factor": 1,
                "type": "#e362d4",
                "size": [
                  55,
                  55
                ],
                "position": [
                  0,
                  0
                ]
              },
              {
                "id": "IMPORTANT_Critical_products-95",
                "properties": {
                  "label": "5. a list of the harmonised standards applied in full or in part the references of which have been published in the Official Journal of the European Union, common specifications as set out in Article 27 of this Regulation or European cybersecurity certification schemes adopted pursuant to Regulation (EU) 2019/881 pursuant to Article 27(8) of this Regulation, and, where those harmonised standards, common specifications or European cybersecurity certification schemes have not been applied, descriptions of the solutions adopted to meet the essential cybersecurity requirements set out in Parts I and II of Annex I, including a list of other relevant technical specifications applied. In the event of partly applied harmonised standards, common specifications or European cybersecurity certification schemes, the technical documentation shall specify the parts which have been applied;",
                  "Article": "Annex VII, §5",
                  "ActorType": "IMPORTANT_Critical_products"
                },
                "color": "#e362d4",
                "styles": {},
                "label": "5. a list of the harmonised standards applied in full or in part the references of which have been published in the Official Journal of the European Union, common specifications as set out in Article 27 of this Regulation or European cybersecurity certification schemes adopted pursuant to Regulation (EU) 2019/881 pursuant to Article 27(8) of this Regulation, and, where those harmonised standards, common specifications or European cybersecurity certification schemes have not been applied, descriptions of the solutions adopted to meet the essential cybersecurity requirements set out in Parts I and II of Annex I, including a list of other relevant technical specifications applied. In the event of partly applied harmonised standards, common specifications or European cybersecurity certification schemes, the technical documentation shall specify the parts which have been applied;",
                "scale_factor": 1,
                "type": "#e362d4",
                "size": [
                  55,
                  55
                ],
                "position": [
                  0,
                  0
                ]
              },
              {
                "id": "IMPORTANT_Critical_products-96",
                "properties": {
                  "label": "6. reports of the tests carried out to verify the conformity of the product with digital elements and of the vulnerability handling processes with the applicable essential cybersecurity requirements as set out in Parts I and II of Annex I;",
                  "Article": "Annex VII, §6",
                  "ActorType": "IMPORTANT_Critical_products"
                },
                "color": "#e362d4",
                "styles": {},
                "label": "6. reports of the tests carried out to verify the conformity of the product with digital elements and of the vulnerability handling processes with the applicable essential cybersecurity requirements as set out in Parts I and II of Annex I;",
                "scale_factor": 1,
                "type": "#e362d4",
                "size": [
                  55,
                  55
                ],
                "position": [
                  0,
                  0
                ]
              },
              {
                "id": "IMPORTANT_Critical_products-97",
                "properties": {
                  "label": "7. a copy of the EU declaration of conformity;",
                  "Article": "Annex VII, §7",
                  "ActorType": "IMPORTANT_Critical_products"
                },
                "color": "#e362d4",
                "styles": {},
                "label": "7. a copy of the EU declaration of conformity;",
                "scale_factor": 1,
                "type": "#e362d4",
                "size": [
                  55,
                  55
                ],
                "position": [
                  0,
                  0
                ]
              },
              {
                "id": "IMPORTANT_Critical_products-98",
                "properties": {
                  "label": "8. where applicable, the software bill of materials, further to a reasoned request from a market surveillance authority provided that it is necessary in order for that authority to be able to check compliance with the essential cybersecurity requirements set out in Annex I.",
                  "Article": "Annex VII, §8",
                  "ActorType": "IMPORTANT_Critical_products"
                },
                "color": "#e362d4",
                "styles": {},
                "label": "8. where applicable, the software bill of materials, further to a reasoned request from a market surveillance authority provided that it is necessary in order for that authority to be able to check compliance with the essential cybersecurity requirements set out in Annex I.",
                "scale_factor": 1,
                "type": "#e362d4",
                "size": [
                  55,
                  55
                ],
                "position": [
                  0,
                  0
                ]
              },
              {
                "id": "IMPORTANT_Critical_products-104",
                "properties": {
                  "label": "A manufacturer shall notify any actively exploited vulnerability contained in the product with digital elements that it becomes aware of simultaneously to the CSIRT designated as coordinator and to ENISA. The manufacturer shall notify that actively exploited vulnerability via the single reporting platform established pursuant to Article 16.",
                  "Article": "Article 14(1) and 14(7)",
                  "ActorType": "IMPORTANT_Critical_products"
                },
                "color": "#e362d4",
                "styles": {},
                "label": "A manufacturer shall notify any actively exploited vulnerability contained in the product with digital elements that it becomes aware of simultaneously to the CSIRT designated as coordinator and to ENISA. The manufacturer shall notify that actively exploited vulnerability via the single reporting platform established pursuant to Article 16.",
                "scale_factor": 1,
                "type": "#e362d4",
                "size": [
                  55,
                  55
                ],
                "position": [
                  0,
                  0
                ]
              },
              {
                "id": "IMPORTANT_Critical_products-105",
                "properties": {
                  "label": "For the purposes of the notification referred to in paragraph 1, the manufacturer shall submit:",
                  "Article": "Article 14 (2)",
                  "ActorType": "IMPORTANT_Critical_products"
                },
                "color": "#e362d4",
                "styles": {},
                "label": "For the purposes of the notification referred to in paragraph 1, the manufacturer shall submit:",
                "scale_factor": 1,
                "type": "#e362d4",
                "size": [
                  55,
                  55
                ],
                "position": [
                  0,
                  0
                ]
              },
              {
                "id": "IMPORTANT_Critical_products-106",
                "properties": {
                  "label": "(a) an early warning notification of an actively exploited vulnerability, without undue delay and in any event within 24 hours of the manufacturer becoming aware of it, indicating, where applicable, the Member States on the territory of which the manufacturer is aware that their product with digital elements has been made available;",
                  "Article": "Article 14 (2) (a)",
                  "ActorType": "IMPORTANT_Critical_products"
                },
                "color": "#e362d4",
                "styles": {},
                "label": "(a) an early warning notification of an actively exploited vulnerability, without undue delay and in any event within 24 hours of the manufacturer becoming aware of it, indicating, where applicable, the Member States on the territory of which the manufacturer is aware that their product with digital elements has been made available;",
                "scale_factor": 1,
                "type": "#e362d4",
                "size": [
                  55,
                  55
                ],
                "position": [
                  0,
                  0
                ]
              },
              {
                "id": "IMPORTANT_Critical_products-107",
                "properties": {
                  "label": "(b) unless the relevant information has already been provided, a vulnerability notification, without undue delay and in any event within 72 hours of the manufacturer becoming aware of the actively exploited vulnerability, which shall provide general information, as available, about the product with digital elements concerned, the general nature of the exploit and of the vulnerability concerned as well as any corrective or mitigating measures taken, and corrective or mitigating measures that users can take, and which shall also indicate, where applicable, how sensitive the manufacturer considers the notified information to be;",
                  "Article": "Article 14 (2) (b)",
                  "ActorType": "IMPORTANT_Critical_products"
                },
                "color": "#e362d4",
                "styles": {},
                "label": "(b) unless the relevant information has already been provided, a vulnerability notification, without undue delay and in any event within 72 hours of the manufacturer becoming aware of the actively exploited vulnerability, which shall provide general information, as available, about the product with digital elements concerned, the general nature of the exploit and of the vulnerability concerned as well as any corrective or mitigating measures taken, and corrective or mitigating measures that users can take, and which shall also indicate, where applicable, how sensitive the manufacturer considers the notified information to be;",
                "scale_factor": 1,
                "type": "#e362d4",
                "size": [
                  55,
                  55
                ],
                "position": [
                  0,
                  0
                ]
              },
              {
                "id": "IMPORTANT_Critical_products-108",
                "properties": {
                  "label": "(c) unless the relevant information has already been provided, a final report, no later than 14 days after a corrective or mitigating measure is available, including at least the following:",
                  "Article": "Article 14 (2) (c)",
                  "ActorType": "IMPORTANT_Critical_products"
                },
                "color": "#e362d4",
                "styles": {},
                "label": "(c) unless the relevant information has already been provided, a final report, no later than 14 days after a corrective or mitigating measure is available, including at least the following:",
                "scale_factor": 1,
                "type": "#e362d4",
                "size": [
                  55,
                  55
                ],
                "position": [
                  0,
                  0
                ]
              },
              {
                "id": "IMPORTANT_Critical_products-109",
                "properties": {
                  "label": "(i) a description of the vulnerability, including its severity and impact;",
                  "Article": "Article 14 (2) (c) (i)",
                  "ActorType": "IMPORTANT_Critical_products"
                },
                "color": "#e362d4",
                "styles": {},
                "label": "(i) a description of the vulnerability, including its severity and impact;",
                "scale_factor": 1,
                "type": "#e362d4",
                "size": [
                  55,
                  55
                ],
                "position": [
                  0,
                  0
                ]
              },
              {
                "id": "IMPORTANT_Critical_products-110",
                "properties": {
                  "label": "(ii) where available, information concerning any malicious actor that has exploited or that is exploiting the vulnerability;",
                  "Article": "Article 14 (2) (c) (ii)",
                  "ActorType": "IMPORTANT_Critical_products"
                },
                "color": "#e362d4",
                "styles": {},
                "label": "(ii) where available, information concerning any malicious actor that has exploited or that is exploiting the vulnerability;",
                "scale_factor": 1,
                "type": "#e362d4",
                "size": [
                  55,
                  55
                ],
                "position": [
                  0,
                  0
                ]
              },
              {
                "id": "IMPORTANT_Critical_products-111",
                "properties": {
                  "label": "(iii) details about the security update or other corrective measures that have been made available to remedy the vulnerability.",
                  "Article": "Article 14 (2) (c) (iII)",
                  "ActorType": "IMPORTANT_Critical_products"
                },
                "color": "#e362d4",
                "styles": {},
                "label": "(iii) details about the security update or other corrective measures that have been made available to remedy the vulnerability.",
                "scale_factor": 1,
                "type": "#e362d4",
                "size": [
                  55,
                  55
                ],
                "position": [
                  0,
                  0
                ]
              },
              {
                "id": "IMPORTANT_Critical_products-112",
                "properties": {
                  "label": "A manufacturer shall notify any severe incident having an impact on the security of the product with digital elements that it becomes aware of simultaneously to the CSIRT designated as coordinator, in accordance with paragraph 7 of this Article, and to ENISA. The manufacturer shall notify that incident via the single reporting platform",
                  "Article": "Article 14 (3)",
                  "ActorType": "IMPORTANT_Critical_products"
                },
                "color": "#e362d4",
                "styles": {},
                "label": "A manufacturer shall notify any severe incident having an impact on the security of the product with digital elements that it becomes aware of simultaneously to the CSIRT designated as coordinator, in accordance with paragraph 7 of this Article, and to ENISA. The manufacturer shall notify that incident via the single reporting platform",
                "scale_factor": 1,
                "type": "#e362d4",
                "size": [
                  55,
                  55
                ],
                "position": [
                  0,
                  0
                ]
              },
              {
                "id": "IMPORTANT_Critical_products-113",
                "properties": {
                  "label": "For the purposes of the notification referred to in paragraph 3, the manufacturer shall submit:",
                  "Article": "Article 14 (4)",
                  "ActorType": "IMPORTANT_Critical_products"
                },
                "color": "#e362d4",
                "styles": {},
                "label": "For the purposes of the notification referred to in paragraph 3, the manufacturer shall submit:",
                "scale_factor": 1,
                "type": "#e362d4",
                "size": [
                  55,
                  55
                ],
                "position": [
                  0,
                  0
                ]
              },
              {
                "id": "IMPORTANT_Critical_products-114",
                "properties": {
                  "label": "(a) an early warning notification of a severe incident having an impact on the security of the product with digital elements, without undue delay and in any event within 24 hours of the manufacturer becoming aware of it, including at least whether the incident is suspected of being caused by unlawful or malicious acts, which shall also indicate, where applicable, the Member States on the territory of which the manufacturer is aware that their product with digital elements has been made available;",
                  "Article": "Article 14 (4) (a)",
                  "ActorType": "IMPORTANT_Critical_products"
                },
                "color": "#e362d4",
                "styles": {},
                "label": "(a) an early warning notification of a severe incident having an impact on the security of the product with digital elements, without undue delay and in any event within 24 hours of the manufacturer becoming aware of it, including at least whether the incident is suspected of being caused by unlawful or malicious acts, which shall also indicate, where applicable, the Member States on the territory of which the manufacturer is aware that their product with digital elements has been made available;",
                "scale_factor": 1,
                "type": "#e362d4",
                "size": [
                  55,
                  55
                ],
                "position": [
                  0,
                  0
                ]
              },
              {
                "id": "IMPORTANT_Critical_products-115",
                "properties": {
                  "label": "(b) unless the relevant information has already been provided, an incident notification, without undue delay and in any event within 72 hours of the manufacturer becoming aware of the incident, which shall provide general information, where available, about the nature of the incident, an initial assessment of the incident, as well as any corrective or mitigating measures taken, and corrective or mitigating measures that users can take, and which shall also indicate, where applicable, how sensitive the manufacturer considers the notified information to be;",
                  "Article": "Article 14 (4) (b)",
                  "ActorType": "IMPORTANT_Critical_products"
                },
                "color": "#e362d4",
                "styles": {},
                "label": "(b) unless the relevant information has already been provided, an incident notification, without undue delay and in any event within 72 hours of the manufacturer becoming aware of the incident, which shall provide general information, where available, about the nature of the incident, an initial assessment of the incident, as well as any corrective or mitigating measures taken, and corrective or mitigating measures that users can take, and which shall also indicate, where applicable, how sensitive the manufacturer considers the notified information to be;",
                "scale_factor": 1,
                "type": "#e362d4",
                "size": [
                  55,
                  55
                ],
                "position": [
                  0,
                  0
                ]
              },
              {
                "id": "IMPORTANT_Critical_products-116",
                "properties": {
                  "label": "(c) unless the relevant information has already been provided, a final report, within one month after the submission of the incident notification under point (b), including at least the following:",
                  "Article": "Article 14 (4) (c)",
                  "ActorType": "IMPORTANT_Critical_products"
                },
                "color": "#e362d4",
                "styles": {},
                "label": "(c) unless the relevant information has already been provided, a final report, within one month after the submission of the incident notification under point (b), including at least the following:",
                "scale_factor": 1,
                "type": "#e362d4",
                "size": [
                  55,
                  55
                ],
                "position": [
                  0,
                  0
                ]
              },
              {
                "id": "IMPORTANT_Critical_products-117",
                "properties": {
                  "label": "(i) a detailed description of the incident, including its severity and impact;",
                  "Article": "Article 14 (4) (c) (i)",
                  "ActorType": "IMPORTANT_Critical_products"
                },
                "color": "#e362d4",
                "styles": {},
                "label": "(i) a detailed description of the incident, including its severity and impact;",
                "scale_factor": 1,
                "type": "#e362d4",
                "size": [
                  55,
                  55
                ],
                "position": [
                  0,
                  0
                ]
              },
              {
                "id": "IMPORTANT_Critical_products-118",
                "properties": {
                  "label": "(ii) the type of threat or root cause that is likely to have triggered the incident;",
                  "Article": "Article 14 (4) (c) (ii)",
                  "ActorType": "IMPORTANT_Critical_products"
                },
                "color": "#e362d4",
                "styles": {},
                "label": "(ii) the type of threat or root cause that is likely to have triggered the incident;",
                "scale_factor": 1,
                "type": "#e362d4",
                "size": [
                  55,
                  55
                ],
                "position": [
                  0,
                  0
                ]
              },
              {
                "id": "IMPORTANT_Critical_products-119",
                "properties": {
                  "label": "(iii) applied and ongoing mitigation measures.",
                  "Article": "Article 14 (4) (c) (iii)",
                  "ActorType": "IMPORTANT_Critical_products"
                },
                "color": "#e362d4",
                "styles": {},
                "label": "(iii) applied and ongoing mitigation measures.",
                "scale_factor": 1,
                "type": "#e362d4",
                "size": [
                  55,
                  55
                ],
                "position": [
                  0,
                  0
                ]
              },
              {
                "id": "IMPORTANT_Critical_products-120",
                "properties": {
                  "label": "After becoming aware of an actively exploited vulnerability or a severe incident having an impact on the security of the product with digital elements, the manufacturer shall inform the impacted users of the product with digital elements, and where appropriate all users, of that vulnerability or incident and, where necessary, of any risk mitigation and corrective measures that the users can deploy to mitigate the impact of that vulnerability or incident, where appropriate in a structured, machine-readable format that is easily automatically processable. Where the manufacturer fails to inform the users of the product with digital elements in a timely manner, the notified CSIRTs designated as coordinators may provide such information to the users when considered to be proportionate and necessary for preventing or mitigating the impact of that vulnerability or incident.",
                  "Article": "Article 14 (8)",
                  "ActorType": "IMPORTANT_Critical_products"
                },
                "color": "#e362d4",
                "styles": {},
                "label": "After becoming aware of an actively exploited vulnerability or a severe incident having an impact on the security of the product with digital elements, the manufacturer shall inform the impacted users of the product with digital elements, and where appropriate all users, of that vulnerability or incident and, where necessary, of any risk mitigation and corrective measures that the users can deploy to mitigate the impact of that vulnerability or incident, where appropriate in a structured, machine-readable format that is easily automatically processable. Where the manufacturer fails to inform the users of the product with digital elements in a timely manner, the notified CSIRTs designated as coordinators may provide such information to the users when considered to be proportionate and necessary for preventing or mitigating the impact of that vulnerability or incident.",
                "scale_factor": 1,
                "type": "#e362d4",
                "size": [
                  55,
                  55
                ],
                "position": [
                  0,
                  0
                ]
              },
              {
                "id": "IMPORTANT_Critical_products-121",
                "properties": {
                  "label": "Manufacturers as well as other natural or legal persons may notify any vulnerability contained in a product with digital elements as well as cyber threats that could affect the risk profile of a product with digital elements on a voluntary basis to a CSIRT designated as coordinator or ENISA.",
                  "Article": "Article 15 (1)",
                  "ActorType": "IMPORTANT_Critical_products"
                },
                "color": "#e362d4",
                "styles": {},
                "label": "Manufacturers as well as other natural or legal persons may notify any vulnerability contained in a product with digital elements as well as cyber threats that could affect the risk profile of a product with digital elements on a voluntary basis to a CSIRT designated as coordinator or ENISA.",
                "scale_factor": 1,
                "type": "#e362d4",
                "size": [
                  55,
                  55
                ],
                "position": [
                  0,
                  0
                ]
              },
              {
                "id": "IMPORTANT_Critical_products-122",
                "properties": {
                  "label": "Manufacturers as well as other natural or legal persons may notify any incident having an impact on the security of the product with digital elements as well as near misses that could have resulted in such an incident on a voluntary basis to a CSIRT designated as coordinator or ENISA.",
                  "Article": "Article 15 (2)",
                  "ActorType": "IMPORTANT_Critical_products"
                },
                "color": "#e362d4",
                "styles": {},
                "label": "Manufacturers as well as other natural or legal persons may notify any incident having an impact on the security of the product with digital elements as well as near misses that could have resulted in such an incident on a voluntary basis to a CSIRT designated as coordinator or ENISA.",
                "scale_factor": 1,
                "type": "#e362d4",
                "size": [
                  55,
                  55
                ],
                "position": [
                  0,
                  0
                ]
              },
              {
                "id": "IMPORTANT_Critical_products-129",
                "properties": {
                  "label": "EU-type examination is the part of a conformity assessment procedure in which a notified body examines the technical design and development of a product with digital elements and the vulnerability handling processes put in place by the manufacturer, and attests that a product with digital elements meets the essential cybersecurity requirements set out in Part I of Annex I and that the manufacturer meets the essential cybersecurity requirements set out in Part II of Annex I.",
                  "Article": "Annex VIII, Part II, §1",
                  "ActorType": "IMPORTANT_Critical_products"
                },
                "color": "#e362d4",
                "styles": {},
                "label": "EU-type examination is the part of a conformity assessment procedure in which a notified body examines the technical design and development of a product with digital elements and the vulnerability handling processes put in place by the manufacturer, and attests that a product with digital elements meets the essential cybersecurity requirements set out in Part I of Annex I and that the manufacturer meets the essential cybersecurity requirements set out in Part II of Annex I.",
                "scale_factor": 1,
                "type": "#e362d4",
                "size": [
                  55,
                  55
                ],
                "position": [
                  0,
                  0
                ]
              },
              {
                "id": "IMPORTANT_Critical_products-130",
                "properties": {
                  "label": "EU-type examination shall be carried out by assessing the adequacy of the technical design and development of the product with digital elements through the examination of the technical documentation and supporting evidence referred to in point 3, and the examination of specimens of one or more critical parts of the product (combination of production type and design type).",
                  "Article": "Annex VIII, Part II, §2",
                  "ActorType": "IMPORTANT_Critical_products"
                },
                "color": "#e362d4",
                "styles": {},
                "label": "EU-type examination shall be carried out by assessing the adequacy of the technical design and development of the product with digital elements through the examination of the technical documentation and supporting evidence referred to in point 3, and the examination of specimens of one or more critical parts of the product (combination of production type and design type).",
                "scale_factor": 1,
                "type": "#e362d4",
                "size": [
                  55,
                  55
                ],
                "position": [
                  0,
                  0
                ]
              },
              {
                "id": "IMPORTANT_Critical_products-131",
                "properties": {
                  "label": "The manufacturer shall lodge an application for assessment of its quality system with the notified body of its choice, for the products with digital elements concerned. The application shall include:",
                  "Article": "Annex VIII, Part II, §3",
                  "ActorType": "IMPORTANT_Critical_products"
                },
                "color": "#e362d4",
                "styles": {},
                "label": "The manufacturer shall lodge an application for assessment of its quality system with the notified body of its choice, for the products with digital elements concerned. The application shall include:",
                "scale_factor": 1,
                "type": "#e362d4",
                "size": [
                  55,
                  55
                ],
                "position": [
                  0,
                  0
                ]
              },
              {
                "id": "IMPORTANT_Critical_products-132",
                "properties": {
                  "label": "the name and address of the manufacturer and, if the application is lodged by the authorised representative, the name and address of that authorised representative;",
                  "Article": "Annex VIII, Part II, §3.1",
                  "ActorType": "IMPORTANT_Critical_products"
                },
                "color": "#e362d4",
                "styles": {},
                "label": "the name and address of the manufacturer and, if the application is lodged by the authorised representative, the name and address of that authorised representative;",
                "scale_factor": 1,
                "type": "#e362d4",
                "size": [
                  55,
                  55
                ],
                "position": [
                  0,
                  0
                ]
              },
              {
                "id": "IMPORTANT_Critical_products-133",
                "properties": {
                  "label": "a written declaration that the same application has not been lodged with any other notified body;",
                  "Article": "Annex VIII, Part II, §3.2",
                  "ActorType": "IMPORTANT_Critical_products"
                },
                "color": "#e362d4",
                "styles": {},
                "label": "a written declaration that the same application has not been lodged with any other notified body;",
                "scale_factor": 1,
                "type": "#e362d4",
                "size": [
                  55,
                  55
                ],
                "position": [
                  0,
                  0
                ]
              },
              {
                "id": "IMPORTANT_Critical_products-134",
                "properties": {
                  "label": "the technical documentation, which shall make it possible to assess the conformity of the product with digital elements with the applicable essential cybersecurity requirements as set out in Part I of Annex I and the manufacturer’s vulnerability handling processes set out in Part II of Annex I and shall include an adequate analysis and assessment of the risks. The technical documentation shall specify the applicable requirements and cover, as far as relevant for the assessment, the design, manufacture and operation of the product with digital elements. The technical documentation shall contain, wherever applicable, at least the elements set out in Annex VII;",
                  "Article": "Annex VIII, Part II, §3.3",
                  "ActorType": "IMPORTANT_Critical_products"
                },
                "color": "#e362d4",
                "styles": {},
                "label": "the technical documentation, which shall make it possible to assess the conformity of the product with digital elements with the applicable essential cybersecurity requirements as set out in Part I of Annex I and the manufacturer’s vulnerability handling processes set out in Part II of Annex I and shall include an adequate analysis and assessment of the risks. The technical documentation shall specify the applicable requirements and cover, as far as relevant for the assessment, the design, manufacture and operation of the product with digital elements. The technical documentation shall contain, wherever applicable, at least the elements set out in Annex VII;",
                "scale_factor": 1,
                "type": "#e362d4",
                "size": [
                  55,
                  55
                ],
                "position": [
                  0,
                  0
                ]
              },
              {
                "id": "IMPORTANT_Critical_products-135",
                "properties": {
                  "label": "the supporting evidence for the adequacy of the technical design and development solutions and vulnerability handling processes. This supporting evidence shall mention any documents that have been used, in particular where the relevant harmonised standards or technical specifications have not been applied in full. The supporting evidence shall include, where necessary, the results of tests carried out by the appropriate laboratory of the manufacturer, or by another testing laboratory on its behalf and under its responsibility.",
                  "Article": "Annex VIII, Part II, §3.4",
                  "ActorType": "IMPORTANT_Critical_products"
                },
                "color": "#e362d4",
                "styles": {},
                "label": "the supporting evidence for the adequacy of the technical design and development solutions and vulnerability handling processes. This supporting evidence shall mention any documents that have been used, in particular where the relevant harmonised standards or technical specifications have not been applied in full. The supporting evidence shall include, where necessary, the results of tests carried out by the appropriate laboratory of the manufacturer, or by another testing laboratory on its behalf and under its responsibility.",
                "scale_factor": 1,
                "type": "#e362d4",
                "size": [
                  55,
                  55
                ],
                "position": [
                  0,
                  0
                ]
              },
              {
                "id": "IMPORTANT_Critical_products-136",
                "properties": {
                  "label": "The manufacturer shall inform the notified body that holds the technical documentation relating to the EU-type examination certificate of all modifications to the approved type and the vulnerability handling processes that may affect the conformity with the essential cybersecurity requirements set out in Annex I, or the conditions for validity of the certificate. Such modifications shall require additional approval in the form of an addition to the original EU-type examination certificate.",
                  "Article": "Annex VIII, Part II, §7",
                  "ActorType": "IMPORTANT_Critical_products"
                },
                "color": "#e362d4",
                "styles": {},
                "label": "The manufacturer shall inform the notified body that holds the technical documentation relating to the EU-type examination certificate of all modifications to the approved type and the vulnerability handling processes that may affect the conformity with the essential cybersecurity requirements set out in Annex I, or the conditions for validity of the certificate. Such modifications shall require additional approval in the form of an addition to the original EU-type examination certificate.",
                "scale_factor": 1,
                "type": "#e362d4",
                "size": [
                  55,
                  55
                ],
                "position": [
                  0,
                  0
                ]
              },
              {
                "id": "IMPORTANT_Critical_products-137",
                "properties": {
                  "label": "The manufacturer shall keep a copy of the EU-type examination certificate, its annexes and additions together with the technical documentation at the disposal of the national authorities for 10 years after the product with digital elements has been placed on the market or for the support period, whichever is longer.",
                  "Article": "Annex VIII, Part II, §10",
                  "ActorType": "IMPORTANT_Critical_products"
                },
                "color": "#e362d4",
                "styles": {},
                "label": "The manufacturer shall keep a copy of the EU-type examination certificate, its annexes and additions together with the technical documentation at the disposal of the national authorities for 10 years after the product with digital elements has been placed on the market or for the support period, whichever is longer.",
                "scale_factor": 1,
                "type": "#e362d4",
                "size": [
                  55,
                  55
                ],
                "position": [
                  0,
                  0
                ]
              },
              {
                "id": "non_IMPORTANT_products_Software-3",
                "properties": {
                  "label": "Manufacturers shall undertake an assessment of the cybersecurity risks associated with a product with digital elements and take the outcome of that assessment into account during the planning, design, development, production, delivery and maintenance phases of the product with digital elements with a view to minimising cybersecurity risks, preventing incidents and minimising their impact, including in relation to the health and safety of users.",
                  "Article": "article 13(2)",
                  "ActorType": "non_IMPORTANT_products_Software"
                },
                "color": "#a876e8",
                "styles": {},
                "label": "Manufacturers shall undertake an assessment of the cybersecurity risks associated with a product with digital elements and take the outcome of that assessment into account during the planning, design, development, production, delivery and maintenance phases of the product with digital elements with a view to minimising cybersecurity risks, preventing incidents and minimising their impact, including in relation to the health and safety of users.",
                "scale_factor": 1,
                "type": "#a876e8",
                "size": [
                  55,
                  55
                ],
                "position": [
                  0,
                  0
                ]
              },
              {
                "id": "non_IMPORTANT_products_Software-4",
                "properties": {
                  "label": "The cybersecurity risk assessment shall be documented and updated as appropriate during a support period to be determined in accordance with paragraph 8 of this Article. That cybersecurity risk assessment shall comprise at least an analysis of cybersecurity risks based on the intended purpose and reasonably foreseeable use, as well as the conditions of use, of the product with digital elements, such as the operational environment or the assets to be protected, taking into account the length of time the product is expected to be in use. The cybersecurity risk assessment shall indicate whether and, if so in what manner, the security requirements set out in Part I, point (2), of Annex I are applicable to the relevant product with digital elements and how those requirements are implemented as informed by the cybersecurity risk assessment. It shall also indicate how the manufacturer is to apply Part I, point (1), of Annex I and the vulnerability handling requirements set out in Part II of Annex I.",
                  "Article": "Article 13(3)",
                  "ActorType": "non_IMPORTANT_products_Software"
                },
                "color": "#a876e8",
                "styles": {},
                "label": "The cybersecurity risk assessment shall be documented and updated as appropriate during a support period to be determined in accordance with paragraph 8 of this Article. That cybersecurity risk assessment shall comprise at least an analysis of cybersecurity risks based on the intended purpose and reasonably foreseeable use, as well as the conditions of use, of the product with digital elements, such as the operational environment or the assets to be protected, taking into account the length of time the product is expected to be in use. The cybersecurity risk assessment shall indicate whether and, if so in what manner, the security requirements set out in Part I, point (2), of Annex I are applicable to the relevant product with digital elements and how those requirements are implemented as informed by the cybersecurity risk assessment. It shall also indicate how the manufacturer is to apply Part I, point (1), of Annex I and the vulnerability handling requirements set out in Part II of Annex I.",
                "scale_factor": 1,
                "type": "#a876e8",
                "size": [
                  55,
                  55
                ],
                "position": [
                  0,
                  0
                ]
              },
              {
                "id": "non_IMPORTANT_products_Software-5",
                "properties": {
                  "label": "When placing a product with digital elements on the market, the manufacturer shall include the cybersecurity risk assessment in the technical documentation. For products with digital elements which are also subject to other Union legal acts, the cybersecurity risk assessment may be part of the risk assessment required by those Union legal acts. Where certain essential cybersecurity requirements are not applicable to the product with digital elements, the manufacturer shall include a clear justification to that effect in that technical documentation.",
                  "Article": "Article 13(4)",
                  "ActorType": "non_IMPORTANT_products_Software"
                },
                "color": "#a876e8",
                "styles": {},
                "label": "When placing a product with digital elements on the market, the manufacturer shall include the cybersecurity risk assessment in the technical documentation. For products with digital elements which are also subject to other Union legal acts, the cybersecurity risk assessment may be part of the risk assessment required by those Union legal acts. Where certain essential cybersecurity requirements are not applicable to the product with digital elements, the manufacturer shall include a clear justification to that effect in that technical documentation.",
                "scale_factor": 1,
                "type": "#a876e8",
                "size": [
                  55,
                  55
                ],
                "position": [
                  0,
                  0
                ]
              },
              {
                "id": "non_IMPORTANT_products_Software-6",
                "properties": {
                  "label": "The manufacturers shall systematically document, in a manner that is proportionate to the nature and the cybersecurity risks, relevant cybersecurity aspects concerning the products with digital elements, including vulnerabilities of which they become aware and any relevant information provided by third parties, and shall, where applicable, update the cybersecurity risk assessment of the products",
                  "Article": "Article 13(7)",
                  "ActorType": "non_IMPORTANT_products_Software"
                },
                "color": "#a876e8",
                "styles": {},
                "label": "The manufacturers shall systematically document, in a manner that is proportionate to the nature and the cybersecurity risks, relevant cybersecurity aspects concerning the products with digital elements, including vulnerabilities of which they become aware and any relevant information provided by third parties, and shall, where applicable, update the cybersecurity risk assessment of the products",
                "scale_factor": 1,
                "type": "#a876e8",
                "size": [
                  55,
                  55
                ],
                "position": [
                  0,
                  0
                ]
              },
              {
                "id": "non_IMPORTANT_products_Software-14",
                "properties": {
                  "label": "Products with digital elements shall be designed, developed and produced in such a way that they ensure an appropriate level of cybersecurity based on the risks.",
                  "Article": "Annex I, Part 1 §1",
                  "ActorType": "non_IMPORTANT_products_Software"
                },
                "color": "#a876e8",
                "styles": {},
                "label": "Products with digital elements shall be designed, developed and produced in such a way that they ensure an appropriate level of cybersecurity based on the risks.",
                "scale_factor": 1,
                "type": "#a876e8",
                "size": [
                  55,
                  55
                ],
                "position": [
                  0,
                  0
                ]
              },
              {
                "id": "non_IMPORTANT_products_Software-15",
                "properties": {
                  "label": "On the basis of the cybersecurity risk assessment referred to in Article 13(2) and where applicable, products with digital elements shall:",
                  "Article": "Annex I, Part 1 §2",
                  "ActorType": "non_IMPORTANT_products_Software"
                },
                "color": "#a876e8",
                "styles": {},
                "label": "On the basis of the cybersecurity risk assessment referred to in Article 13(2) and where applicable, products with digital elements shall:",
                "scale_factor": 1,
                "type": "#a876e8",
                "size": [
                  55,
                  55
                ],
                "position": [
                  0,
                  0
                ]
              },
              {
                "id": "non_IMPORTANT_products_Software-16",
                "properties": {
                  "label": "(a) be made available on the market without known exploitable vulnerabilities;",
                  "Article": "Annex I, Part 1 §2a",
                  "ActorType": "non_IMPORTANT_products_Software"
                },
                "color": "#a876e8",
                "styles": {},
                "label": "(a) be made available on the market without known exploitable vulnerabilities;",
                "scale_factor": 1,
                "type": "#a876e8",
                "size": [
                  55,
                  55
                ],
                "position": [
                  0,
                  0
                ]
              },
              {
                "id": "non_IMPORTANT_products_Software-17",
                "properties": {
                  "label": "(b) be made available on the market with a secure by default configuration, unless otherwise agreed between manufacturer and business user in relation to a tailor-made product with digital elements, including the possibility to reset the product to its original state;",
                  "Article": "Annex I, Part 1 §2b",
                  "ActorType": "non_IMPORTANT_products_Software"
                },
                "color": "#a876e8",
                "styles": {},
                "label": "(b) be made available on the market with a secure by default configuration, unless otherwise agreed between manufacturer and business user in relation to a tailor-made product with digital elements, including the possibility to reset the product to its original state;",
                "scale_factor": 1,
                "type": "#a876e8",
                "size": [
                  55,
                  55
                ],
                "position": [
                  0,
                  0
                ]
              },
              {
                "id": "non_IMPORTANT_products_Software-18",
                "properties": {
                  "label": "(c) ensure that vulnerabilities can be addressed through security updates, including, where applicable, through automatic security updates that are installed within an appropriate timeframe enabled as a default setting, with a clear and easy-to-use opt- out mechanism, through the notification of available updates to users, and the option to temporarily postpone them;",
                  "Article": "Annex 1, Part 1 §2c",
                  "ActorType": "non_IMPORTANT_products_Software"
                },
                "color": "#a876e8",
                "styles": {},
                "label": "(c) ensure that vulnerabilities can be addressed through security updates, including, where applicable, through automatic security updates that are installed within an appropriate timeframe enabled as a default setting, with a clear and easy-to-use opt- out mechanism, through the notification of available updates to users, and the option to temporarily postpone them;",
                "scale_factor": 1,
                "type": "#a876e8",
                "size": [
                  55,
                  55
                ],
                "position": [
                  0,
                  0
                ]
              },
              {
                "id": "non_IMPORTANT_products_Software-19",
                "properties": {
                  "label": "(d) ensure protection from unauthorised access by appropriate control mechanisms, including but not limited to authentication, identity or access management systems, and report on possible unauthorised access;",
                  "Article": "Annex I, Part 1 §2d",
                  "ActorType": "non_IMPORTANT_products_Software"
                },
                "color": "#a876e8",
                "styles": {},
                "label": "(d) ensure protection from unauthorised access by appropriate control mechanisms, including but not limited to authentication, identity or access management systems, and report on possible unauthorised access;",
                "scale_factor": 1,
                "type": "#a876e8",
                "size": [
                  55,
                  55
                ],
                "position": [
                  0,
                  0
                ]
              },
              {
                "id": "non_IMPORTANT_products_Software-20",
                "properties": {
                  "label": "(e) protect the confidentiality of stored, transmitted or otherwise processed data, personal or other, such as by encrypting relevant data at rest or in transit by state of the art mechanisms, and by using other technical means;",
                  "Article": "Annex I, Part 1 §2e",
                  "ActorType": "non_IMPORTANT_products_Software"
                },
                "color": "#a876e8",
                "styles": {},
                "label": "(e) protect the confidentiality of stored, transmitted or otherwise processed data, personal or other, such as by encrypting relevant data at rest or in transit by state of the art mechanisms, and by using other technical means;",
                "scale_factor": 1,
                "type": "#a876e8",
                "size": [
                  55,
                  55
                ],
                "position": [
                  0,
                  0
                ]
              },
              {
                "id": "non_IMPORTANT_products_Software-21",
                "properties": {
                  "label": "(f) protect the integrity of stored, transmitted or otherwise processed data, personal or other, commands, programs and configuration against any manipulation or modification not authorised by the user, and report on corruptions;",
                  "Article": "Annex I, Part 1 §2f",
                  "ActorType": "non_IMPORTANT_products_Software"
                },
                "color": "#a876e8",
                "styles": {},
                "label": "(f) protect the integrity of stored, transmitted or otherwise processed data, personal or other, commands, programs and configuration against any manipulation or modification not authorised by the user, and report on corruptions;",
                "scale_factor": 1,
                "type": "#a876e8",
                "size": [
                  55,
                  55
                ],
                "position": [
                  0,
                  0
                ]
              },
              {
                "id": "non_IMPORTANT_products_Software-22",
                "properties": {
                  "label": "(g) process only data, personal or other, that are adequate, relevant and limited to what is necessary in relation to the intended purpose of the product with digital elements (data minimisation);",
                  "Article": "Annex I, Part 1 §2g",
                  "ActorType": "non_IMPORTANT_products_Software"
                },
                "color": "#a876e8",
                "styles": {},
                "label": "(g) process only data, personal or other, that are adequate, relevant and limited to what is necessary in relation to the intended purpose of the product with digital elements (data minimisation);",
                "scale_factor": 1,
                "type": "#a876e8",
                "size": [
                  55,
                  55
                ],
                "position": [
                  0,
                  0
                ]
              },
              {
                "id": "non_IMPORTANT_products_Software-23",
                "properties": {
                  "label": "(h) protect the availability of essential and basic functions, also after an incident, including through resilience and mitigation measures against denial-of-service attacks;",
                  "Article": "Annex I, Part 1 §2h",
                  "ActorType": "non_IMPORTANT_products_Software"
                },
                "color": "#a876e8",
                "styles": {},
                "label": "(h) protect the availability of essential and basic functions, also after an incident, including through resilience and mitigation measures against denial-of-service attacks;",
                "scale_factor": 1,
                "type": "#a876e8",
                "size": [
                  55,
                  55
                ],
                "position": [
                  0,
                  0
                ]
              },
              {
                "id": "non_IMPORTANT_products_Software-24",
                "properties": {
                  "label": "(i) minimise the negative impact by the products themselves or connected devices on the availability of services provided by other devices or networks;",
                  "Article": "Annex I, Part 1 §2i",
                  "ActorType": "non_IMPORTANT_products_Software"
                },
                "color": "#a876e8",
                "styles": {},
                "label": "(i) minimise the negative impact by the products themselves or connected devices on the availability of services provided by other devices or networks;",
                "scale_factor": 1,
                "type": "#a876e8",
                "size": [
                  55,
                  55
                ],
                "position": [
                  0,
                  0
                ]
              },
              {
                "id": "non_IMPORTANT_products_Software-25",
                "properties": {
                  "label": "(j) be designed, developed and produced to limit attack surfaces, including external interfaces;",
                  "Article": "Annex I, Part 1 §2j",
                  "ActorType": "non_IMPORTANT_products_Software"
                },
                "color": "#a876e8",
                "styles": {},
                "label": "(j) be designed, developed and produced to limit attack surfaces, including external interfaces;",
                "scale_factor": 1,
                "type": "#a876e8",
                "size": [
                  55,
                  55
                ],
                "position": [
                  0,
                  0
                ]
              },
              {
                "id": "non_IMPORTANT_products_Software-26",
                "properties": {
                  "label": "(k) be designed, developed and produced to reduce the impact of an incident using appropriate exploitation mitigation mechanisms and techniques;",
                  "Article": "Annex I, Part 1 §2k",
                  "ActorType": "non_IMPORTANT_products_Software"
                },
                "color": "#a876e8",
                "styles": {},
                "label": "(k) be designed, developed and produced to reduce the impact of an incident using appropriate exploitation mitigation mechanisms and techniques;",
                "scale_factor": 1,
                "type": "#a876e8",
                "size": [
                  55,
                  55
                ],
                "position": [
                  0,
                  0
                ]
              },
              {
                "id": "non_IMPORTANT_products_Software-27",
                "properties": {
                  "label": "(l) provide security related information by recording and monitoring relevant internal activity, including the access to or modification of data, services or functions, with an opt-out mechanism for the user;",
                  "Article": "Annex I, Part 1 §2l",
                  "ActorType": "non_IMPORTANT_products_Software"
                },
                "color": "#a876e8",
                "styles": {},
                "label": "(l) provide security related information by recording and monitoring relevant internal activity, including the access to or modification of data, services or functions, with an opt-out mechanism for the user;",
                "scale_factor": 1,
                "type": "#a876e8",
                "size": [
                  55,
                  55
                ],
                "position": [
                  0,
                  0
                ]
              },
              {
                "id": "non_IMPORTANT_products_Software-28",
                "properties": {
                  "label": "(m) provide the possibility for users to securely and easily remove on a permanent basis all data and settings and, where such data can be transferred to other products or systems, ensure that this is done in a secure manner.",
                  "Article": "Annex I, Part 1 §2m",
                  "ActorType": "non_IMPORTANT_products_Software"
                },
                "color": "#a876e8",
                "styles": {},
                "label": "(m) provide the possibility for users to securely and easily remove on a permanent basis all data and settings and, where such data can be transferred to other products or systems, ensure that this is done in a secure manner.",
                "scale_factor": 1,
                "type": "#a876e8",
                "size": [
                  55,
                  55
                ],
                "position": [
                  0,
                  0
                ]
              },
              {
                "id": "non_IMPORTANT_products_Software-29",
                "properties": {
                  "label": "Manufacturers of products with digital elements shall:",
                  "Article": "Annex I - Part II",
                  "ActorType": "non_IMPORTANT_products_Software"
                },
                "color": "#a876e8",
                "styles": {},
                "label": "Manufacturers of products with digital elements shall:",
                "scale_factor": 1,
                "type": "#a876e8",
                "size": [
                  55,
                  55
                ],
                "position": [
                  0,
                  0
                ]
              },
              {
                "id": "non_IMPORTANT_products_Software-30",
                "properties": {
                  "label": "(1) identify and document vulnerabilities and components contained in products with digital elements, including by drawing up a software bill of materials in a commonly used and machine-readable format covering at the very least the top-level dependencies of the products;",
                  "Article": "Annex I, Part 2 §2",
                  "ActorType": "non_IMPORTANT_products_Software"
                },
                "color": "#a876e8",
                "styles": {},
                "label": "(1) identify and document vulnerabilities and components contained in products with digital elements, including by drawing up a software bill of materials in a commonly used and machine-readable format covering at the very least the top-level dependencies of the products;",
                "scale_factor": 1,
                "type": "#a876e8",
                "size": [
                  55,
                  55
                ],
                "position": [
                  0,
                  0
                ]
              },
              {
                "id": "non_IMPORTANT_products_Software-31",
                "properties": {
                  "label": "(2) in relation to the risks posed to products with digital elements, address and remediate vulnerabilities without delay, including by providing security updates; where technically feasible, new security updates shall be provided separately from functionality updates;",
                  "Article": "Annex I, Part 2 §1",
                  "ActorType": "non_IMPORTANT_products_Software"
                },
                "color": "#a876e8",
                "styles": {},
                "label": "(2) in relation to the risks posed to products with digital elements, address and remediate vulnerabilities without delay, including by providing security updates; where technically feasible, new security updates shall be provided separately from functionality updates;",
                "scale_factor": 1,
                "type": "#a876e8",
                "size": [
                  55,
                  55
                ],
                "position": [
                  0,
                  0
                ]
              },
              {
                "id": "non_IMPORTANT_products_Software-32",
                "properties": {
                  "label": "(3) apply effective and regular tests and reviews of the security of the product with digital elements;",
                  "Article": "Annex I, Part 2 §3",
                  "ActorType": "non_IMPORTANT_products_Software"
                },
                "color": "#a876e8",
                "styles": {},
                "label": "(3) apply effective and regular tests and reviews of the security of the product with digital elements;",
                "scale_factor": 1,
                "type": "#a876e8",
                "size": [
                  55,
                  55
                ],
                "position": [
                  0,
                  0
                ]
              },
              {
                "id": "non_IMPORTANT_products_Software-33",
                "properties": {
                  "label": "(4) once a security update has been made available, share and publicly disclose information about fixed vulnerabilities, including a description of the vulnerabilities, information allowing users to identify the product with digital elements affected, the impacts of the vulnerabilities, their severity and clear and accessible information helping users to remediate the vulnerabilities; in duly justified cases, where manufacturers consider the security risks of publication to outweigh the security benefits, they may delay making public information regarding a fixed vulnerability until after users have been given the possibility to apply the relevant patch;",
                  "Article": "Annex I, Part 2 §4",
                  "ActorType": "non_IMPORTANT_products_Software"
                },
                "color": "#a876e8",
                "styles": {},
                "label": "(4) once a security update has been made available, share and publicly disclose information about fixed vulnerabilities, including a description of the vulnerabilities, information allowing users to identify the product with digital elements affected, the impacts of the vulnerabilities, their severity and clear and accessible information helping users to remediate the vulnerabilities; in duly justified cases, where manufacturers consider the security risks of publication to outweigh the security benefits, they may delay making public information regarding a fixed vulnerability until after users have been given the possibility to apply the relevant patch;",
                "scale_factor": 1,
                "type": "#a876e8",
                "size": [
                  55,
                  55
                ],
                "position": [
                  0,
                  0
                ]
              },
              {
                "id": "non_IMPORTANT_products_Software-34",
                "properties": {
                  "label": "(5) put in place and enforce a policy on coordinated vulnerability disclosure;",
                  "Article": "Annex I, Part 2 §5",
                  "ActorType": "non_IMPORTANT_products_Software"
                },
                "color": "#a876e8",
                "styles": {},
                "label": "(5) put in place and enforce a policy on coordinated vulnerability disclosure;",
                "scale_factor": 1,
                "type": "#a876e8",
                "size": [
                  55,
                  55
                ],
                "position": [
                  0,
                  0
                ]
              },
              {
                "id": "non_IMPORTANT_products_Software-35",
                "properties": {
                  "label": "(6) take measures to facilitate the sharing of information about potential vulnerabilities in their product with digital elements as well as in third-party components contained in that product, including by providing a contact address for the reporting of the vulnerabilities discovered in the product with digital elements;",
                  "Article": "Annex I, Part 2 §6",
                  "ActorType": "non_IMPORTANT_products_Software"
                },
                "color": "#a876e8",
                "styles": {},
                "label": "(6) take measures to facilitate the sharing of information about potential vulnerabilities in their product with digital elements as well as in third-party components contained in that product, including by providing a contact address for the reporting of the vulnerabilities discovered in the product with digital elements;",
                "scale_factor": 1,
                "type": "#a876e8",
                "size": [
                  55,
                  55
                ],
                "position": [
                  0,
                  0
                ]
              },
              {
                "id": "non_IMPORTANT_products_Software-36",
                "properties": {
                  "label": "(7) provide for mechanisms to securely distribute updates for products with digital elements to ensure that vulnerabilities are fixed or mitigated in a timely manner and, where applicable for security updates, in an automatic manner;",
                  "Article": "Annex I, Part 2 §7",
                  "ActorType": "non_IMPORTANT_products_Software"
                },
                "color": "#a876e8",
                "styles": {},
                "label": "(7) provide for mechanisms to securely distribute updates for products with digital elements to ensure that vulnerabilities are fixed or mitigated in a timely manner and, where applicable for security updates, in an automatic manner;",
                "scale_factor": 1,
                "type": "#a876e8",
                "size": [
                  55,
                  55
                ],
                "position": [
                  0,
                  0
                ]
              },
              {
                "id": "non_IMPORTANT_products_Software-37",
                "properties": {
                  "label": "(8) ensure that, where security updates are available to address identified security issues, they are disseminated without delay and, unless otherwise agreed between a manufacturer and a business user in relation to a tailor-made product with digital elements, free of charge, accompanied by advisory messages providing users with the relevant information, including on potential action to be taken.",
                  "Article": "Annex I, Part 2 §8",
                  "ActorType": "non_IMPORTANT_products_Software"
                },
                "color": "#a876e8",
                "styles": {},
                "label": "(8) ensure that, where security updates are available to address identified security issues, they are disseminated without delay and, unless otherwise agreed between a manufacturer and a business user in relation to a tailor-made product with digital elements, free of charge, accompanied by advisory messages providing users with the relevant information, including on potential action to be taken.",
                "scale_factor": 1,
                "type": "#a876e8",
                "size": [
                  55,
                  55
                ],
                "position": [
                  0,
                  0
                ]
              },
              {
                "id": "non_IMPORTANT_products_Software-46",
                "properties": {
                  "label": "At minimum, the product with digital elements shall be accompanied by:",
                  "Article": "Annex II",
                  "ActorType": "non_IMPORTANT_products_Software"
                },
                "color": "#a876e8",
                "styles": {},
                "label": "At minimum, the product with digital elements shall be accompanied by:",
                "scale_factor": 1,
                "type": "#a876e8",
                "size": [
                  55,
                  55
                ],
                "position": [
                  0,
                  0
                ]
              },
              {
                "id": "non_IMPORTANT_products_Software-47",
                "properties": {
                  "label": "1. the name, registered trade name or registered trademark of the manufacturer, and the postal address, the email address or other digital contact as well as, where available, the website at which the manufacturer can be contacted;",
                  "Article": "Annex II, §1",
                  "ActorType": "non_IMPORTANT_products_Software"
                },
                "color": "#a876e8",
                "styles": {},
                "label": "1. the name, registered trade name or registered trademark of the manufacturer, and the postal address, the email address or other digital contact as well as, where available, the website at which the manufacturer can be contacted;",
                "scale_factor": 1,
                "type": "#a876e8",
                "size": [
                  55,
                  55
                ],
                "position": [
                  0,
                  0
                ]
              },
              {
                "id": "non_IMPORTANT_products_Software-48",
                "properties": {
                  "label": "2. the single point of contact where information about vulnerabilities of the product with digital elements can be reported and received, and where the manufacturer’s policy on coordinated vulnerability disclosure can be found;",
                  "Article": "Annex II, §2",
                  "ActorType": "non_IMPORTANT_products_Software"
                },
                "color": "#a876e8",
                "styles": {},
                "label": "2. the single point of contact where information about vulnerabilities of the product with digital elements can be reported and received, and where the manufacturer’s policy on coordinated vulnerability disclosure can be found;",
                "scale_factor": 1,
                "type": "#a876e8",
                "size": [
                  55,
                  55
                ],
                "position": [
                  0,
                  0
                ]
              },
              {
                "id": "non_IMPORTANT_products_Software-49",
                "properties": {
                  "label": "3. name and type and any additional information enabling the unique identification of the product with digital elements;",
                  "Article": "Annex II, §3",
                  "ActorType": "non_IMPORTANT_products_Software"
                },
                "color": "#a876e8",
                "styles": {},
                "label": "3. name and type and any additional information enabling the unique identification of the product with digital elements;",
                "scale_factor": 1,
                "type": "#a876e8",
                "size": [
                  55,
                  55
                ],
                "position": [
                  0,
                  0
                ]
              },
              {
                "id": "non_IMPORTANT_products_Software-50",
                "properties": {
                  "label": "4. the intended purpose of the product with digital elements, including the security environment provided by the manufacturer, as well as the product’s essential functionalities and information about the security properties;",
                  "Article": "Annex II, §4",
                  "ActorType": "non_IMPORTANT_products_Software"
                },
                "color": "#a876e8",
                "styles": {},
                "label": "4. the intended purpose of the product with digital elements, including the security environment provided by the manufacturer, as well as the product’s essential functionalities and information about the security properties;",
                "scale_factor": 1,
                "type": "#a876e8",
                "size": [
                  55,
                  55
                ],
                "position": [
                  0,
                  0
                ]
              },
              {
                "id": "non_IMPORTANT_products_Software-51",
                "properties": {
                  "label": "5. any known or foreseeable circumstance, related to the use of the product with digital elements in accordance with its intended purpose or under conditions of reasonably foreseeable misuse, which may lead to significant cybersecurity risks;",
                  "Article": "Annex II, §5",
                  "ActorType": "non_IMPORTANT_products_Software"
                },
                "color": "#a876e8",
                "styles": {},
                "label": "5. any known or foreseeable circumstance, related to the use of the product with digital elements in accordance with its intended purpose or under conditions of reasonably foreseeable misuse, which may lead to significant cybersecurity risks;",
                "scale_factor": 1,
                "type": "#a876e8",
                "size": [
                  55,
                  55
                ],
                "position": [
                  0,
                  0
                ]
              },
              {
                "id": "non_IMPORTANT_products_Software-52",
                "properties": {
                  "label": "6. where applicable, the internet address at which the EU declaration of conformity can be accessed;",
                  "Article": "Annex II, §6",
                  "ActorType": "non_IMPORTANT_products_Software"
                },
                "color": "#a876e8",
                "styles": {},
                "label": "6. where applicable, the internet address at which the EU declaration of conformity can be accessed;",
                "scale_factor": 1,
                "type": "#a876e8",
                "size": [
                  55,
                  55
                ],
                "position": [
                  0,
                  0
                ]
              },
              {
                "id": "non_IMPORTANT_products_Software-53",
                "properties": {
                  "label": "7. the type of technical security support offered by the manufacturer and the end-date of the support period during which users can expect vulnerabilities to be handled and to receive security updates;",
                  "Article": "Annex VI, §7",
                  "ActorType": "non_IMPORTANT_products_Software"
                },
                "color": "#a876e8",
                "styles": {},
                "label": "7. the type of technical security support offered by the manufacturer and the end-date of the support period during which users can expect vulnerabilities to be handled and to receive security updates;",
                "scale_factor": 1,
                "type": "#a876e8",
                "size": [
                  55,
                  55
                ],
                "position": [
                  0,
                  0
                ]
              },
              {
                "id": "non_IMPORTANT_products_Software-54",
                "properties": {
                  "label": "8. detailed instructions or an internet address referring to such detailed instructions and information on:",
                  "Article": "Annex II, §8",
                  "ActorType": "non_IMPORTANT_products_Software"
                },
                "color": "#a876e8",
                "styles": {},
                "label": "8. detailed instructions or an internet address referring to such detailed instructions and information on:",
                "scale_factor": 1,
                "type": "#a876e8",
                "size": [
                  55,
                  55
                ],
                "position": [
                  0,
                  0
                ]
              },
              {
                "id": "non_IMPORTANT_products_Software-55",
                "properties": {
                  "label": "(a) the necessary measures during initial commissioning and throughout the lifetime of the product with digital elements to ensure its secure use;",
                  "Article": "Annex II, §8 (a)",
                  "ActorType": "non_IMPORTANT_products_Software"
                },
                "color": "#a876e8",
                "styles": {},
                "label": "(a) the necessary measures during initial commissioning and throughout the lifetime of the product with digital elements to ensure its secure use;",
                "scale_factor": 1,
                "type": "#a876e8",
                "size": [
                  55,
                  55
                ],
                "position": [
                  0,
                  0
                ]
              },
              {
                "id": "non_IMPORTANT_products_Software-56",
                "properties": {
                  "label": "(b) how changes to the product with digital elements can affect the security of data;",
                  "Article": "Annex II, §8 (b)",
                  "ActorType": "non_IMPORTANT_products_Software"
                },
                "color": "#a876e8",
                "styles": {},
                "label": "(b) how changes to the product with digital elements can affect the security of data;",
                "scale_factor": 1,
                "type": "#a876e8",
                "size": [
                  55,
                  55
                ],
                "position": [
                  0,
                  0
                ]
              },
              {
                "id": "non_IMPORTANT_products_Software-57",
                "properties": {
                  "label": "(c) how security-relevant updates can be installed;",
                  "Article": "Annex II, §8 (c)",
                  "ActorType": "non_IMPORTANT_products_Software"
                },
                "color": "#a876e8",
                "styles": {},
                "label": "(c) how security-relevant updates can be installed;",
                "scale_factor": 1,
                "type": "#a876e8",
                "size": [
                  55,
                  55
                ],
                "position": [
                  0,
                  0
                ]
              },
              {
                "id": "non_IMPORTANT_products_Software-58",
                "properties": {
                  "label": "(d) the secure decommissioning of the product with digital elements, including information on how user data can be securely removed;",
                  "Article": "Annex II, §8 (d)",
                  "ActorType": "non_IMPORTANT_products_Software"
                },
                "color": "#a876e8",
                "styles": {},
                "label": "(d) the secure decommissioning of the product with digital elements, including information on how user data can be securely removed;",
                "scale_factor": 1,
                "type": "#a876e8",
                "size": [
                  55,
                  55
                ],
                "position": [
                  0,
                  0
                ]
              },
              {
                "id": "non_IMPORTANT_products_Software-59",
                "properties": {
                  "label": "(e) how the default setting enabling the automatic installation of security updates, as required by Part I, point (2)(c), of Annex I, can be turned off;",
                  "Article": "Annex II, §8 (e)",
                  "ActorType": "non_IMPORTANT_products_Software"
                },
                "color": "#a876e8",
                "styles": {},
                "label": "(e) how the default setting enabling the automatic installation of security updates, as required by Part I, point (2)(c), of Annex I, can be turned off;",
                "scale_factor": 1,
                "type": "#a876e8",
                "size": [
                  55,
                  55
                ],
                "position": [
                  0,
                  0
                ]
              },
              {
                "id": "non_IMPORTANT_products_Software-60",
                "properties": {
                  "label": "(f) where the product with digital elements is intended for integration into other products with digital elements, the information necessary for the integrator to comply with the essential cybersecurity requirements set out in Annex I and the documentation requirements set out in Annex VII.",
                  "Article": "Annex II, §8 (f)",
                  "ActorType": "non_IMPORTANT_products_Software"
                },
                "color": "#a876e8",
                "styles": {},
                "label": "(f) where the product with digital elements is intended for integration into other products with digital elements, the information necessary for the integrator to comply with the essential cybersecurity requirements set out in Annex I and the documentation requirements set out in Annex VII.",
                "scale_factor": 1,
                "type": "#a876e8",
                "size": [
                  55,
                  55
                ],
                "position": [
                  0,
                  0
                ]
              },
              {
                "id": "non_IMPORTANT_products_Software-61",
                "properties": {
                  "label": "9. If the manufacturer decides to make available the software bill of materials to the user, information on where the software bill of materials can be accessed.",
                  "Article": "Annex II, §9",
                  "ActorType": "non_IMPORTANT_products_Software"
                },
                "color": "#a876e8",
                "styles": {},
                "label": "9. If the manufacturer decides to make available the software bill of materials to the user, information on where the software bill of materials can be accessed.",
                "scale_factor": 1,
                "type": "#a876e8",
                "size": [
                  55,
                  55
                ],
                "position": [
                  0,
                  0
                ]
              },
              {
                "id": "non_IMPORTANT_products_Software-62",
                "properties": {
                  "label": "The user information and instructions as set out in Annex II (detailed above), shall be included in the Technical Documentation.",
                  "Article": "Annex VII, §1 (d)",
                  "ActorType": "non_IMPORTANT_products_Software"
                },
                "color": "#a876e8",
                "styles": {},
                "label": "The user information and instructions as set out in Annex II (detailed above), shall be included in the Technical Documentation.",
                "scale_factor": 1,
                "type": "#a876e8",
                "size": [
                  55,
                  55
                ],
                "position": [
                  0,
                  0
                ]
              },
              {
                "id": "non_IMPORTANT_products_Software-70",
                "properties": {
                  "label": "The EU declaration of conformity referred to in Article 28, shall contain all of the following information:",
                  "Article": "Annex V",
                  "ActorType": "non_IMPORTANT_products_Software"
                },
                "color": "#a876e8",
                "styles": {},
                "label": "The EU declaration of conformity referred to in Article 28, shall contain all of the following information:",
                "scale_factor": 1,
                "type": "#a876e8",
                "size": [
                  55,
                  55
                ],
                "position": [
                  0,
                  0
                ]
              },
              {
                "id": "non_IMPORTANT_products_Software-71",
                "properties": {
                  "label": "(1) Name and type and any additional information enabling the unique identification of the product with digital elements",
                  "Article": "Annex V, §1",
                  "ActorType": "non_IMPORTANT_products_Software"
                },
                "color": "#a876e8",
                "styles": {},
                "label": "(1) Name and type and any additional information enabling the unique identification of the product with digital elements",
                "scale_factor": 1,
                "type": "#a876e8",
                "size": [
                  55,
                  55
                ],
                "position": [
                  0,
                  0
                ]
              },
              {
                "id": "non_IMPORTANT_products_Software-72",
                "properties": {
                  "label": "(2) Name and address of the manufacturer or its authorised representative",
                  "Article": "Annex V, §2",
                  "ActorType": "non_IMPORTANT_products_Software"
                },
                "color": "#a876e8",
                "styles": {},
                "label": "(2) Name and address of the manufacturer or its authorised representative",
                "scale_factor": 1,
                "type": "#a876e8",
                "size": [
                  55,
                  55
                ],
                "position": [
                  0,
                  0
                ]
              },
              {
                "id": "non_IMPORTANT_products_Software-73",
                "properties": {
                  "label": "(3) A statement that the EU declaration of conformity is issued under the sole responsibility of the provider",
                  "Article": "Annex V, §3",
                  "ActorType": "non_IMPORTANT_products_Software"
                },
                "color": "#a876e8",
                "styles": {},
                "label": "(3) A statement that the EU declaration of conformity is issued under the sole responsibility of the provider",
                "scale_factor": 1,
                "type": "#a876e8",
                "size": [
                  55,
                  55
                ],
                "position": [
                  0,
                  0
                ]
              },
              {
                "id": "non_IMPORTANT_products_Software-74",
                "properties": {
                  "label": "(4) Object of the declaration (identification of the product with digital elements allowing traceability, which may include a photograph, where appropriate)",
                  "Article": "Annex V, §4",
                  "ActorType": "non_IMPORTANT_products_Software"
                },
                "color": "#a876e8",
                "styles": {},
                "label": "(4) Object of the declaration (identification of the product with digital elements allowing traceability, which may include a photograph, where appropriate)",
                "scale_factor": 1,
                "type": "#a876e8",
                "size": [
                  55,
                  55
                ],
                "position": [
                  0,
                  0
                ]
              },
              {
                "id": "non_IMPORTANT_products_Software-75",
                "properties": {
                  "label": "(5) A statement that the object of the declaration described above is in conformity with the relevant Union harmonisation legislation",
                  "Article": "Annex V, §5",
                  "ActorType": "non_IMPORTANT_products_Software"
                },
                "color": "#a876e8",
                "styles": {},
                "label": "(5) A statement that the object of the declaration described above is in conformity with the relevant Union harmonisation legislation",
                "scale_factor": 1,
                "type": "#a876e8",
                "size": [
                  55,
                  55
                ],
                "position": [
                  0,
                  0
                ]
              },
              {
                "id": "non_IMPORTANT_products_Software-76",
                "properties": {
                  "label": "(6) References to any relevant harmonised standards used or any other common specification or cybersecurity certification in relation to which conformity is declared",
                  "Article": "Annex V, §6",
                  "ActorType": "non_IMPORTANT_products_Software"
                },
                "color": "#a876e8",
                "styles": {},
                "label": "(6) References to any relevant harmonised standards used or any other common specification or cybersecurity certification in relation to which conformity is declared",
                "scale_factor": 1,
                "type": "#a876e8",
                "size": [
                  55,
                  55
                ],
                "position": [
                  0,
                  0
                ]
              },
              {
                "id": "non_IMPORTANT_products_Software-77",
                "properties": {
                  "label": "(7) Where applicable, the name and number of the notified body, a description of the conformity assessment procedure performed and identification of the certificate issued",
                  "Article": "Annex V, §7",
                  "ActorType": "non_IMPORTANT_products_Software"
                },
                "color": "#a876e8",
                "styles": {},
                "label": "(7) Where applicable, the name and number of the notified body, a description of the conformity assessment procedure performed and identification of the certificate issued",
                "scale_factor": 1,
                "type": "#a876e8",
                "size": [
                  55,
                  55
                ],
                "position": [
                  0,
                  0
                ]
              },
              {
                "id": "non_IMPORTANT_products_Software-78",
                "properties": {
                  "label": "(8) Additional information:\nSigned for and on behalf of:\n(place and date of issue):\n(name, function)\n(signature):",
                  "Article": "Annex V, §8",
                  "ActorType": "non_IMPORTANT_products_Software"
                },
                "color": "#a876e8",
                "styles": {},
                "label": "(8) Additional information:\nSigned for and on behalf of:\n(place and date of issue):\n(name, function)\n(signature):",
                "scale_factor": 1,
                "type": "#a876e8",
                "size": [
                  55,
                  55
                ],
                "position": [
                  0,
                  0
                ]
              },
              {
                "id": "non_IMPORTANT_products_Software-79",
                "properties": {
                  "label": "SIMPLIFIED EU DECLARATION OF CONFORMITY",
                  "Article": "Annex VI",
                  "ActorType": "non_IMPORTANT_products_Software"
                },
                "color": "#a876e8",
                "styles": {},
                "label": "SIMPLIFIED EU DECLARATION OF CONFORMITY",
                "scale_factor": 1,
                "type": "#a876e8",
                "size": [
                  55,
                  55
                ],
                "position": [
                  0,
                  0
                ]
              },
              {
                "id": "non_IMPORTANT_products_Software-80",
                "properties": {
                  "label": "The simplified EU declaration of conformity referred to in shall be provided as follows: Hereby, ... [name of manufacturer] declares that the product with digital elements type ... [designation of type of product with digital element] is in compliance with Regulation (EU) 2024/…+ . The full text of the EU declaration of conformity is available at the following internet address: …",
                  "Article": "Annex VI",
                  "ActorType": "non_IMPORTANT_products_Software"
                },
                "color": "#a876e8",
                "styles": {},
                "label": "The simplified EU declaration of conformity referred to in shall be provided as follows: Hereby, ... [name of manufacturer] declares that the product with digital elements type ... [designation of type of product with digital element] is in compliance with Regulation (EU) 2024/…+ . The full text of the EU declaration of conformity is available at the following internet address: …",
                "scale_factor": 1,
                "type": "#a876e8",
                "size": [
                  55,
                  55
                ],
                "position": [
                  0,
                  0
                ]
              },
              {
                "id": "non_IMPORTANT_products_Software-81",
                "properties": {
                  "label": "The manufacturer shall draw up a written EU declaration of conformity for each product with digital elements in accordance with Article 28 and keep it together with the technical documentation at the disposal of the national authorities for 10 years after the product with digital elements has been placed on the market or for the support period, whichever is longer. The EU declaration of conformity shall identify the product with digital elements for which it has been drawn up. A copy of the EU declaration of conformity shall be made available to the relevant authorities upon request.",
                  "Article": "Annex VIII, Part I, §4.2",
                  "ActorType": "non_IMPORTANT_products_Software"
                },
                "color": "#a876e8",
                "styles": {},
                "label": "The manufacturer shall draw up a written EU declaration of conformity for each product with digital elements in accordance with Article 28 and keep it together with the technical documentation at the disposal of the national authorities for 10 years after the product with digital elements has been placed on the market or for the support period, whichever is longer. The EU declaration of conformity shall identify the product with digital elements for which it has been drawn up. A copy of the EU declaration of conformity shall be made available to the relevant authorities upon request.",
                "scale_factor": 1,
                "type": "#a876e8",
                "size": [
                  55,
                  55
                ],
                "position": [
                  0,
                  0
                ]
              },
              {
                "id": "non_IMPORTANT_products_Software-87",
                "properties": {
                  "label": "The technical documentation shall contain at least the following information, as applicable to the relevant product with digital elements:",
                  "Article": "Annex VII",
                  "ActorType": "non_IMPORTANT_products_Software"
                },
                "color": "#a876e8",
                "styles": {},
                "label": "The technical documentation shall contain at least the following information, as applicable to the relevant product with digital elements:",
                "scale_factor": 1,
                "type": "#a876e8",
                "size": [
                  55,
                  55
                ],
                "position": [
                  0,
                  0
                ]
              },
              {
                "id": "non_IMPORTANT_products_Software-88",
                "properties": {
                  "label": "1. a general description of the product with digital elements, including:",
                  "Article": "Annex VII, §1",
                  "ActorType": "non_IMPORTANT_products_Software"
                },
                "color": "#a876e8",
                "styles": {},
                "label": "1. a general description of the product with digital elements, including:",
                "scale_factor": 1,
                "type": "#a876e8",
                "size": [
                  55,
                  55
                ],
                "position": [
                  0,
                  0
                ]
              },
              {
                "id": "non_IMPORTANT_products_Software-89",
                "properties": {
                  "label": "(a) its intended purpose;",
                  "Article": "Annex VII, §1 (a)",
                  "ActorType": "non_IMPORTANT_products_Software"
                },
                "color": "#a876e8",
                "styles": {},
                "label": "(a) its intended purpose;",
                "scale_factor": 1,
                "type": "#a876e8",
                "size": [
                  55,
                  55
                ],
                "position": [
                  0,
                  0
                ]
              },
              {
                "id": "non_IMPORTANT_products_Software-90",
                "properties": {
                  "label": "(b) versions of software affecting compliance with essential cybersecurity requirements;",
                  "Article": "Annex VII, §1 (b)",
                  "ActorType": "non_IMPORTANT_products_Software"
                },
                "color": "#a876e8",
                "styles": {},
                "label": "(b) versions of software affecting compliance with essential cybersecurity requirements;",
                "scale_factor": 1,
                "type": "#a876e8",
                "size": [
                  55,
                  55
                ],
                "position": [
                  0,
                  0
                ]
              },
              {
                "id": "non_IMPORTANT_products_Software-91",
                "properties": {
                  "label": "(c) where the product with digital elements is a hardware product, photographs or illustrations showing external features, marking and internal layout;",
                  "Article": "Annex VII, §1 (c)",
                  "ActorType": "non_IMPORTANT_products_Software"
                },
                "color": "#a876e8",
                "styles": {},
                "label": "(c) where the product with digital elements is a hardware product, photographs or illustrations showing external features, marking and internal layout;",
                "scale_factor": 1,
                "type": "#a876e8",
                "size": [
                  55,
                  55
                ],
                "position": [
                  0,
                  0
                ]
              },
              {
                "id": "non_IMPORTANT_products_Software-92",
                "properties": {
                  "label": "(d) user information and instructions as set out in Annex II;",
                  "Article": "Annex VII, §1 (d)",
                  "ActorType": "non_IMPORTANT_products_Software"
                },
                "color": "#a876e8",
                "styles": {},
                "label": "(d) user information and instructions as set out in Annex II;",
                "scale_factor": 1,
                "type": "#a876e8",
                "size": [
                  55,
                  55
                ],
                "position": [
                  0,
                  0
                ]
              },
              {
                "id": "non_IMPORTANT_products_Software-93",
                "properties": {
                  "label": "2. a description of the design, development and production of the product with digital elements and vulnerability handling processes, including:",
                  "Article": "Annex VII, §2",
                  "ActorType": "non_IMPORTANT_products_Software"
                },
                "color": "#a876e8",
                "styles": {},
                "label": "2. a description of the design, development and production of the product with digital elements and vulnerability handling processes, including:",
                "scale_factor": 1,
                "type": "#a876e8",
                "size": [
                  55,
                  55
                ],
                "position": [
                  0,
                  0
                ]
              },
              {
                "id": "non_IMPORTANT_products_Software-94",
                "properties": {
                  "label": "(a) necessary information on the design and development of the product with digital elements, including, where applicable, drawings and schemes and a description of the system architecture explaining how software components build on or feed into each other and integrate into the overall processing;",
                  "Article": "Annex VII, §2 (a)",
                  "ActorType": "non_IMPORTANT_products_Software"
                },
                "color": "#a876e8",
                "styles": {},
                "label": "(a) necessary information on the design and development of the product with digital elements, including, where applicable, drawings and schemes and a description of the system architecture explaining how software components build on or feed into each other and integrate into the overall processing;",
                "scale_factor": 1,
                "type": "#a876e8",
                "size": [
                  55,
                  55
                ],
                "position": [
                  0,
                  0
                ]
              },
              {
                "id": "non_IMPORTANT_products_Software-95",
                "properties": {
                  "label": "(b) necessary information and specifications of the vulnerability handling processes put in place by the manufacturer, including the software bill of materials, the coordinated vulnerability disclosure policy, evidence of the provision of a contact address for the reporting of the vulnerabilities and a description of the technical solutions chosen for the secure distribution of updates;",
                  "Article": "Annex VII, §2 (b)",
                  "ActorType": "non_IMPORTANT_products_Software"
                },
                "color": "#a876e8",
                "styles": {},
                "label": "(b) necessary information and specifications of the vulnerability handling processes put in place by the manufacturer, including the software bill of materials, the coordinated vulnerability disclosure policy, evidence of the provision of a contact address for the reporting of the vulnerabilities and a description of the technical solutions chosen for the secure distribution of updates;",
                "scale_factor": 1,
                "type": "#a876e8",
                "size": [
                  55,
                  55
                ],
                "position": [
                  0,
                  0
                ]
              },
              {
                "id": "non_IMPORTANT_products_Software-96",
                "properties": {
                  "label": "(c) necessary information and specifications of the production and monitoring processes of the product with digital elements and the validation of those processes;",
                  "Article": "Annex VII, §2 (c)",
                  "ActorType": "non_IMPORTANT_products_Software"
                },
                "color": "#a876e8",
                "styles": {},
                "label": "(c) necessary information and specifications of the production and monitoring processes of the product with digital elements and the validation of those processes;",
                "scale_factor": 1,
                "type": "#a876e8",
                "size": [
                  55,
                  55
                ],
                "position": [
                  0,
                  0
                ]
              },
              {
                "id": "non_IMPORTANT_products_Software-97",
                "properties": {
                  "label": "3. an assessment of the cybersecurity risks against which the product with digital elements is designed, developed, produced, delivered and maintained pursuant to Article 13, including how the essential cybersecurity requirements set out in Part I of Annex I are applicable;",
                  "Article": "Annex VII, §3",
                  "ActorType": "non_IMPORTANT_products_Software"
                },
                "color": "#a876e8",
                "styles": {},
                "label": "3. an assessment of the cybersecurity risks against which the product with digital elements is designed, developed, produced, delivered and maintained pursuant to Article 13, including how the essential cybersecurity requirements set out in Part I of Annex I are applicable;",
                "scale_factor": 1,
                "type": "#a876e8",
                "size": [
                  55,
                  55
                ],
                "position": [
                  0,
                  0
                ]
              },
              {
                "id": "non_IMPORTANT_products_Software-98",
                "properties": {
                  "label": "4. relevant information that was taken into account to determine the support period pursuant to Article 13(8) of the product with digital elements;",
                  "Article": "Annex VII, §4",
                  "ActorType": "non_IMPORTANT_products_Software"
                },
                "color": "#a876e8",
                "styles": {},
                "label": "4. relevant information that was taken into account to determine the support period pursuant to Article 13(8) of the product with digital elements;",
                "scale_factor": 1,
                "type": "#a876e8",
                "size": [
                  55,
                  55
                ],
                "position": [
                  0,
                  0
                ]
              },
              {
                "id": "non_IMPORTANT_products_Software-99",
                "properties": {
                  "label": "5. a list of the harmonised standards applied in full or in part the references of which have been published in the Official Journal of the European Union, common specifications as set out in Article 27 of this Regulation or European cybersecurity certification schemes adopted pursuant to Regulation (EU) 2019/881 pursuant to Article 27(8) of this Regulation, and, where those harmonised standards, common specifications or European cybersecurity certification schemes have not been applied, descriptions of the solutions adopted to meet the essential cybersecurity requirements set out in Parts I and II of Annex I, including a list of other relevant technical specifications applied. In the event of partly applied harmonised standards, common specifications or European cybersecurity certification schemes, the technical documentation shall specify the parts which have been applied;",
                  "Article": "Annex VII, §5",
                  "ActorType": "non_IMPORTANT_products_Software"
                },
                "color": "#a876e8",
                "styles": {},
                "label": "5. a list of the harmonised standards applied in full or in part the references of which have been published in the Official Journal of the European Union, common specifications as set out in Article 27 of this Regulation or European cybersecurity certification schemes adopted pursuant to Regulation (EU) 2019/881 pursuant to Article 27(8) of this Regulation, and, where those harmonised standards, common specifications or European cybersecurity certification schemes have not been applied, descriptions of the solutions adopted to meet the essential cybersecurity requirements set out in Parts I and II of Annex I, including a list of other relevant technical specifications applied. In the event of partly applied harmonised standards, common specifications or European cybersecurity certification schemes, the technical documentation shall specify the parts which have been applied;",
                "scale_factor": 1,
                "type": "#a876e8",
                "size": [
                  55,
                  55
                ],
                "position": [
                  0,
                  0
                ]
              },
              {
                "id": "non_IMPORTANT_products_Software-100",
                "properties": {
                  "label": "6. reports of the tests carried out to verify the conformity of the product with digital elements and of the vulnerability handling processes with the applicable essential cybersecurity requirements as set out in Parts I and II of Annex I;",
                  "Article": "Annex VII, §6",
                  "ActorType": "non_IMPORTANT_products_Software"
                },
                "color": "#a876e8",
                "styles": {},
                "label": "6. reports of the tests carried out to verify the conformity of the product with digital elements and of the vulnerability handling processes with the applicable essential cybersecurity requirements as set out in Parts I and II of Annex I;",
                "scale_factor": 1,
                "type": "#a876e8",
                "size": [
                  55,
                  55
                ],
                "position": [
                  0,
                  0
                ]
              },
              {
                "id": "non_IMPORTANT_products_Software-101",
                "properties": {
                  "label": "7. a copy of the EU declaration of conformity;",
                  "Article": "Annex VII, §7",
                  "ActorType": "non_IMPORTANT_products_Software"
                },
                "color": "#a876e8",
                "styles": {},
                "label": "7. a copy of the EU declaration of conformity;",
                "scale_factor": 1,
                "type": "#a876e8",
                "size": [
                  55,
                  55
                ],
                "position": [
                  0,
                  0
                ]
              },
              {
                "id": "non_IMPORTANT_products_Software-102",
                "properties": {
                  "label": "8. where applicable, the software bill of materials, further to a reasoned request from a market surveillance authority provided that it is necessary in order for that authority to be able to check compliance with the essential cybersecurity requirements set out in Annex I.",
                  "Article": "Annex VII, §8",
                  "ActorType": "non_IMPORTANT_products_Software"
                },
                "color": "#a876e8",
                "styles": {},
                "label": "8. where applicable, the software bill of materials, further to a reasoned request from a market surveillance authority provided that it is necessary in order for that authority to be able to check compliance with the essential cybersecurity requirements set out in Annex I.",
                "scale_factor": 1,
                "type": "#a876e8",
                "size": [
                  55,
                  55
                ],
                "position": [
                  0,
                  0
                ]
              },
              {
                "id": "non_IMPORTANT_products_Software-109",
                "properties": {
                  "label": "A manufacturer shall notify any actively exploited vulnerability contained in the product with digital elements that it becomes aware of simultaneously to the CSIRT designated as coordinator and to ENISA. The manufacturer shall notify that actively exploited vulnerability via the single reporting platform established pursuant to Article 16.",
                  "Article": "Article 14(1) and 14(7)",
                  "ActorType": "non_IMPORTANT_products_Software"
                },
                "color": "#a876e8",
                "styles": {},
                "label": "A manufacturer shall notify any actively exploited vulnerability contained in the product with digital elements that it becomes aware of simultaneously to the CSIRT designated as coordinator and to ENISA. The manufacturer shall notify that actively exploited vulnerability via the single reporting platform established pursuant to Article 16.",
                "scale_factor": 1,
                "type": "#a876e8",
                "size": [
                  55,
                  55
                ],
                "position": [
                  0,
                  0
                ]
              },
              {
                "id": "non_IMPORTANT_products_Software-110",
                "properties": {
                  "label": "For the purposes of the notification referred to in paragraph 1, the manufacturer shall submit:",
                  "Article": "Article 14 (2)",
                  "ActorType": "non_IMPORTANT_products_Software"
                },
                "color": "#a876e8",
                "styles": {},
                "label": "For the purposes of the notification referred to in paragraph 1, the manufacturer shall submit:",
                "scale_factor": 1,
                "type": "#a876e8",
                "size": [
                  55,
                  55
                ],
                "position": [
                  0,
                  0
                ]
              },
              {
                "id": "non_IMPORTANT_products_Software-111",
                "properties": {
                  "label": "(a) an early warning notification of an actively exploited vulnerability, without undue delay and in any event within 24 hours of the manufacturer becoming aware of it, indicating, where applicable, the Member States on the territory of which the manufacturer is aware that their product with digital elements has been made available;",
                  "Article": "Article 14 (2) (a)",
                  "ActorType": "non_IMPORTANT_products_Software"
                },
                "color": "#a876e8",
                "styles": {},
                "label": "(a) an early warning notification of an actively exploited vulnerability, without undue delay and in any event within 24 hours of the manufacturer becoming aware of it, indicating, where applicable, the Member States on the territory of which the manufacturer is aware that their product with digital elements has been made available;",
                "scale_factor": 1,
                "type": "#a876e8",
                "size": [
                  55,
                  55
                ],
                "position": [
                  0,
                  0
                ]
              },
              {
                "id": "non_IMPORTANT_products_Software-112",
                "properties": {
                  "label": "(b) unless the relevant information has already been provided, a vulnerability notification, without undue delay and in any event within 72 hours of the manufacturer becoming aware of the actively exploited vulnerability, which shall provide general information, as available, about the product with digital elements concerned, the general nature of the exploit and of the vulnerability concerned as well as any corrective or mitigating measures taken, and corrective or mitigating measures that users can take, and which shall also indicate, where applicable, how sensitive the manufacturer considers the notified information to be;",
                  "Article": "Article 14 (2) (b)",
                  "ActorType": "non_IMPORTANT_products_Software"
                },
                "color": "#a876e8",
                "styles": {},
                "label": "(b) unless the relevant information has already been provided, a vulnerability notification, without undue delay and in any event within 72 hours of the manufacturer becoming aware of the actively exploited vulnerability, which shall provide general information, as available, about the product with digital elements concerned, the general nature of the exploit and of the vulnerability concerned as well as any corrective or mitigating measures taken, and corrective or mitigating measures that users can take, and which shall also indicate, where applicable, how sensitive the manufacturer considers the notified information to be;",
                "scale_factor": 1,
                "type": "#a876e8",
                "size": [
                  55,
                  55
                ],
                "position": [
                  0,
                  0
                ]
              },
              {
                "id": "non_IMPORTANT_products_Software-113",
                "properties": {
                  "label": "(c) unless the relevant information has already been provided, a final report, no later than 14 days after a corrective or mitigating measure is available, including at least the following:",
                  "Article": "Article 14 (2) (c)",
                  "ActorType": "non_IMPORTANT_products_Software"
                },
                "color": "#a876e8",
                "styles": {},
                "label": "(c) unless the relevant information has already been provided, a final report, no later than 14 days after a corrective or mitigating measure is available, including at least the following:",
                "scale_factor": 1,
                "type": "#a876e8",
                "size": [
                  55,
                  55
                ],
                "position": [
                  0,
                  0
                ]
              },
              {
                "id": "non_IMPORTANT_products_Software-114",
                "properties": {
                  "label": "(i) a description of the vulnerability, including its severity and impact;",
                  "Article": "Article 14 (2) (c) (i)",
                  "ActorType": "non_IMPORTANT_products_Software"
                },
                "color": "#a876e8",
                "styles": {},
                "label": "(i) a description of the vulnerability, including its severity and impact;",
                "scale_factor": 1,
                "type": "#a876e8",
                "size": [
                  55,
                  55
                ],
                "position": [
                  0,
                  0
                ]
              },
              {
                "id": "non_IMPORTANT_products_Software-115",
                "properties": {
                  "label": "(ii) where available, information concerning any malicious actor that has exploited or that is exploiting the vulnerability;",
                  "Article": "Article 14 (2) (c) (ii)",
                  "ActorType": "non_IMPORTANT_products_Software"
                },
                "color": "#a876e8",
                "styles": {},
                "label": "(ii) where available, information concerning any malicious actor that has exploited or that is exploiting the vulnerability;",
                "scale_factor": 1,
                "type": "#a876e8",
                "size": [
                  55,
                  55
                ],
                "position": [
                  0,
                  0
                ]
              },
              {
                "id": "non_IMPORTANT_products_Software-116",
                "properties": {
                  "label": "(iii) details about the security update or other corrective measures that have been made available to remedy the vulnerability.",
                  "Article": "Article 14 (2) (c) (iII)",
                  "ActorType": "non_IMPORTANT_products_Software"
                },
                "color": "#a876e8",
                "styles": {},
                "label": "(iii) details about the security update or other corrective measures that have been made available to remedy the vulnerability.",
                "scale_factor": 1,
                "type": "#a876e8",
                "size": [
                  55,
                  55
                ],
                "position": [
                  0,
                  0
                ]
              },
              {
                "id": "non_IMPORTANT_products_Software-117",
                "properties": {
                  "label": "A manufacturer shall notify any severe incident having an impact on the security of the product with digital elements that it becomes aware of simultaneously to the CSIRT designated as coordinator, in accordance with paragraph 7 of this Article, and to ENISA. The manufacturer shall notify that incident via the single reporting platform",
                  "Article": "Article 14 (3)",
                  "ActorType": "non_IMPORTANT_products_Software"
                },
                "color": "#a876e8",
                "styles": {},
                "label": "A manufacturer shall notify any severe incident having an impact on the security of the product with digital elements that it becomes aware of simultaneously to the CSIRT designated as coordinator, in accordance with paragraph 7 of this Article, and to ENISA. The manufacturer shall notify that incident via the single reporting platform",
                "scale_factor": 1,
                "type": "#a876e8",
                "size": [
                  55,
                  55
                ],
                "position": [
                  0,
                  0
                ]
              },
              {
                "id": "non_IMPORTANT_products_Software-118",
                "properties": {
                  "label": "For the purposes of the notification referred to in paragraph 3, the manufacturer shall submit:",
                  "Article": "Article 14 (4)",
                  "ActorType": "non_IMPORTANT_products_Software"
                },
                "color": "#a876e8",
                "styles": {},
                "label": "For the purposes of the notification referred to in paragraph 3, the manufacturer shall submit:",
                "scale_factor": 1,
                "type": "#a876e8",
                "size": [
                  55,
                  55
                ],
                "position": [
                  0,
                  0
                ]
              },
              {
                "id": "non_IMPORTANT_products_Software-119",
                "properties": {
                  "label": "(a) an early warning notification of a severe incident having an impact on the security of the product with digital elements, without undue delay and in any event within 24 hours of the manufacturer becoming aware of it, including at least whether the incident is suspected of being caused by unlawful or malicious acts, which shall also indicate, where applicable, the Member States on the territory of which the manufacturer is aware that their product with digital elements has been made available;",
                  "Article": "Article 14 (4) (a)",
                  "ActorType": "non_IMPORTANT_products_Software"
                },
                "color": "#a876e8",
                "styles": {},
                "label": "(a) an early warning notification of a severe incident having an impact on the security of the product with digital elements, without undue delay and in any event within 24 hours of the manufacturer becoming aware of it, including at least whether the incident is suspected of being caused by unlawful or malicious acts, which shall also indicate, where applicable, the Member States on the territory of which the manufacturer is aware that their product with digital elements has been made available;",
                "scale_factor": 1,
                "type": "#a876e8",
                "size": [
                  55,
                  55
                ],
                "position": [
                  0,
                  0
                ]
              },
              {
                "id": "non_IMPORTANT_products_Software-120",
                "properties": {
                  "label": "(b) unless the relevant information has already been provided, an incident notification, without undue delay and in any event within 72 hours of the manufacturer becoming aware of the incident, which shall provide general information, where available, about the nature of the incident, an initial assessment of the incident, as well as any corrective or mitigating measures taken, and corrective or mitigating measures that users can take, and which shall also indicate, where applicable, how sensitive the manufacturer considers the notified information to be;",
                  "Article": "Article 14 (4) (b)",
                  "ActorType": "non_IMPORTANT_products_Software"
                },
                "color": "#a876e8",
                "styles": {},
                "label": "(b) unless the relevant information has already been provided, an incident notification, without undue delay and in any event within 72 hours of the manufacturer becoming aware of the incident, which shall provide general information, where available, about the nature of the incident, an initial assessment of the incident, as well as any corrective or mitigating measures taken, and corrective or mitigating measures that users can take, and which shall also indicate, where applicable, how sensitive the manufacturer considers the notified information to be;",
                "scale_factor": 1,
                "type": "#a876e8",
                "size": [
                  55,
                  55
                ],
                "position": [
                  0,
                  0
                ]
              },
              {
                "id": "non_IMPORTANT_products_Software-121",
                "properties": {
                  "label": "(c) unless the relevant information has already been provided, a final report, within one month after the submission of the incident notification under point (b), including at least the following:",
                  "Article": "Article 14 (4) (c)",
                  "ActorType": "non_IMPORTANT_products_Software"
                },
                "color": "#a876e8",
                "styles": {},
                "label": "(c) unless the relevant information has already been provided, a final report, within one month after the submission of the incident notification under point (b), including at least the following:",
                "scale_factor": 1,
                "type": "#a876e8",
                "size": [
                  55,
                  55
                ],
                "position": [
                  0,
                  0
                ]
              },
              {
                "id": "non_IMPORTANT_products_Software-122",
                "properties": {
                  "label": "(i) a detailed description of the incident, including its severity and impact;",
                  "Article": "Article 14 (4) (c) (i)",
                  "ActorType": "non_IMPORTANT_products_Software"
                },
                "color": "#a876e8",
                "styles": {},
                "label": "(i) a detailed description of the incident, including its severity and impact;",
                "scale_factor": 1,
                "type": "#a876e8",
                "size": [
                  55,
                  55
                ],
                "position": [
                  0,
                  0
                ]
              },
              {
                "id": "non_IMPORTANT_products_Software-123",
                "properties": {
                  "label": "(ii) the type of threat or root cause that is likely to have triggered the incident;",
                  "Article": "Article 14 (4) (c) (ii)",
                  "ActorType": "non_IMPORTANT_products_Software"
                },
                "color": "#a876e8",
                "styles": {},
                "label": "(ii) the type of threat or root cause that is likely to have triggered the incident;",
                "scale_factor": 1,
                "type": "#a876e8",
                "size": [
                  55,
                  55
                ],
                "position": [
                  0,
                  0
                ]
              },
              {
                "id": "non_IMPORTANT_products_Software-124",
                "properties": {
                  "label": "(iii) applied and ongoing mitigation measures.",
                  "Article": "Article 14 (4) (c) (iii)",
                  "ActorType": "non_IMPORTANT_products_Software"
                },
                "color": "#a876e8",
                "styles": {},
                "label": "(iii) applied and ongoing mitigation measures.",
                "scale_factor": 1,
                "type": "#a876e8",
                "size": [
                  55,
                  55
                ],
                "position": [
                  0,
                  0
                ]
              },
              {
                "id": "non_IMPORTANT_products_Software-125",
                "properties": {
                  "label": "After becoming aware of an actively exploited vulnerability or a severe incident having an impact on the security of the product with digital elements, the manufacturer shall inform the impacted users of the product with digital elements, and where appropriate all users, of that vulnerability or incident and, where necessary, of any risk mitigation and corrective measures that the users can deploy to mitigate the impact of that vulnerability or incident, where appropriate in a structured, machine-readable format that is easily automatically processable. Where the manufacturer fails to inform the users of the product with digital elements in a timely manner, the notified CSIRTs designated as coordinators may provide such information to the users when considered to be proportionate and necessary for preventing or mitigating the impact of that vulnerability or incident.",
                  "Article": "Article 14 (8)",
                  "ActorType": "non_IMPORTANT_products_Software"
                },
                "color": "#a876e8",
                "styles": {},
                "label": "After becoming aware of an actively exploited vulnerability or a severe incident having an impact on the security of the product with digital elements, the manufacturer shall inform the impacted users of the product with digital elements, and where appropriate all users, of that vulnerability or incident and, where necessary, of any risk mitigation and corrective measures that the users can deploy to mitigate the impact of that vulnerability or incident, where appropriate in a structured, machine-readable format that is easily automatically processable. Where the manufacturer fails to inform the users of the product with digital elements in a timely manner, the notified CSIRTs designated as coordinators may provide such information to the users when considered to be proportionate and necessary for preventing or mitigating the impact of that vulnerability or incident.",
                "scale_factor": 1,
                "type": "#a876e8",
                "size": [
                  55,
                  55
                ],
                "position": [
                  0,
                  0
                ]
              },
              {
                "id": "non_IMPORTANT_products_Software-126",
                "properties": {
                  "label": "Manufacturers as well as other natural or legal persons may notify any vulnerability contained in a product with digital elements as well as cyber threats that could affect the risk profile of a product with digital elements on a voluntary basis to a CSIRT designated as coordinator or ENISA.",
                  "Article": "Article 15 (1)",
                  "ActorType": "non_IMPORTANT_products_Software"
                },
                "color": "#a876e8",
                "styles": {},
                "label": "Manufacturers as well as other natural or legal persons may notify any vulnerability contained in a product with digital elements as well as cyber threats that could affect the risk profile of a product with digital elements on a voluntary basis to a CSIRT designated as coordinator or ENISA.",
                "scale_factor": 1,
                "type": "#a876e8",
                "size": [
                  55,
                  55
                ],
                "position": [
                  0,
                  0
                ]
              },
              {
                "id": "non_IMPORTANT_products_Software-127",
                "properties": {
                  "label": "Manufacturers as well as other natural or legal persons may notify any incident having an impact on the security of the product with digital elements as well as near misses that could have resulted in such an incident on a voluntary basis to a CSIRT designated as coordinator or ENISA.",
                  "Article": "Article 15 (2)",
                  "ActorType": "non_IMPORTANT_products_Software"
                },
                "color": "#a876e8",
                "styles": {},
                "label": "Manufacturers as well as other natural or legal persons may notify any incident having an impact on the security of the product with digital elements as well as near misses that could have resulted in such an incident on a voluntary basis to a CSIRT designated as coordinator or ENISA.",
                "scale_factor": 1,
                "type": "#a876e8",
                "size": [
                  55,
                  55
                ],
                "position": [
                  0,
                  0
                ]
              },
              {
                "id": "Developers_Open_Source-2",
                "properties": {
                  "label": "Open-source software stewards shall put in place and document in a verifiable manner a cybersecurity policy to foster the development of a secure product with digital elements as well as an effective handling of vulnerabilities by the developers of that product. That policy shall also foster the voluntary reporting of vulnerabilities as laid down in Article 15 by the developers of that product and take into account the specific nature of the open- source software steward and the legal and organisational arrangements to which it is subject. That policy shall, in particular, include aspects related to documenting, addressing and remediating vulnerabilities and promote the sharing of information concerning discovered vulnerabilities within the open-source community",
                  "Article": "Article 24 §1",
                  "ActorType": "Developers_Open_Source"
                },
                "color": "#76e8e3",
                "styles": {},
                "label": "Open-source software stewards shall put in place and document in a verifiable manner a cybersecurity policy to foster the development of a secure product with digital elements as well as an effective handling of vulnerabilities by the developers of that product. That policy shall also foster the voluntary reporting of vulnerabilities as laid down in Article 15 by the developers of that product and take into account the specific nature of the open- source software steward and the legal and organisational arrangements to which it is subject. That policy shall, in particular, include aspects related to documenting, addressing and remediating vulnerabilities and promote the sharing of information concerning discovered vulnerabilities within the open-source community",
                "scale_factor": 1,
                "type": "#76e8e3",
                "size": [
                  55,
                  55
                ],
                "position": [
                  0,
                  0
                ]
              },
              {
                "id": "Developers_Open_Source-3",
                "properties": {
                  "label": "Open-source software stewards shall cooperate with the market surveillance authorities, at their request, with a view to mitigating the cybersecurity risks posed by a product with digital elements qualifying as free and open-source software. Further to a reasoned request from a market surveillance authority, open-source software stewards shall provide that authority, in a language which can be easily understood by that authority, with the documentation referred to in paragraph 1, in paper or electronic form.",
                  "Article": "Article 24 §2",
                  "ActorType": "Developers_Open_Source"
                },
                "color": "#76e8e3",
                "styles": {},
                "label": "Open-source software stewards shall cooperate with the market surveillance authorities, at their request, with a view to mitigating the cybersecurity risks posed by a product with digital elements qualifying as free and open-source software. Further to a reasoned request from a market surveillance authority, open-source software stewards shall provide that authority, in a language which can be easily understood by that authority, with the documentation referred to in paragraph 1, in paper or electronic form.",
                "scale_factor": 1,
                "type": "#76e8e3",
                "size": [
                  55,
                  55
                ],
                "position": [
                  0,
                  0
                ]
              },
              {
                "id": "Developers_Open_Source-11",
                "properties": {
                  "label": "In order to facilitate the due diligence obligation set out in Article 13(5), in particular as regards manufacturers that integrate free and open-source software components in their products with digital elements, the Commission is empowered to adopt delegated acts in accordance with Article 61 to supplement this Regulation by establishing voluntary security attestation programmes allowing the developers or users of products with digital elements qualifying as free and open-source software as well as other third parties to assess the conformity of such products with all or certain essential cybersecurity requirements or other obligations laid down in this Regulation.",
                  "Article": "Article 25",
                  "ActorType": "Developers_Open_Source"
                },
                "color": "#76e8e3",
                "styles": {},
                "label": "In order to facilitate the due diligence obligation set out in Article 13(5), in particular as regards manufacturers that integrate free and open-source software components in their products with digital elements, the Commission is empowered to adopt delegated acts in accordance with Article 61 to supplement this Regulation by establishing voluntary security attestation programmes allowing the developers or users of products with digital elements qualifying as free and open-source software as well as other third parties to assess the conformity of such products with all or certain essential cybersecurity requirements or other obligations laid down in this Regulation.",
                "scale_factor": 1,
                "type": "#76e8e3",
                "size": [
                  55,
                  55
                ],
                "position": [
                  0,
                  0
                ]
              },
              {
                "id": "Developers_Open_Source-12",
                "properties": {
                  "label": "For the purpose of complying with paragraph 1, manufacturers shall exercise due diligence when integrating components sourced from third parties so that those components do not compromise the cybersecurity of the product with digital elements, including when integrating components of free and open-source software that have not been made available on the market in the course of a commercial activity.",
                  "Article": "Article 13 §5",
                  "ActorType": "Developers_Open_Source"
                },
                "color": "#76e8e3",
                "styles": {},
                "label": "For the purpose of complying with paragraph 1, manufacturers shall exercise due diligence when integrating components sourced from third parties so that those components do not compromise the cybersecurity of the product with digital elements, including when integrating components of free and open-source software that have not been made available on the market in the course of a commercial activity.",
                "scale_factor": 1,
                "type": "#76e8e3",
                "size": [
                  55,
                  55
                ],
                "position": [
                  0,
                  0
                ]
              },
              {
                "id": "Developers_Open_Source-18",
                "properties": {
                  "label": "The obligations laid down in Article 14(1) shall apply to open-source software stewards to the extent that they are involved in the development of the products with digital elements.",
                  "Article": "Article 24 §3",
                  "ActorType": "Developers_Open_Source"
                },
                "color": "#76e8e3",
                "styles": {},
                "label": "The obligations laid down in Article 14(1) shall apply to open-source software stewards to the extent that they are involved in the development of the products with digital elements.",
                "scale_factor": 1,
                "type": "#76e8e3",
                "size": [
                  55,
                  55
                ],
                "position": [
                  0,
                  0
                ]
              },
              {
                "id": "Developers_Open_Source-19",
                "properties": {
                  "label": "A manufacturer shall notify any actively exploited vulnerability contained in the product with digital elements that it becomes aware of simultaneously to the CSIRT designated as coordinator and to ENISA.",
                  "Article": "Article 14 §1",
                  "ActorType": "Developers_Open_Source"
                },
                "color": "#76e8e3",
                "styles": {},
                "label": "A manufacturer shall notify any actively exploited vulnerability contained in the product with digital elements that it becomes aware of simultaneously to the CSIRT designated as coordinator and to ENISA.",
                "scale_factor": 1,
                "type": "#76e8e3",
                "size": [
                  55,
                  55
                ],
                "position": [
                  0,
                  0
                ]
              },
              {
                "id": "Developers_Open_Source-20",
                "properties": {
                  "label": "For the purposes of the notification referred to in paragraph 1, the manufacturer shall submit:",
                  "Article": "Article 14 §2",
                  "ActorType": "Developers_Open_Source"
                },
                "color": "#76e8e3",
                "styles": {},
                "label": "For the purposes of the notification referred to in paragraph 1, the manufacturer shall submit:",
                "scale_factor": 1,
                "type": "#76e8e3",
                "size": [
                  55,
                  55
                ],
                "position": [
                  0,
                  0
                ]
              },
              {
                "id": "Developers_Open_Source-21",
                "properties": {
                  "label": "(a) an early warning notification of an actively exploited vulnerability, without undue delay and in any event within 24 hours of the manufacturer becoming aware of it, indicating, where applicable, the Member States on the territory of which the manufacturer is aware that their product with digital elements has been made available;",
                  "Article": "Article 14 §2 (a)",
                  "ActorType": "Developers_Open_Source"
                },
                "color": "#76e8e3",
                "styles": {},
                "label": "(a) an early warning notification of an actively exploited vulnerability, without undue delay and in any event within 24 hours of the manufacturer becoming aware of it, indicating, where applicable, the Member States on the territory of which the manufacturer is aware that their product with digital elements has been made available;",
                "scale_factor": 1,
                "type": "#76e8e3",
                "size": [
                  55,
                  55
                ],
                "position": [
                  0,
                  0
                ]
              },
              {
                "id": "Developers_Open_Source-22",
                "properties": {
                  "label": "(b) unless the relevant information has already been provided, a vulnerability notification, without undue delay and in any event within 72 hours of the manufacturer becoming aware of the actively exploited vulnerability, which shall provide general information, as available, about the product with digital elements concerned, the general nature of the exploit and of the vulnerability concerned as well as any corrective or mitigating measures taken, and corrective or mitigating measures that users can take, and which shall also indicate, where applicable, how sensitive the manufacturer considers the notified information to be;",
                  "Article": "Article 14 §2 (b)",
                  "ActorType": "Developers_Open_Source"
                },
                "color": "#76e8e3",
                "styles": {},
                "label": "(b) unless the relevant information has already been provided, a vulnerability notification, without undue delay and in any event within 72 hours of the manufacturer becoming aware of the actively exploited vulnerability, which shall provide general information, as available, about the product with digital elements concerned, the general nature of the exploit and of the vulnerability concerned as well as any corrective or mitigating measures taken, and corrective or mitigating measures that users can take, and which shall also indicate, where applicable, how sensitive the manufacturer considers the notified information to be;",
                "scale_factor": 1,
                "type": "#76e8e3",
                "size": [
                  55,
                  55
                ],
                "position": [
                  0,
                  0
                ]
              },
              {
                "id": "Developers_Open_Source-23",
                "properties": {
                  "label": "(c) unless the relevant information has already been provided, a final report, no later than 14 days after a corrective or mitigating measure is available, including at least the following: (i) a description of the vulnerability, including its severity and impact; (ii) where available, information concerning any malicious actor that has exploited or that is exploiting the vulnerability; (iii) details about the security update or other corrective measures that have been made available to remedy the vulnerability.",
                  "Article": "Article 14 §2 (c)",
                  "ActorType": "Developers_Open_Source"
                },
                "color": "#76e8e3",
                "styles": {},
                "label": "(c) unless the relevant information has already been provided, a final report, no later than 14 days after a corrective or mitigating measure is available, including at least the following: (i) a description of the vulnerability, including its severity and impact; (ii) where available, information concerning any malicious actor that has exploited or that is exploiting the vulnerability; (iii) details about the security update or other corrective measures that have been made available to remedy the vulnerability.",
                "scale_factor": 1,
                "type": "#76e8e3",
                "size": [
                  55,
                  55
                ],
                "position": [
                  0,
                  0
                ]
              },
              {
                "id": "Developers_Open_Source-24",
                "properties": {
                  "label": "The obligations laid down in Article 14(3) and (8) shall apply to open-source software stewards to the extent that severe incidents having an impact on the security of products with digital elements affect network and information systems provided by the open-source software stewards for the development of such products.",
                  "Article": "Article 24 §3",
                  "ActorType": "Developers_Open_Source"
                },
                "color": "#76e8e3",
                "styles": {},
                "label": "The obligations laid down in Article 14(3) and (8) shall apply to open-source software stewards to the extent that severe incidents having an impact on the security of products with digital elements affect network and information systems provided by the open-source software stewards for the development of such products.",
                "scale_factor": 1,
                "type": "#76e8e3",
                "size": [
                  55,
                  55
                ],
                "position": [
                  0,
                  0
                ]
              },
              {
                "id": "Developers_Open_Source-25",
                "properties": {
                  "label": "A manufacturer shall notify any severe incident having an impact on the security of the product with digital elements that it becomes aware of simultaneously to the CSIRT designated as coordinator and to ENISA.",
                  "Article": "Article 14 §3",
                  "ActorType": "Developers_Open_Source"
                },
                "color": "#76e8e3",
                "styles": {},
                "label": "A manufacturer shall notify any severe incident having an impact on the security of the product with digital elements that it becomes aware of simultaneously to the CSIRT designated as coordinator and to ENISA.",
                "scale_factor": 1,
                "type": "#76e8e3",
                "size": [
                  55,
                  55
                ],
                "position": [
                  0,
                  0
                ]
              },
              {
                "id": "Developers_Open_Source-26",
                "properties": {
                  "label": "For the purposes of the notification referred to in paragraph 3, the manufacturer shall submit:",
                  "Article": "Article 14 §4",
                  "ActorType": "Developers_Open_Source"
                },
                "color": "#76e8e3",
                "styles": {},
                "label": "For the purposes of the notification referred to in paragraph 3, the manufacturer shall submit:",
                "scale_factor": 1,
                "type": "#76e8e3",
                "size": [
                  55,
                  55
                ],
                "position": [
                  0,
                  0
                ]
              },
              {
                "id": "Developers_Open_Source-27",
                "properties": {
                  "label": "(a) an early warning notification of a severe incident having an impact on the security of the product with digital elements, without undue delay and in any event within 24 hours of the manufacturer becoming aware of it, including at least whether the incident is suspected of being caused by unlawful or malicious acts, which shall also indicate, where applicable, the Member States on the territory of which the manufacturer is aware that their product with digital elements has been made available;",
                  "Article": "Article 14 §4 (a)",
                  "ActorType": "Developers_Open_Source"
                },
                "color": "#76e8e3",
                "styles": {},
                "label": "(a) an early warning notification of a severe incident having an impact on the security of the product with digital elements, without undue delay and in any event within 24 hours of the manufacturer becoming aware of it, including at least whether the incident is suspected of being caused by unlawful or malicious acts, which shall also indicate, where applicable, the Member States on the territory of which the manufacturer is aware that their product with digital elements has been made available;",
                "scale_factor": 1,
                "type": "#76e8e3",
                "size": [
                  55,
                  55
                ],
                "position": [
                  0,
                  0
                ]
              },
              {
                "id": "Developers_Open_Source-28",
                "properties": {
                  "label": "(b) unless the relevant information has already been provided, an incident notification, without undue delay and in any event within 72 hours of the manufacturer becoming aware of the incident, which shall provide general information, where available, about the nature of the incident, an initial assessment of the incident, as well as any corrective or mitigating measures taken, and corrective or mitigating measures that users can take, and which shall also indicate, where applicable, how sensitive the manufacturer considers the notified information to be;",
                  "Article": "Article 14 §4 (b)",
                  "ActorType": "Developers_Open_Source"
                },
                "color": "#76e8e3",
                "styles": {},
                "label": "(b) unless the relevant information has already been provided, an incident notification, without undue delay and in any event within 72 hours of the manufacturer becoming aware of the incident, which shall provide general information, where available, about the nature of the incident, an initial assessment of the incident, as well as any corrective or mitigating measures taken, and corrective or mitigating measures that users can take, and which shall also indicate, where applicable, how sensitive the manufacturer considers the notified information to be;",
                "scale_factor": 1,
                "type": "#76e8e3",
                "size": [
                  55,
                  55
                ],
                "position": [
                  0,
                  0
                ]
              },
              {
                "id": "Developers_Open_Source-29",
                "properties": {
                  "label": "(c) unless the relevant information has already been provided, a final report, within one month after the submission of the incident notification under point (b), including at least the following: (i) a detailed description of the incident, including its severity and impact; (ii) the type of threat or root cause that is likely to have triggered the incident; (iii) applied and ongoing mitigation measures.",
                  "Article": "Article 14 §4 (c)",
                  "ActorType": "Developers_Open_Source"
                },
                "color": "#76e8e3",
                "styles": {},
                "label": "(c) unless the relevant information has already been provided, a final report, within one month after the submission of the incident notification under point (b), including at least the following: (i) a detailed description of the incident, including its severity and impact; (ii) the type of threat or root cause that is likely to have triggered the incident; (iii) applied and ongoing mitigation measures.",
                "scale_factor": 1,
                "type": "#76e8e3",
                "size": [
                  55,
                  55
                ],
                "position": [
                  0,
                  0
                ]
              },
              {
                "id": "Developers_Open_Source-30",
                "properties": {
                  "label": "For the purposes of paragraph 3, an incident having an impact on the security of the product with digital elements shall be considered to be severe where:",
                  "Article": "Article 14 §5",
                  "ActorType": "Developers_Open_Source"
                },
                "color": "#76e8e3",
                "styles": {},
                "label": "For the purposes of paragraph 3, an incident having an impact on the security of the product with digital elements shall be considered to be severe where:",
                "scale_factor": 1,
                "type": "#76e8e3",
                "size": [
                  55,
                  55
                ],
                "position": [
                  0,
                  0
                ]
              },
              {
                "id": "Developers_Open_Source-31",
                "properties": {
                  "label": "(a) it negatively affects or is capable of negatively affecting the ability of a product with digital elements to protect the availability, authenticity, integrity or confidentiality of sensitive or important data or functions; or",
                  "Article": "Article 14 §5 (a)",
                  "ActorType": "Developers_Open_Source"
                },
                "color": "#76e8e3",
                "styles": {},
                "label": "(a) it negatively affects or is capable of negatively affecting the ability of a product with digital elements to protect the availability, authenticity, integrity or confidentiality of sensitive or important data or functions; or",
                "scale_factor": 1,
                "type": "#76e8e3",
                "size": [
                  55,
                  55
                ],
                "position": [
                  0,
                  0
                ]
              },
              {
                "id": "Developers_Open_Source-32",
                "properties": {
                  "label": "(b) it has led or is capable of leading to the introduction or execution of malicious code in a product with digital elements or in the network and information systems of a user of the product with digital elements",
                  "Article": "Article 14 §5 (b)",
                  "ActorType": "Developers_Open_Source"
                },
                "color": "#76e8e3",
                "styles": {},
                "label": "(b) it has led or is capable of leading to the introduction or execution of malicious code in a product with digital elements or in the network and information systems of a user of the product with digital elements",
                "scale_factor": 1,
                "type": "#76e8e3",
                "size": [
                  55,
                  55
                ],
                "position": [
                  0,
                  0
                ]
              },
              {
                "id": "Developers_Open_Source-33",
                "properties": {
                  "label": "After becoming aware of an actively exploited vulnerability or a severe incident having an impact on the security of the product with digital elements, the manufacturer shall inform the impacted users of the product with digital elements, and where appropriate all users, of that vulnerability or incident and, where necessary, of any risk mitigation and corrective measures that the users can deploy to mitigate the impact of that vulnerability or incident, where appropriate in a structured, machine-readable format that is easily automatically processable. Where the manufacturer fails to inform the users of the product with digital elements in a timely manner, the notified CSIRTs designated as coordinators may provide such information to the users when considered to be proportionate and necessary for preventing or mitigating the impact of that vulnerability or incident.",
                  "Article": "Article 14 §8",
                  "ActorType": "Developers_Open_Source"
                },
                "color": "#76e8e3",
                "styles": {},
                "label": "After becoming aware of an actively exploited vulnerability or a severe incident having an impact on the security of the product with digital elements, the manufacturer shall inform the impacted users of the product with digital elements, and where appropriate all users, of that vulnerability or incident and, where necessary, of any risk mitigation and corrective measures that the users can deploy to mitigate the impact of that vulnerability or incident, where appropriate in a structured, machine-readable format that is easily automatically processable. Where the manufacturer fails to inform the users of the product with digital elements in a timely manner, the notified CSIRTs designated as coordinators may provide such information to the users when considered to be proportionate and necessary for preventing or mitigating the impact of that vulnerability or incident.",
                "scale_factor": 1,
                "type": "#76e8e3",
                "size": [
                  55,
                  55
                ],
                "position": [
                  0,
                  0
                ]
              }
            ],
            "_overview": {
              "enabled": null,
              "overview_set": false
            },
            "_selected_graph": [
              [
                {
                  "id": "IMPORTANT_Critical_products-45",
                  "properties": {
                    "label": "2. the single point of contact where information about vulnerabilities of the product with digital elements can be reported and received, and where the manufacturer’s policy on coordinated vulnerability disclosure can be found;",
                    "Article": "Annex II, §2",
                    "ActorType": "IMPORTANT_Critical_products"
                  }
                }
              ],
              []
            ],
            "_sidebar": {
              "enabled": false,
              "start_with": null
            },
            "_view_count": null,
            "_view_module": "yfiles-jupyter-graphs",
            "_view_module_version": "^1.10.1",
            "_view_name": "GraphView",
            "layout": "IPY_MODEL_86c832972bb94b53b150cd076c3fbb82",
            "tabbable": null,
            "tooltip": null
          }
        },
        "86c832972bb94b53b150cd076c3fbb82": {
          "model_module": "@jupyter-widgets/base",
          "model_name": "LayoutModel",
          "model_module_version": "2.0.0",
          "state": {
            "_model_module": "@jupyter-widgets/base",
            "_model_module_version": "2.0.0",
            "_model_name": "LayoutModel",
            "_view_count": null,
            "_view_module": "@jupyter-widgets/base",
            "_view_module_version": "2.0.0",
            "_view_name": "LayoutView",
            "align_content": null,
            "align_items": null,
            "align_self": null,
            "border_bottom": null,
            "border_left": null,
            "border_right": null,
            "border_top": null,
            "bottom": null,
            "display": null,
            "flex": null,
            "flex_flow": null,
            "grid_area": null,
            "grid_auto_columns": null,
            "grid_auto_flow": null,
            "grid_auto_rows": null,
            "grid_column": null,
            "grid_gap": null,
            "grid_row": null,
            "grid_template_areas": null,
            "grid_template_columns": null,
            "grid_template_rows": null,
            "height": "800px",
            "justify_content": null,
            "justify_items": null,
            "left": null,
            "margin": null,
            "max_height": null,
            "max_width": null,
            "min_height": null,
            "min_width": null,
            "object_fit": null,
            "object_position": null,
            "order": null,
            "overflow": null,
            "padding": null,
            "right": null,
            "top": null,
            "visibility": null,
            "width": "100%"
          }
        },
        "d1183ea32656410dbec1d69cff35b39d": {
          "model_module": "yfiles-jupyter-graphs",
          "model_name": "GraphModel",
          "model_module_version": "^1.10.1",
          "state": {
            "_context_pane_mapping": [
              {
                "id": "Neighborhood",
                "title": "Neighborhood"
              },
              {
                "id": "Data",
                "title": "Data"
              },
              {
                "id": "Search",
                "title": "Search"
              },
              {
                "id": "About",
                "title": "About"
              }
            ],
            "_data_importer": "unknown",
            "_directed": true,
            "_dom_classes": [],
            "_edges": [],
            "_graph_layout": {},
            "_highlight": [],
            "_license": {},
            "_model_module": "yfiles-jupyter-graphs",
            "_model_module_version": "^1.10.1",
            "_model_name": "GraphModel",
            "_neighborhood": {},
            "_nodes": [],
            "_overview": {
              "enabled": null,
              "overview_set": false
            },
            "_selected_graph": [
              [],
              []
            ],
            "_sidebar": {
              "enabled": false,
              "start_with": null
            },
            "_view_count": null,
            "_view_module": "yfiles-jupyter-graphs",
            "_view_module_version": "^1.10.1",
            "_view_name": "GraphView",
            "layout": "IPY_MODEL_c00277f1c2364dfd8765e974c3b019a0",
            "tabbable": null,
            "tooltip": null
          }
        },
        "c00277f1c2364dfd8765e974c3b019a0": {
          "model_module": "@jupyter-widgets/base",
          "model_name": "LayoutModel",
          "model_module_version": "2.0.0",
          "state": {
            "_model_module": "@jupyter-widgets/base",
            "_model_module_version": "2.0.0",
            "_model_name": "LayoutModel",
            "_view_count": null,
            "_view_module": "@jupyter-widgets/base",
            "_view_module_version": "2.0.0",
            "_view_name": "LayoutView",
            "align_content": null,
            "align_items": null,
            "align_self": null,
            "border_bottom": null,
            "border_left": null,
            "border_right": null,
            "border_top": null,
            "bottom": null,
            "display": null,
            "flex": null,
            "flex_flow": null,
            "grid_area": null,
            "grid_auto_columns": null,
            "grid_auto_flow": null,
            "grid_auto_rows": null,
            "grid_column": null,
            "grid_gap": null,
            "grid_row": null,
            "grid_template_areas": null,
            "grid_template_columns": null,
            "grid_template_rows": null,
            "height": "500px",
            "justify_content": null,
            "justify_items": null,
            "left": null,
            "margin": null,
            "max_height": null,
            "max_width": null,
            "min_height": null,
            "min_width": null,
            "object_fit": null,
            "object_position": null,
            "order": null,
            "overflow": null,
            "padding": null,
            "right": null,
            "top": null,
            "visibility": null,
            "width": "100%"
          }
        }
      }
    }
  },
  "cells": [
    {
      "cell_type": "markdown",
      "metadata": {
        "id": "view-in-github",
        "colab_type": "text"
      },
      "source": [
        "<a href=\"https://colab.research.google.com/gist/PaulGG-Code/88ef96c25b893f25387c1dc9b5343048/cra-req.ipynb\" target=\"_parent\"><img src=\"https://colab.research.google.com/assets/colab-badge.svg\" alt=\"Open In Colab\"/></a>"
      ]
    },
    {
      "cell_type": "code",
      "execution_count": null,
      "metadata": {
        "colab": {
          "base_uri": "https://localhost:8080/",
          "height": 817,
          "referenced_widgets": [
            "680f8d764d764e8e98e4f677f6b26395",
            "86c832972bb94b53b150cd076c3fbb82"
          ]
        },
        "id": "CPp3reDIQGKW",
        "outputId": "1fc2771e-6096-468c-ab8b-34e48e8d29e0"
      },
      "outputs": [
        {
          "output_type": "display_data",
          "data": {
            "text/plain": [
              "GraphWidget(layout=Layout(height='800px', width='100%'))"
            ],
            "application/vnd.jupyter.widget-view+json": {
              "version_major": 2,
              "version_minor": 0,
              "model_id": "680f8d764d764e8e98e4f677f6b26395"
            }
          },
          "metadata": {
            "application/vnd.jupyter.widget-view+json": {
              "colab": {
                "custom_widget_manager": {
                  "url": "https://ssl.gstatic.com/colaboratory-static/widgets/colab-cdn-widget-manager/2b70e893a8ba7c0f/manager.min.js"
                }
              }
            }
          }
        }
      ],
      "source": [
        "# Install yfiles package and complete imports\n",
        "%pip install yfiles_jupyter_graphs pandas --quiet\n",
        "from yfiles_jupyter_graphs import GraphWidget\n",
        "import pandas as pd\n",
        "from collections import defaultdict\n",
        "from typing import Dict\n",
        "\n",
        "# Import and enable Google Colab custom widget manager (required for running in Colab)\n",
        "try:\n",
        "    import google.colab\n",
        "    from google.colab import output\n",
        "    output.enable_custom_widget_manager()\n",
        "except:\n",
        "    pass\n",
        "\n",
        "# Load CSV files\n",
        "csv_files = {\n",
        "    \"Resellers\": \"/content/CRA-Requirements - Resellers_ other economic actors.csv\",\n",
        "    \"Distributors\": \"/content/CRA-Requirements - Distributors.csv\",\n",
        "    \"Importers\": \"/content/CRA-Requirements - Importers.csv\",\n",
        "    \"Important_Critical_Software\": \"/content/CRA-Requirements - Important_Critical_Software.csv\",\n",
        "    \"IMPORTANT_Critical_products\": \"/content/CRA-Requirements - IMPORTANT_Critical_products.csv\",\n",
        "    \"non_IMPORTANT_products_Software\": \"/content/CRA-Requirements - non-IMPORTANT products_Software.csv\",\n",
        "    \"Developers_Open_Source\": \"/content/CRA-Requirements - Developers of open source software.csv\"\n",
        "}\n",
        "\n",
        "# Extract nodes and common requirements\n",
        "nodes = []\n",
        "common_requirements = defaultdict(list)\n",
        "\n",
        "for prefix, file_path in csv_files.items():\n",
        "    df = pd.read_csv(file_path)\n",
        "    for idx, row in df.iterrows():\n",
        "        requirement = row.get('Requirement') or row.get('Unnamed: 1')\n",
        "        reference = row.get('Reference') or row.get('Unnamed: 2')\n",
        "        if pd.notna(requirement) and pd.notna(reference) and \"Requirement\" not in requirement:\n",
        "            node_id = f\"{prefix}-{idx}\"\n",
        "            nodes.append({\n",
        "                \"id\": node_id,\n",
        "                \"properties\": {\"label\": requirement.strip(), \"Article\": reference.strip(), \"ActorType\": prefix}\n",
        "            })\n",
        "            normalized_req = requirement.strip().lower()\n",
        "            common_requirements[normalized_req].append(node_id)\n",
        "\n",
        "# Create edges connecting nodes with common requirements\n",
        "edges = []\n",
        "for req, nodes_list in common_requirements.items():\n",
        "    if len(nodes_list) > 1:\n",
        "        for i in range(len(nodes_list)-1):\n",
        "            edges.append({\n",
        "                \"id\": f\"{nodes_list[i]}_{nodes_list[i+1]}\",\n",
        "                \"start\": nodes_list[i],\n",
        "                \"end\": nodes_list[i+1],\n",
        "                \"properties\": {\"label\": \"COMMON_REQUIREMENT\"}\n",
        "            })\n",
        "\n",
        "# Define the graph widget\n",
        "w = GraphWidget()\n",
        "w.nodes = nodes\n",
        "w.edges = edges\n",
        "w.directed = True\n",
        "\n",
        "# Node color mapping\n",
        "def custom_node_color_mapping(node: Dict):\n",
        "    colors = {\n",
        "        \"Resellers\": \"#e8a876\",\n",
        "        \"Distributors\": \"#ede772\",\n",
        "        \"Importers\": \"#93e876\",\n",
        "        \"Important_Critical_Software\": \"#76c0e8\",\n",
        "        \"IMPORTANT_Critical_products\": \"#e362d4\",\n",
        "        \"non_IMPORTANT_products_Software\": \"#a876e8\",\n",
        "        \"Developers_Open_Source\": \"#76e8e3\"\n",
        "    }\n",
        "    return colors.get(node['properties']['ActorType'], \"#CCCCCC\")\n",
        "\n",
        "# Define the graph\n",
        "w = GraphWidget()\n",
        "w.nodes = nodes\n",
        "w.edges = edges\n",
        "w.directed = True\n",
        "w.set_node_color_mapping(custom_node_color_mapping)\n",
        "\n",
        "# Display the main graph\n",
        "display(w)\n"
      ]
    },
    {
      "cell_type": "markdown",
      "source": [
        "This subgraph focuses on the nodes and edges related to Article 16 of the AI regulation. It provides a visual representation of the specific requirements and their relationships within Article 16, allowing for a more targeted analysis of this particular section of the regulation."
      ],
      "metadata": {
        "id": "huGhheJq9bPm"
      }
    },
    {
      "cell_type": "code",
      "source": [
        "article = \"article 16\"\n",
        "article_nodes = [node for node in w.nodes if article in node['properties']['Article'].lower()]\n",
        "article_edges = [edge for edge in w.edges if edge['start'] in [n['id'] for n in article_nodes] or edge['end'] in [n['id'] for n in article_nodes]]\n",
        "\n",
        "article_graph = GraphWidget()\n",
        "article_graph.nodes = article_nodes\n",
        "article_graph.edges = article_edges\n",
        "article_graph.directed = True\n",
        "article_graph.set_node_color_mapping(custom_node_color_mapping)\n",
        "display(article_graph)\n"
      ],
      "metadata": {
        "colab": {
          "base_uri": "https://localhost:8080/",
          "height": 517,
          "referenced_widgets": [
            "d1183ea32656410dbec1d69cff35b39d",
            "c00277f1c2364dfd8765e974c3b019a0"
          ]
        },
        "id": "8UCGFHcs9WUE",
        "outputId": "d9ae4e53-e345-4d88-c20d-5c4129a0bc62"
      },
      "execution_count": null,
      "outputs": [
        {
          "output_type": "display_data",
          "data": {
            "text/plain": [
              "GraphWidget(layout=Layout(height='500px', width='100%'))"
            ],
            "application/vnd.jupyter.widget-view+json": {
              "version_major": 2,
              "version_minor": 0,
              "model_id": "d1183ea32656410dbec1d69cff35b39d"
            }
          },
          "metadata": {
            "application/vnd.jupyter.widget-view+json": {
              "colab": {
                "custom_widget_manager": {
                  "url": "https://ssl.gstatic.com/colaboratory-static/widgets/colab-cdn-widget-manager/2b70e893a8ba7c0f/manager.min.js"
                }
              }
            }
          }
        }
      ]
    },
    {
      "cell_type": "code",
      "source": [
        "from google.colab import drive\n",
        "drive.mount('/content/drive')"
      ],
      "metadata": {
        "id": "EqF_0zwm_KIA"
      },
      "execution_count": null,
      "outputs": []
    }
  ]
}
